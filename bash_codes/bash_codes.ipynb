{
 "cells": [
  {
   "cell_type": "markdown",
   "id": "33999838-e6f1-4fcb-865d-ddbeb97e3ba5",
   "metadata": {},
   "source": [
    "## If statesment in Bash"
   ]
  },
  {
   "cell_type": "markdown",
   "id": "7aa6998b-e24d-49a9-a991-4f47ebc2ab2f",
   "metadata": {},
   "source": [
    "`if [condition-is-true]\n",
    "then\n",
    "    command 1\n",
    "    command 2\n",
    "    command N\n",
    "fi`"
   ]
  }
 ],
 "metadata": {
  "kernelspec": {
   "display_name": "Bash",
   "language": "bash",
   "name": "bash"
  },
  "language_info": {
   "codemirror_mode": "shell",
   "file_extension": ".sh",
   "mimetype": "text/x-sh",
   "name": "bash"
  },
  "widgets": {
   "application/vnd.jupyter.widget-state+json": {
    "state": {},
    "version_major": 2,
    "version_minor": 0
   }
  }
 },
 "nbformat": 4,
 "nbformat_minor": 5
}
