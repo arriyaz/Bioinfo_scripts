{
  "nbformat": 4,
  "nbformat_minor": 0,
  "metadata": {
    "kernelspec": {
      "display_name": "Python 3",
      "language": "python",
      "name": "python3"
    },
    "language_info": {
      "codemirror_mode": {
        "name": "ipython",
        "version": 3
      },
      "file_extension": ".py",
      "mimetype": "text/x-python",
      "name": "python",
      "nbconvert_exporter": "python",
      "pygments_lexer": "ipython3",
      "version": "3.7.3"
    },
    "colab": {
      "name": "Jupyter Notebook formatting.ipynb",
      "provenance": []
    }
  },
  "cells": [
    {
      "cell_type": "markdown",
      "metadata": {
        "id": "-VJrokzI-31z"
      },
      "source": [
        "[lin](#section2)\n",
        "\n",
        "Click on the link above to jump down to bottom of page"
      ]
    },
    {
      "cell_type": "markdown",
      "metadata": {
        "id": "j_fcieeu-318"
      },
      "source": [
        "Horizontal line as separator\n",
        "***\n"
      ]
    },
    {
      "cell_type": "markdown",
      "metadata": {
        "id": "iB-dArlk-319"
      },
      "source": [
        "Numbered list can start with number. and a space. Eg: 1. text\n",
        "\n",
        "1. This\n",
        "2. Is\n",
        "3. A\n",
        "4. Numbered\n",
        "5. List"
      ]
    },
    {
      "cell_type": "markdown",
      "metadata": {
        "id": "MUsYAPLv-31-"
      },
      "source": [
        "- list1\n",
        "- list2\n",
        " - sublist1\n",
        " - sublist2\n",
        "- list3\n",
        "- list4"
      ]
    },
    {
      "cell_type": "markdown",
      "metadata": {
        "id": "OAjc-lWR-31-"
      },
      "source": [
        "Line break<br>\n",
        "can be<br>\n",
        "done this<br>\n",
        "way\n",
        "\n",
        "This is without\n",
        "using the \n",
        "line break tag"
      ]
    },
    {
      "cell_type": "markdown",
      "metadata": {
        "id": "O68bOzw1-31-"
      },
      "source": [
        "<font color=blue>Text</font>\n",
        "<font color=red>Text</font>\n",
        "<font color=green>Text</font>\n",
        "<font color=pink>Text</font>\n",
        "<font color=yellow>Text</font>"
      ]
    },
    {
      "cell_type": "markdown",
      "metadata": {
        "id": "mQ1eAHlY-31_"
      },
      "source": [
        "> this is a sample text indentation"
      ]
    },
    {
      "cell_type": "markdown",
      "metadata": {
        "id": "XzqhYfZo-31_"
      },
      "source": [
        "# Title\n",
        "## Heading 2\n",
        "### Heading 3\n",
        "#### Heading 4\n",
        "##### Normal size - smallest possible heading"
      ]
    },
    {
      "cell_type": "markdown",
      "metadata": {
        "id": "EjSOLcD4-32A"
      },
      "source": [
        "__Bold text__"
      ]
    },
    {
      "cell_type": "markdown",
      "metadata": {
        "id": "UdITkkc0-32A"
      },
      "source": [
        "_Italics_"
      ]
    },
    {
      "cell_type": "markdown",
      "metadata": {
        "id": "XrgMlU1X-32B"
      },
      "source": [
        "`this is text for monospace font`"
      ]
    },
    {
      "cell_type": "markdown",
      "metadata": {
        "id": "FENHUAmm-32B"
      },
      "source": [
        "Mathematical symbols $>$\n",
        "\n",
        "$x = x + y$"
      ]
    },
    {
      "cell_type": "markdown",
      "metadata": {
        "id": "a6nMj5Vd-32B"
      },
      "source": [
        "\n",
        "External links\n",
        "\n",
        "[Jupyter Notebook formatting](https://medium.com/ibm-data-science-experience/markdown-for-jupyter-notebooks-cheatsheet-386c05aeebed)"
      ]
    },
    {
      "cell_type": "markdown",
      "metadata": {
        "id": "SJBB0680-32C"
      },
      "source": [
        "Images inline\n",
        "![image](https://imgbbb.com/images/2019/12/18/Screenshot-2019-12-18-at-12.55.36-PM.png)\n"
      ]
    },
    {
      "cell_type": "code",
      "metadata": {
        "id": "RI2LANzR-32D",
        "outputId": "58260fa4-8f21-49c9-a665-88b78ccf6fb5"
      },
      "source": [
        "!pip install jupyterthemes"
      ],
      "execution_count": null,
      "outputs": [
        {
          "output_type": "stream",
          "text": [
            "Requirement already satisfied: jupyterthemes in /Users/raghu/anaconda3/lib/python3.7/site-packages (0.20.0)\n",
            "Requirement already satisfied: matplotlib>=1.4.3 in /Users/raghu/anaconda3/lib/python3.7/site-packages (from jupyterthemes) (3.1.0)\n",
            "Requirement already satisfied: notebook>=5.6.0 in /Users/raghu/anaconda3/lib/python3.7/site-packages (from jupyterthemes) (6.0.0)\n",
            "Requirement already satisfied: lesscpy>=0.11.2 in /Users/raghu/anaconda3/lib/python3.7/site-packages (from jupyterthemes) (0.13.0)\n",
            "Requirement already satisfied: jupyter-core in /Users/raghu/anaconda3/lib/python3.7/site-packages (from jupyterthemes) (4.5.0)\n",
            "Requirement already satisfied: ipython>=5.4.1 in /Users/raghu/anaconda3/lib/python3.7/site-packages (from jupyterthemes) (7.7.0)\n",
            "Requirement already satisfied: cycler>=0.10 in /Users/raghu/anaconda3/lib/python3.7/site-packages (from matplotlib>=1.4.3->jupyterthemes) (0.10.0)\n",
            "Requirement already satisfied: kiwisolver>=1.0.1 in /Users/raghu/anaconda3/lib/python3.7/site-packages (from matplotlib>=1.4.3->jupyterthemes) (1.1.0)\n",
            "Requirement already satisfied: pyparsing!=2.0.4,!=2.1.2,!=2.1.6,>=2.0.1 in /Users/raghu/anaconda3/lib/python3.7/site-packages (from matplotlib>=1.4.3->jupyterthemes) (2.4.0)\n",
            "Requirement already satisfied: python-dateutil>=2.1 in /Users/raghu/anaconda3/lib/python3.7/site-packages (from matplotlib>=1.4.3->jupyterthemes) (2.8.0)\n",
            "Requirement already satisfied: numpy>=1.11 in /Users/raghu/anaconda3/lib/python3.7/site-packages (from matplotlib>=1.4.3->jupyterthemes) (1.16.4)\n",
            "Requirement already satisfied: pyzmq>=17 in /Users/raghu/anaconda3/lib/python3.7/site-packages (from notebook>=5.6.0->jupyterthemes) (18.0.0)\n",
            "Requirement already satisfied: jupyter-client>=5.3.1 in /Users/raghu/anaconda3/lib/python3.7/site-packages (from notebook>=5.6.0->jupyterthemes) (5.3.1)\n",
            "Requirement already satisfied: terminado>=0.8.1 in /Users/raghu/anaconda3/lib/python3.7/site-packages (from notebook>=5.6.0->jupyterthemes) (0.8.2)\n",
            "Requirement already satisfied: nbconvert in /Users/raghu/anaconda3/lib/python3.7/site-packages (from notebook>=5.6.0->jupyterthemes) (5.5.0)\n",
            "Requirement already satisfied: ipykernel in /Users/raghu/anaconda3/lib/python3.7/site-packages (from notebook>=5.6.0->jupyterthemes) (5.1.1)\n",
            "Requirement already satisfied: nbformat in /Users/raghu/anaconda3/lib/python3.7/site-packages (from notebook>=5.6.0->jupyterthemes) (4.4.0)\n",
            "Requirement already satisfied: jinja2 in /Users/raghu/anaconda3/lib/python3.7/site-packages (from notebook>=5.6.0->jupyterthemes) (2.10.1)\n",
            "Requirement already satisfied: prometheus-client in /Users/raghu/anaconda3/lib/python3.7/site-packages (from notebook>=5.6.0->jupyterthemes) (0.7.1)\n",
            "Requirement already satisfied: ipython-genutils in /Users/raghu/anaconda3/lib/python3.7/site-packages (from notebook>=5.6.0->jupyterthemes) (0.2.0)\n",
            "Requirement already satisfied: tornado>=5.0 in /Users/raghu/anaconda3/lib/python3.7/site-packages (from notebook>=5.6.0->jupyterthemes) (6.0.3)\n",
            "Requirement already satisfied: Send2Trash in /Users/raghu/anaconda3/lib/python3.7/site-packages (from notebook>=5.6.0->jupyterthemes) (1.5.0)\n",
            "Requirement already satisfied: traitlets>=4.2.1 in /Users/raghu/anaconda3/lib/python3.7/site-packages (from notebook>=5.6.0->jupyterthemes) (4.3.2)\n",
            "Requirement already satisfied: ply in /Users/raghu/anaconda3/lib/python3.7/site-packages (from lesscpy>=0.11.2->jupyterthemes) (3.11)\n",
            "Requirement already satisfied: six in /Users/raghu/anaconda3/lib/python3.7/site-packages (from lesscpy>=0.11.2->jupyterthemes) (1.12.0)\n",
            "Requirement already satisfied: setuptools>=18.5 in /Users/raghu/anaconda3/lib/python3.7/site-packages (from ipython>=5.4.1->jupyterthemes) (41.0.1)\n",
            "Requirement already satisfied: backcall in /Users/raghu/anaconda3/lib/python3.7/site-packages (from ipython>=5.4.1->jupyterthemes) (0.1.0)\n",
            "Requirement already satisfied: jedi>=0.10 in /Users/raghu/anaconda3/lib/python3.7/site-packages (from ipython>=5.4.1->jupyterthemes) (0.13.3)\n",
            "Requirement already satisfied: decorator in /Users/raghu/anaconda3/lib/python3.7/site-packages (from ipython>=5.4.1->jupyterthemes) (4.4.0)\n",
            "Requirement already satisfied: pexpect; sys_platform != \"win32\" in /Users/raghu/anaconda3/lib/python3.7/site-packages (from ipython>=5.4.1->jupyterthemes) (4.7.0)\n",
            "Requirement already satisfied: pygments in /Users/raghu/anaconda3/lib/python3.7/site-packages (from ipython>=5.4.1->jupyterthemes) (2.4.2)\n",
            "Requirement already satisfied: prompt-toolkit<2.1.0,>=2.0.0 in /Users/raghu/anaconda3/lib/python3.7/site-packages (from ipython>=5.4.1->jupyterthemes) (2.0.9)\n",
            "Requirement already satisfied: appnope; sys_platform == \"darwin\" in /Users/raghu/anaconda3/lib/python3.7/site-packages (from ipython>=5.4.1->jupyterthemes) (0.1.0)\n",
            "Requirement already satisfied: pickleshare in /Users/raghu/anaconda3/lib/python3.7/site-packages (from ipython>=5.4.1->jupyterthemes) (0.7.5)\n",
            "Requirement already satisfied: defusedxml in /Users/raghu/anaconda3/lib/python3.7/site-packages (from nbconvert->notebook>=5.6.0->jupyterthemes) (0.6.0)\n",
            "Requirement already satisfied: entrypoints>=0.2.2 in /Users/raghu/anaconda3/lib/python3.7/site-packages (from nbconvert->notebook>=5.6.0->jupyterthemes) (0.3)\n",
            "Requirement already satisfied: mistune>=0.8.1 in /Users/raghu/anaconda3/lib/python3.7/site-packages (from nbconvert->notebook>=5.6.0->jupyterthemes) (0.8.4)\n",
            "Requirement already satisfied: bleach in /Users/raghu/anaconda3/lib/python3.7/site-packages (from nbconvert->notebook>=5.6.0->jupyterthemes) (3.1.0)\n",
            "Requirement already satisfied: testpath in /Users/raghu/anaconda3/lib/python3.7/site-packages (from nbconvert->notebook>=5.6.0->jupyterthemes) (0.4.2)\n",
            "Requirement already satisfied: pandocfilters>=1.4.1 in /Users/raghu/anaconda3/lib/python3.7/site-packages (from nbconvert->notebook>=5.6.0->jupyterthemes) (1.4.2)\n",
            "Requirement already satisfied: jsonschema!=2.5.0,>=2.4 in /Users/raghu/anaconda3/lib/python3.7/site-packages (from nbformat->notebook>=5.6.0->jupyterthemes) (3.0.1)\n",
            "Requirement already satisfied: MarkupSafe>=0.23 in /Users/raghu/anaconda3/lib/python3.7/site-packages (from jinja2->notebook>=5.6.0->jupyterthemes) (1.1.1)\n",
            "Requirement already satisfied: parso>=0.3.0 in /Users/raghu/anaconda3/lib/python3.7/site-packages (from jedi>=0.10->ipython>=5.4.1->jupyterthemes) (0.5.0)\n",
            "Requirement already satisfied: ptyprocess>=0.5 in /Users/raghu/anaconda3/lib/python3.7/site-packages (from pexpect; sys_platform != \"win32\"->ipython>=5.4.1->jupyterthemes) (0.6.0)\n",
            "Requirement already satisfied: wcwidth in /Users/raghu/anaconda3/lib/python3.7/site-packages (from prompt-toolkit<2.1.0,>=2.0.0->ipython>=5.4.1->jupyterthemes) (0.1.7)\n",
            "Requirement already satisfied: webencodings in /Users/raghu/anaconda3/lib/python3.7/site-packages (from bleach->nbconvert->notebook>=5.6.0->jupyterthemes) (0.5.1)\n",
            "Requirement already satisfied: attrs>=17.4.0 in /Users/raghu/anaconda3/lib/python3.7/site-packages (from jsonschema!=2.5.0,>=2.4->nbformat->notebook>=5.6.0->jupyterthemes) (19.1.0)\n",
            "Requirement already satisfied: pyrsistent>=0.14.0 in /Users/raghu/anaconda3/lib/python3.7/site-packages (from jsonschema!=2.5.0,>=2.4->nbformat->notebook>=5.6.0->jupyterthemes) (0.14.11)\n"
          ],
          "name": "stdout"
        }
      ]
    },
    {
      "cell_type": "code",
      "metadata": {
        "id": "cu9s_BK3-32E",
        "outputId": "d6a6676f-856b-44b5-9d73-6373652639d8"
      },
      "source": [
        "!jt -l"
      ],
      "execution_count": null,
      "outputs": [
        {
          "output_type": "stream",
          "text": [
            "Available Themes: \r\n",
            "   chesterish\r\n",
            "   grade3\r\n",
            "   gruvboxd\r\n",
            "   gruvboxl\r\n",
            "   monokai\r\n",
            "   oceans16\r\n",
            "   onedork\r\n",
            "   solarizedd\r\n",
            "   solarizedl\r\n"
          ],
          "name": "stdout"
        }
      ]
    },
    {
      "cell_type": "markdown",
      "metadata": {
        "id": "bdtwdvXO-32F"
      },
      "source": [
        "Embedding URLs"
      ]
    },
    {
      "cell_type": "code",
      "metadata": {
        "id": "vD09mR-l-32F",
        "outputId": "255abda8-470c-459c-dcbe-f9044a89dc3f"
      },
      "source": [
        "from IPython.display import IFrame\n",
        "IFrame('http://raghupro.com', width=800, height=450)"
      ],
      "execution_count": null,
      "outputs": [
        {
          "output_type": "execute_result",
          "data": {
            "text/html": [
              "\n",
              "        <iframe\n",
              "            width=\"800\"\n",
              "            height=\"450\"\n",
              "            src=\"http://raghupro.com\"\n",
              "            frameborder=\"0\"\n",
              "            allowfullscreen\n",
              "        ></iframe>\n",
              "        "
            ],
            "text/plain": [
              "<IPython.lib.display.IFrame at 0x10b230908>"
            ]
          },
          "metadata": {
            "tags": []
          },
          "execution_count": 12
        }
      ]
    },
    {
      "cell_type": "code",
      "metadata": {
        "id": "eZa9lFkG-32F",
        "outputId": "8f61784c-ee0e-4f80-facc-f3348badb8fd"
      },
      "source": [
        "from IPython.display import IFrame\n",
        "IFrame('https://www.w3.org/WAI/ER/tests/xhtml/testfiles/resources/pdf/dummy.pdf', width=800, height=450)"
      ],
      "execution_count": null,
      "outputs": [
        {
          "output_type": "execute_result",
          "data": {
            "text/html": [
              "\n",
              "        <iframe\n",
              "            width=\"800\"\n",
              "            height=\"450\"\n",
              "            src=\"https://www.w3.org/WAI/ER/tests/xhtml/testfiles/resources/pdf/dummy.pdf\"\n",
              "            frameborder=\"0\"\n",
              "            allowfullscreen\n",
              "        ></iframe>\n",
              "        "
            ],
            "text/plain": [
              "<IPython.lib.display.IFrame at 0x10b230550>"
            ]
          },
          "metadata": {
            "tags": []
          },
          "execution_count": 11
        }
      ]
    },
    {
      "cell_type": "markdown",
      "metadata": {
        "id": "F7h2grUa-32G"
      },
      "source": [
        "Embedding youtube video. \n",
        "\n",
        "A general youtube video link looks like this\n",
        "https://www.youtube.com/watch?v=RBSGKlAvoiM\n",
        "\n",
        "Copy the text after v= i.e. \"RBSGKlAvoiM\"\n",
        "\n",
        "Then use the code as given below"
      ]
    },
    {
      "cell_type": "code",
      "metadata": {
        "id": "7gCA4mh5-32G",
        "outputId": "d9dc1b03-fa1f-43ad-9cdf-d53451157e44"
      },
      "source": [
        "from IPython.display import YouTubeVideo\n",
        "YouTubeVideo('RBSGKlAvoiM', width=800, height=500)"
      ],
      "execution_count": null,
      "outputs": [
        {
          "output_type": "execute_result",
          "data": {
            "image/jpeg": "[encoded data removed]",
            "text/html": [
              "\n",
              "        <iframe\n",
              "            width=\"800\"\n",
              "            height=\"500\"\n",
              "            src=\"https://www.youtube.com/embed/RBSGKlAvoiM\"\n",
              "            frameborder=\"0\"\n",
              "            allowfullscreen\n",
              "        ></iframe>\n",
              "        "
            ],
            "text/plain": [
              "<IPython.lib.display.YouTubeVideo at 0x10b214048>"
            ]
          },
          "metadata": {
            "tags": []
          },
          "execution_count": 9
        }
      ]
    },
    {
      "cell_type": "markdown",
      "metadata": {
        "id": "DaBIdVYo-32H"
      },
      "source": [
        "[Advanced jupyter notebook formatting](https://towardsdatascience.com/bringing-the-best-out-of-jupyter-notebooks-for-data-science-f0871519ca29)"
      ]
    },
    {
      "cell_type": "markdown",
      "metadata": {
        "id": "vTaBmW5s-32H"
      },
      "source": [
        "<a id=\"section2\"></a>\n",
        "\n",
        "Write sample code to jump tp this area"
      ]
    },
    {
      "cell_type": "markdown",
      "metadata": {
        "id": "d0UeBt91-32H"
      },
      "source": [
        ""
      ]
    }
  ]
}