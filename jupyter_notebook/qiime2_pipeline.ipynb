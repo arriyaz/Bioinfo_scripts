{
 "cells": [
  {
   "cell_type": "markdown",
   "id": "db8a6782-ac93-4ca3-a287-90f5a21c07b5",
   "metadata": {
    "tags": [],
    "toc-hr-collapsed": true
   },
   "source": [
    "# Activate conda environment"
   ]
  },
  {
   "cell_type": "code",
   "execution_count": 1,
   "id": "e00edbdb-f368-46aa-a634-d5ff876a8d19",
   "metadata": {
    "ExecuteTime": {
     "end_time": "2021-10-19T03:17:06.913360Z",
     "start_time": "2021-10-19T03:17:05.247914Z"
    },
    "run_control": {
     "marked": false
    }
   },
   "outputs": [
    {
     "name": "stdout",
     "output_type": "stream",
     "text": [
      "(qiime2) "
     ]
    },
    {
     "ename": "",
     "evalue": "1",
     "output_type": "error",
     "traceback": []
    }
   ],
   "source": [
    "conda activate qiime2"
   ]
  },
  {
   "cell_type": "code",
   "execution_count": 2,
   "id": "db213951-4537-4710-b393-ce7747ae8399",
   "metadata": {
    "ExecuteTime": {
     "end_time": "2021-09-26T12:56:19.794833Z",
     "start_time": "2021-09-26T12:56:19.408388Z"
    },
    "run_control": {
     "marked": false
    }
   },
   "outputs": [
    {
     "name": "stdout",
     "output_type": "stream",
     "text": [
      "q2cli version 2021.4.004l\n",
      "Run `qiime info` for more version details.\n",
      "\u001b[?2004h(qiime2) "
     ]
    },
    {
     "ename": "",
     "evalue": "1",
     "output_type": "error",
     "traceback": []
    }
   ],
   "source": [
    "# Check qiime version and follow tutorial of that version\n",
    "qiime --version"
   ]
  },
  {
   "cell_type": "markdown",
   "id": "f61476e2-a81f-4972-ba57-e186224f3ab5",
   "metadata": {
    "jp-MarkdownHeadingCollapsed": true,
    "tags": [],
    "toc-hr-collapsed": true,
    "toc-nb-collapsed": true
   },
   "source": [
    "# Obtaining and importing data"
   ]
  },
  {
   "cell_type": "code",
   "execution_count": 3,
   "id": "0eb6fdad-66ad-44b2-a770-aca034391db6",
   "metadata": {
    "run_control": {
     "marked": false
    }
   },
   "outputs": [
    {
     "name": "stdout",
     "output_type": "stream",
     "text": [
      "(qiime2) \u001b[32mSaved Visualization to: qzv/metadata.qzv\u001b[0m\n",
      "(qiime2) "
     ]
    },
    {
     "ename": "",
     "evalue": "1",
     "output_type": "error",
     "traceback": []
    }
   ],
   "source": [
    "# Check our metadata file\n",
    "qiime metadata tabulate \\\n",
    "  --m-input-file metadata_16s.tsv \\\n",
    "  --o-visualization qzv/metadata.qzv"
   ]
  },
  {
   "cell_type": "markdown",
   "id": "a821c8d2-6931-4d53-b286-f71ab0e670f2",
   "metadata": {
    "tags": [],
    "toc-nb-collapsed": true
   },
   "source": [
    "### Import Data"
   ]
  },
  {
   "cell_type": "code",
   "execution_count": 6,
   "id": "354bb949-59ed-49ba-83d9-6fe4e16e86d3",
   "metadata": {
    "run_control": {
     "marked": false
    }
   },
   "outputs": [
    {
     "name": "stdout",
     "output_type": "stream",
     "text": [
      "\u001b[32mImported manifest_v.2.tsv as PairedEndFastqManifestPhred33V2 to qza/paired-end-demux.qza\u001b[0m\n",
      "(qiime2) "
     ]
    },
    {
     "ename": "",
     "evalue": "1",
     "output_type": "error",
     "traceback": []
    }
   ],
   "source": [
    "qiime tools import \\\n",
    "  --type 'SampleData[PairedEndSequencesWithQuality]' \\\n",
    "  --input-path manifest_v.2.tsv \\\n",
    "  --input-format PairedEndFastqManifestPhred33V2 \\\n",
    "  --output-path qza/paired-end-demux.qza"
   ]
  },
  {
   "cell_type": "code",
   "execution_count": 4,
   "id": "95716f06-6ddf-414d-9652-963b80be4477",
   "metadata": {
    "collapsed": true,
    "jupyter": {
     "outputs_hidden": true
    },
    "run_control": {
     "marked": false
    },
    "tags": []
   },
   "outputs": [
    {
     "name": "stdout",
     "output_type": "stream",
     "text": [
      "Usage: \u001b[34mqiime demux summarize\u001b[0m [OPTIONS]\n",
      "\n",
      "  Summarize counts per sample for all samples, and generate interactive\n",
      "  positional quality plots based on `n` randomly selected sequences.\n",
      "\n",
      "\u001b[1mInputs\u001b[0m:\n",
      "  \u001b[34m\u001b[4m--i-data\u001b[0m ARTIFACT \u001b[32mSampleData[SequencesWithQuality |\u001b[0m\n",
      "    \u001b[32mPairedEndSequencesWithQuality | JoinedSequencesWithQuality]\u001b[0m\n",
      "                       The demultiplexed sequences to be summarized.\n",
      "                                                                    \u001b[35m[required]\u001b[0m\n",
      "\u001b[1mParameters\u001b[0m:\n",
      "  \u001b[34m--p-n\u001b[0m INTEGER        The number of sequences that should be selected at\n",
      "                       random for quality score plots. The quality plots will\n",
      "                       present the average positional qualities across all of\n",
      "                       the sequences selected. If input sequences are paired\n",
      "                       end, plots will be generated for both forward and\n",
      "                       reverse reads for the same `n` sequences.\n",
      "                                                              \u001b[35m[default: 10000]\u001b[0m\n",
      "\u001b[1mOutputs\u001b[0m:\n",
      "  \u001b[34m\u001b[4m--o-visualization\u001b[0m VISUALIZATION\n",
      "                                                                    \u001b[35m[required]\u001b[0m\n",
      "\u001b[1mMiscellaneous\u001b[0m:\n",
      "  \u001b[34m--output-dir\u001b[0m PATH    Output unspecified results to a directory\n",
      "  \u001b[34m--verbose\u001b[0m / \u001b[34m--quiet\u001b[0m  Display verbose output to stdout and/or stderr during\n",
      "                       execution of this action. Or silence output if\n",
      "                       execution is successful (silence is golden).\n",
      "  \u001b[34m--examples\u001b[0m           Show usage examples and exit.\n",
      "  \u001b[34m--citations\u001b[0m          Show citations and exit.\n",
      "  \u001b[34m--help\u001b[0m               Show this message and exit.\n",
      "(qiime2) "
     ]
    },
    {
     "ename": "",
     "evalue": "1",
     "output_type": "error",
     "traceback": []
    }
   ],
   "source": [
    "qiime demux summarize --help"
   ]
  },
  {
   "cell_type": "markdown",
   "id": "3c5b7fb3-66cc-4407-b56c-649a66e8960b",
   "metadata": {
    "tags": []
   },
   "source": [
    "### Summary of the demultiplexed results"
   ]
  },
  {
   "cell_type": "code",
   "execution_count": 9,
   "id": "3f80d1f1-9486-4fcd-8535-7204669c0186",
   "metadata": {
    "run_control": {
     "marked": false
    },
    "tags": []
   },
   "outputs": [
    {
     "name": "stdout",
     "output_type": "stream",
     "text": [
      "\u001b[32mSaved Visualization to: qzv/demux.qzv\u001b[0m\n",
      "(qiime2) "
     ]
    },
    {
     "ename": "",
     "evalue": "1",
     "output_type": "error",
     "traceback": []
    }
   ],
   "source": [
    "qiime demux summarize \\\n",
    "  --i-data qza/paired-end-demux.qza \\\n",
    "  --p-n 100000 \\\n",
    "  --o-visualization qzv/demux.qzv"
   ]
  },
  {
   "cell_type": "code",
   "execution_count": 7,
   "id": "122c7dff-7bc3-426a-8054-865d43468ee3",
   "metadata": {
    "run_control": {
     "marked": false
    },
    "tags": []
   },
   "outputs": [
    {
     "name": "stdout",
     "output_type": "stream",
     "text": [
      "(qiime2) (qiime2) Press the 'q' key, Control-C, or Control-D to quit. This view may no longer be accessible or work correctly after quitting.Opening in existing browser session.\n",
      "(qiime2) "
     ]
    }
   ],
   "source": [
    "# view the result\n",
    "# run this code in terminal\n",
    "qiime tools view qzv/demux.qzv\n"
   ]
  },
  {
   "cell_type": "markdown",
   "id": "92d9974e-a0d3-41cc-b8cb-8185a47fb97a",
   "metadata": {
    "tags": [],
    "toc-hr-collapsed": true
   },
   "source": [
    "# Sequence quality control and feature table construction"
   ]
  },
  {
   "cell_type": "markdown",
   "id": "2d0de469-0770-4865-a1e3-ae69fc313861",
   "metadata": {
    "tags": [],
    "toc-nb-collapsed": true
   },
   "source": [
    "### Option-1: DADA2 (preffered)"
   ]
  },
  {
   "cell_type": "code",
   "execution_count": 10,
   "id": "b3ed1b7b-a735-48f3-9785-0bdfe02ff2b2",
   "metadata": {
    "collapsed": true,
    "jupyter": {
     "outputs_hidden": true
    },
    "run_control": {
     "marked": false
    },
    "tags": []
   },
   "outputs": [
    {
     "name": "stdout",
     "output_type": "stream",
     "text": [
      "Usage: \u001b[34mqiime dada2 denoise-paired\u001b[0m [OPTIONS]\n",
      "\n",
      "  This method denoises paired-end sequences, dereplicates them, and filters\n",
      "  chimeras.\n",
      "\n",
      "\u001b[1mInputs\u001b[0m:\n",
      "  \u001b[34m\u001b[4m--i-demultiplexed-seqs\u001b[0m ARTIFACT \u001b[32mSampleData[PairedEndSequencesWithQuality]\u001b[0m\n",
      "                         The paired-end demultiplexed sequences to be\n",
      "                         denoised.                                  \u001b[35m[required]\u001b[0m\n",
      "\u001b[1mParameters\u001b[0m:\n",
      "  \u001b[34m\u001b[4m--p-trunc-len-f\u001b[0m INTEGER\n",
      "                         Position at which forward read sequences should be\n",
      "                         truncated due to decrease in quality. This truncates\n",
      "                         the 3' end of the of the input sequences, which will\n",
      "                         be the bases that were sequenced in the last cycles.\n",
      "                         Reads that are shorter than this value will be\n",
      "                         discarded. After this parameter is applied there must\n",
      "                         still be at least a 12 nucleotide overlap between the\n",
      "                         forward and reverse reads. If 0 is provided, no\n",
      "                         truncation or length filtering will be performed\n",
      "                                                                    \u001b[35m[required]\u001b[0m\n",
      "  \u001b[34m\u001b[4m--p-trunc-len-r\u001b[0m INTEGER\n",
      "                         Position at which reverse read sequences should be\n",
      "                         truncated due to decrease in quality. This truncates\n",
      "                         the 3' end of the of the input sequences, which will\n",
      "                         be the bases that were sequenced in the last cycles.\n",
      "                         Reads that are shorter than this value will be\n",
      "                         discarded. After this parameter is applied there must\n",
      "                         still be at least a 12 nucleotide overlap between the\n",
      "                         forward and reverse reads. If 0 is provided, no\n",
      "                         truncation or length filtering will be performed\n",
      "                                                                    \u001b[35m[required]\u001b[0m\n",
      "  \u001b[34m--p-trim-left-f\u001b[0m INTEGER\n",
      "                         Position at which forward read sequences should be\n",
      "                         trimmed due to low quality. This trims the 5' end of\n",
      "                         the input sequences, which will be the bases that\n",
      "                         were sequenced in the first cycles.      \u001b[35m[default: 0]\u001b[0m\n",
      "  \u001b[34m--p-trim-left-r\u001b[0m INTEGER\n",
      "                         Position at which reverse read sequences should be\n",
      "                         trimmed due to low quality. This trims the 5' end of\n",
      "                         the input sequences, which will be the bases that\n",
      "                         were sequenced in the first cycles.      \u001b[35m[default: 0]\u001b[0m\n",
      "  \u001b[34m--p-max-ee-f\u001b[0m NUMBER    Forward reads with number of expected errors higher\n",
      "                         than this value will be discarded.     \u001b[35m[default: 2.0]\u001b[0m\n",
      "  \u001b[34m--p-max-ee-r\u001b[0m NUMBER    Reverse reads with number of expected errors higher\n",
      "                         than this value will be discarded.     \u001b[35m[default: 2.0]\u001b[0m\n",
      "  \u001b[34m--p-trunc-q\u001b[0m INTEGER    Reads are truncated at the first instance of a\n",
      "                         quality score less than or equal to this value. If\n",
      "                         the resulting read is then shorter than `\u001b[4mtrunc-len-f\u001b[0m`\n",
      "                         or `\u001b[4mtrunc-len-r\u001b[0m` (depending on the direction of the\n",
      "                         read) it is discarded.                   \u001b[35m[default: 2]\u001b[0m\n",
      "  \u001b[34m--p-min-overlap\u001b[0m INTEGER\n",
      "    \u001b[32mRange(4, None)\u001b[0m       The minimum length of the overlap required for\n",
      "                         merging the forward and reverse reads.  \u001b[35m[default: 12]\u001b[0m\n",
      "  \u001b[34m--p-pooling-method\u001b[0m TEXT \u001b[32mChoices('independent', 'pseudo')\u001b[0m\n",
      "                         The method used to pool samples for denoising.\n",
      "                         \"independent\": Samples are denoised indpendently.\n",
      "                         \"pseudo\": The pseudo-pooling method is used to\n",
      "                         approximate pooling of samples. In short, samples are\n",
      "                         denoised independently once, ASVs detected in at\n",
      "                         least 2 samples are recorded, and samples are\n",
      "                         denoised independently a second time, but this time\n",
      "                         with prior knowledge of the recorded ASVs and thus\n",
      "                         higher sensitivity to those ASVs.\n",
      "                                                      \u001b[35m[default: 'independent']\u001b[0m\n",
      "  \u001b[34m--p-chimera-method\u001b[0m TEXT \u001b[32mChoices('pooled', 'consensus', 'none')\u001b[0m\n",
      "                         The method used to remove chimeras. \"none\": No\n",
      "                         chimera removal is performed. \"pooled\": All reads are\n",
      "                         pooled prior to chimera detection. \"consensus\":\n",
      "                         Chimeras are detected in samples individually, and\n",
      "                         sequences found chimeric in a sufficient fraction of\n",
      "                         samples are removed.           \u001b[35m[default: 'consensus']\u001b[0m\n",
      "  \u001b[34m--p-min-fold-parent-over-abundance\u001b[0m NUMBER\n",
      "                         The minimum abundance of potential parents of a\n",
      "                         sequence being tested as chimeric, expressed as a\n",
      "                         fold-change versus the abundance of the sequence\n",
      "                         being tested. Values should be greater than or equal\n",
      "                         to 1 (i.e. parents should be more abundant than the\n",
      "                         sequence being tested). This parameter has no effect\n",
      "                         if \u001b[4mchimera-method\u001b[0m is \"none\".           \u001b[35m[default: 1.0]\u001b[0m\n",
      "  \u001b[34m--p-n-threads\u001b[0m INTEGER  The number of threads to use for multithreaded\n",
      "                         processing. If 0 is provided, all available cores\n",
      "                         will be used.                            \u001b[35m[default: 1]\u001b[0m\n",
      "  \u001b[34m--p-n-reads-learn\u001b[0m INTEGER\n",
      "                         The number of reads to use when training the error\n",
      "                         model. Smaller numbers will result in a shorter run\n",
      "                         time but a less reliable error model.\n",
      "                                                            \u001b[35m[default: 1000000]\u001b[0m\n",
      "  \u001b[34m--p-hashed-feature-ids\u001b[0m / \u001b[34m--p-no-hashed-feature-ids\u001b[0m\n",
      "                         If true, the feature ids in the resulting table will\n",
      "                         be presented as hashes of the sequences defining each\n",
      "                         feature. The hash will always be the same for the\n",
      "                         same sequence so this allows feature tables to be\n",
      "                         merged across runs of this method. You should only\n",
      "                         merge tables if the exact same parameters are used\n",
      "                         for each run.                         \u001b[35m[default: True]\u001b[0m\n",
      "\u001b[1mOutputs\u001b[0m:\n",
      "  \u001b[34m\u001b[4m--o-table\u001b[0m ARTIFACT \u001b[32mFeatureTable[Frequency]\u001b[0m\n",
      "                         The resulting feature table.               \u001b[35m[required]\u001b[0m\n",
      "  \u001b[34m\u001b[4m--o-representative-sequences\u001b[0m ARTIFACT \u001b[32mFeatureData[Sequence]\u001b[0m\n",
      "                         The resulting feature sequences. Each feature in the\n",
      "                         feature table will be represented by exactly one\n",
      "                         sequence, and these sequences will be the joined\n",
      "                         paired-end sequences.                      \u001b[35m[required]\u001b[0m\n",
      "  \u001b[34m\u001b[4m--o-denoising-stats\u001b[0m ARTIFACT \u001b[32mSampleData[DADA2Stats]\u001b[0m\n",
      "                                                                    \u001b[35m[required]\u001b[0m\n",
      "\u001b[1mMiscellaneous\u001b[0m:\n",
      "  \u001b[34m--output-dir\u001b[0m PATH      Output unspecified results to a directory\n",
      "  \u001b[34m--verbose\u001b[0m / \u001b[34m--quiet\u001b[0m    Display verbose output to stdout and/or stderr\n",
      "                         during execution of this action. Or silence output if\n",
      "                         execution is successful (silence is golden).\n",
      "  \u001b[34m--examples\u001b[0m             Show usage examples and exit.\n",
      "  \u001b[34m--citations\u001b[0m            Show citations and exit.\n",
      "  \u001b[34m--help\u001b[0m                 Show this message and exit.\n",
      "(qiime2) "
     ]
    },
    {
     "ename": "",
     "evalue": "1",
     "output_type": "error",
     "traceback": []
    }
   ],
   "source": [
    "qiime dada2 denoise-paired --help"
   ]
  },
  {
   "cell_type": "code",
   "execution_count": 11,
   "id": "d963196a-af91-4085-a728-d31f3b21e442",
   "metadata": {
    "collapsed": true,
    "jupyter": {
     "outputs_hidden": true
    },
    "run_control": {
     "marked": false
    },
    "tags": []
   },
   "outputs": [
    {
     "name": "stdout",
     "output_type": "stream",
     "text": [
      "Running external command line application(s). This may print messages to stdout and/or stderr.\n",
      "The command(s) being run are below. These commands cannot be manually re-run as they will depend on temporary files that no longer exist.\n",
      "\n",
      "Command: run_dada_paired.R /tmp/tmpn4d3zswn/forward /tmp/tmpn4d3zswn/reverse /tmp/tmpn4d3zswn/output.tsv.biom /tmp/tmpn4d3zswn/track.tsv /tmp/tmpn4d3zswn/filt_f /tmp/tmpn4d3zswn/filt_r 0 0 0 0 2.0 2.0 2 12 independent consensus 1.0 0 1000000\n",
      "\n",
      "R version 4.0.3 (2020-10-10) \n",
      "Loading required package: Rcpp\n",
      "DADA2: 1.18.0 / Rcpp: 1.0.6 / RcppParallel: 5.1.2 \n",
      "1) Filtering ..........................................\n",
      "2) Learning Error Rates\n",
      "230749795 total bases in 1049068 reads from 11 samples will be used for learning the error rates.\n",
      "230747125 total bases in 1049068 reads from 11 samples will be used for learning the error rates.\n",
      "3) Denoise samples ..........................................\n",
      "..........................................\n",
      "4) Remove chimeras (method = consensus)\n",
      "6) Write output\n",
      "\u001b[32mSaved FeatureTable[Frequency] to: qza/table.qza\u001b[0m\n",
      "\u001b[32mSaved FeatureData[Sequence] to: qza/rep-seqs.qza\u001b[0m\n",
      "\u001b[32mSaved SampleData[DADA2Stats] to: qza/denoise-stats.qza\u001b[0m\n",
      "(qiime2) "
     ]
    },
    {
     "ename": "",
     "evalue": "1",
     "output_type": "error",
     "traceback": []
    }
   ],
   "source": [
    "qiime dada2 denoise-paired \\\n",
    "  --i-demultiplexed-seqs qza/paired-end-demux.qza \\\n",
    "  --p-trim-left-f 0 \\\n",
    "  --p-trim-left-r 0 \\\n",
    "  --p-trunc-len-f 0 \\\n",
    "  --p-trunc-len-r 0 \\\n",
    "  --p-n-threads 0 \\\n",
    "  --verbose \\\n",
    "  --o-representative-sequences qza/rep-seqs.qza \\\n",
    "  --o-table qza/table.qza \\\n",
    "  --o-denoising-stats qza/denoise-stats.qza"
   ]
  },
  {
   "cell_type": "markdown",
   "id": "8cf7cc60-5047-4d11-92eb-a1dd6127e62e",
   "metadata": {
    "tags": []
   },
   "source": [
    "### View summary of statistics produced by dada2"
   ]
  },
  {
   "cell_type": "code",
   "execution_count": 2,
   "id": "c028ec2f-8dc1-493a-8693-4c0a2ca58dbf",
   "metadata": {
    "run_control": {
     "marked": false
    }
   },
   "outputs": [
    {
     "name": "stdout",
     "output_type": "stream",
     "text": [
      "\u001b[32mSaved Visualization to: qzv/denoise-stats.qzv\u001b[0m\n",
      "(qiime2) "
     ]
    },
    {
     "ename": "",
     "evalue": "1",
     "output_type": "error",
     "traceback": []
    }
   ],
   "source": [
    "qiime metadata tabulate \\\n",
    "    --m-input-file qza/denoise-stats.qza \\\n",
    "    --o-visualization qzv/denoise-stats.qzv"
   ]
  },
  {
   "cell_type": "markdown",
   "id": "7a828a79-76a3-45f2-870d-02e46380b0dd",
   "metadata": {
    "tags": [],
    "toc-nb-collapsed": true
   },
   "source": [
    "## FeatureTable and FeatureData summaries\n",
    "***"
   ]
  },
  {
   "cell_type": "code",
   "execution_count": 12,
   "id": "d9ad64e1-dba1-4f64-b4b0-4b77ddffb4b2",
   "metadata": {
    "run_control": {
     "marked": false
    }
   },
   "outputs": [
    {
     "name": "stdout",
     "output_type": "stream",
     "text": [
      "\u001b[32mSaved Visualization to: qzv/table.qzv\u001b[0m\n",
      "(qiime2) \u001b[32mSaved Visualization to: qzv/rep-seqs.qzv\u001b[0m\n",
      "(qiime2) "
     ]
    },
    {
     "ename": "",
     "evalue": "1",
     "output_type": "error",
     "traceback": []
    }
   ],
   "source": [
    "qiime feature-table summarize \\\n",
    "  --i-table qza/table.qza \\\n",
    "  --m-sample-metadata-file metadata_16s.tsv \\\n",
    "  --o-visualization qzv/table.qzv\n",
    "\n",
    "qiime feature-table tabulate-seqs \\\n",
    "  --i-data qza/rep-seqs.qza \\\n",
    "  --o-visualization qzv/rep-seqs.qzv"
   ]
  },
  {
   "cell_type": "markdown",
   "id": "5d7b9c66-4ad5-4cca-b265-19dc5d41dd3a",
   "metadata": {
    "tags": [],
    "toc-hr-collapsed": true,
    "toc-nb-collapsed": true
   },
   "source": [
    "# Taxonomic Analysis\n",
    "***"
   ]
  },
  {
   "cell_type": "markdown",
   "id": "797df925",
   "metadata": {
    "jp-MarkdownHeadingCollapsed": true,
    "tags": [],
    "toc-hr-collapsed": true
   },
   "source": [
    "## Prepare Classifier for V3-V4 (341f-806r primer) region"
   ]
  },
  {
   "cell_type": "markdown",
   "id": "7dfbe254",
   "metadata": {},
   "source": [
    "I followed the [Training Feature Classifier](https://docs.qiime2.org/2021.4/tutorials/feature-classifier/) tutorial from qiime2 docs.\n",
    "Here I used 2021.4 version of Qiime2."
   ]
  },
  {
   "cell_type": "markdown",
   "id": "17839886",
   "metadata": {},
   "source": [
    "### Data Collection"
   ]
  },
  {
   "cell_type": "code",
   "execution_count": 1,
   "id": "10299158",
   "metadata": {
    "ExecuteTime": {
     "end_time": "2021-10-16T13:31:59.355602Z",
     "start_time": "2021-10-16T13:31:59.237895Z"
    }
   },
   "outputs": [
    {
     "name": "stdout",
     "output_type": "stream",
     "text": [
      "\u001b[?2004h"
     ]
    },
    {
     "ename": "",
     "evalue": "1",
     "output_type": "error",
     "traceback": []
    }
   ],
   "source": [
    "mkdir classifier"
   ]
  },
  {
   "cell_type": "markdown",
   "id": "52ecaa46",
   "metadata": {},
   "source": [
    "We will download greengenes most recetn 13_8 reference datasets to train our classifier."
   ]
  },
  {
   "cell_type": "code",
   "execution_count": null,
   "id": "65ca84c6",
   "metadata": {},
   "outputs": [],
   "source": [
    "wget -P /home/arriyaz/data/16S_metagenomics/classifiers/ \\\n",
    "    \"ftp://greengenes.microbio.me/greengenes_release/gg_13_5/gg_13_8_otus.tar.gz\""
   ]
  },
  {
   "cell_type": "code",
   "execution_count": 1,
   "id": "9f3bca6f",
   "metadata": {
    "ExecuteTime": {
     "end_time": "2021-10-18T10:25:43.674897Z",
     "start_time": "2021-10-18T10:07:53.802138Z"
    },
    "collapsed": true,
    "jupyter": {
     "outputs_hidden": true
    }
   },
   "outputs": [
    {
     "name": "stdout",
     "output_type": "stream",
     "text": [
      "--2021-10-18 16:07:53--  ftp://greengenes.microbio.me/greengenes_release/gg_13_5/gg_13_5_otus.tar.gz\n",
      "           => 'classifier/gg_13_5_otus.tar.gz'\n",
      "Resolving greengenes.microbio.me (greengenes.microbio.me)... 169.228.46.98\n",
      "Connecting to greengenes.microbio.me (greengenes.microbio.me)|169.228.46.98|:21... connected.\n",
      "Logging in as anonymous ... Logged in!\n",
      "==> SYST ... done.    ==> PWD ... done.\n",
      "==> TYPE I ... done.  ==> CWD (1) /greengenes_release/gg_13_5 ... done.\n",
      "==> SIZE gg_13_5_otus.tar.gz ... 318327264\n",
      "==> PASV ... done.    ==> RETR gg_13_5_otus.tar.gz ... done.\n",
      "Length: 318327264 (304M) (unauthoritative)\n",
      "\n",
      "gg_13_5_otus.tar.gz 100%[===================>] 303.58M   206KB/s    in 17m 20s \n",
      "\n",
      "2021-10-18 16:25:43 (299 KB/s) - 'classifier/gg_13_5_otus.tar.gz' saved [318327264]\n",
      "\n"
     ]
    }
   ],
   "source": [
    "wget -P /home/arriyaz/data/16S_metagenomics/classifiers/ \\\n",
    "    \"ftp://greengenes.microbio.me/greengenes_release/gg_13_5/gg_13_5_otus.tar.gz\""
   ]
  },
  {
   "cell_type": "markdown",
   "id": "1cdf89e0",
   "metadata": {},
   "source": [
    "### Import Data as Qiime2 artifacts"
   ]
  },
  {
   "cell_type": "markdown",
   "id": "5737029c",
   "metadata": {},
   "source": [
    "Next we import these data into QIIME 2 Artifacts. Since the Greengenes reference taxonomy file (99_otu_taxonomy.txt) is a tab-separated (TSV) file without a header, we must specify HeaderlessTSVTaxonomyFormat as the source format since the default source format requires a header."
   ]
  },
  {
   "cell_type": "code",
   "execution_count": 3,
   "id": "7e204dc7",
   "metadata": {
    "ExecuteTime": {
     "end_time": "2021-10-16T13:50:33.506398Z",
     "start_time": "2021-10-16T13:49:42.445419Z"
    }
   },
   "outputs": [
    {
     "name": "stdout",
     "output_type": "stream",
     "text": [
      "\u001b[32mImported classifier/gg_13_8_otus/rep_set/99_otus.fasta as DNASequencesDirectoryFormat to classifier/99_otus.qza\u001b[0m\n",
      "\u001b[?2004h(qiime2) "
     ]
    },
    {
     "ename": "",
     "evalue": "1",
     "output_type": "error",
     "traceback": []
    }
   ],
   "source": [
    "# import 99% OTUs\n",
    "qiime tools import \\\n",
    "  --type 'FeatureData[Sequence]' \\\n",
    "  --input-path /home/arriyaz/data/16S_metagenomics/classifiers/gg_13_8_otus/rep_set/99_otus.fasta \\\n",
    "  --output-path classifier/99_otus.qza"
   ]
  },
  {
   "cell_type": "code",
   "execution_count": 4,
   "id": "38e07c00",
   "metadata": {
    "ExecuteTime": {
     "end_time": "2021-10-18T10:31:14.633992Z",
     "start_time": "2021-10-18T10:30:42.423230Z"
    }
   },
   "outputs": [
    {
     "name": "stdout",
     "output_type": "stream",
     "text": [
      "(qiime2) \u001b[32mImported /home/arriyaz/data/16S_metagenomics/classifiers/gg_13_5_otus/rep_set/97_otus.fasta as DNASequencesDirectoryFormat to classifier/13_5_97_otus.qza\u001b[0m\n",
      "(qiime2) "
     ]
    },
    {
     "ename": "",
     "evalue": "1",
     "output_type": "error",
     "traceback": []
    }
   ],
   "source": [
    "# import 97% OTUs from 13_5\n",
    "qiime tools import \\\n",
    "  --type 'FeatureData[Sequence]' \\\n",
    "  --input-path /home/arriyaz/data/16S_metagenomics/classifiers/gg_13_5_otus/rep_set/97_otus.fasta \\\n",
    "  --output-path classifier/13_5_97_otus.qza"
   ]
  },
  {
   "cell_type": "code",
   "execution_count": 4,
   "id": "315b4e43",
   "metadata": {
    "ExecuteTime": {
     "end_time": "2021-10-16T13:51:24.823060Z",
     "start_time": "2021-10-16T13:51:17.444439Z"
    }
   },
   "outputs": [
    {
     "name": "stdout",
     "output_type": "stream",
     "text": [
      "\u001b[32mImported classifier/gg_13_8_otus/taxonomy/99_otu_taxonomy.txt as HeaderlessTSVTaxonomyFormat to classifier/ref-taxonomy.qza\u001b[0m\n",
      "\u001b[?2004h(qiime2) "
     ]
    },
    {
     "ename": "",
     "evalue": "1",
     "output_type": "error",
     "traceback": []
    }
   ],
   "source": [
    "# import taxonomoy file\n",
    "qiime tools import \\\n",
    "  --type 'FeatureData[Taxonomy]' \\\n",
    "  --input-format HeaderlessTSVTaxonomyFormat \\\n",
    "  --input-path /home/arriyaz/data/16S_metagenomics/classifiers/gg_13_8_otus/taxonomy/99_otu_taxonomy.txt  \\\n",
    "  --output-path classifier/ref-taxonomy.qza"
   ]
  },
  {
   "cell_type": "code",
   "execution_count": 5,
   "id": "f18e166a",
   "metadata": {
    "ExecuteTime": {
     "end_time": "2021-10-18T10:32:02.561173Z",
     "start_time": "2021-10-18T10:31:59.446905Z"
    }
   },
   "outputs": [
    {
     "name": "stdout",
     "output_type": "stream",
     "text": [
      "(qiime2) \u001b[32mImported /home/arriyaz/data/16S_metagenomics/classifiers/gg_13_5_otus/taxonomy/97_otu_taxonomy.txt as HeaderlessTSVTaxonomyFormat to classifier/13_5_97_ref-taxonomy.qza\u001b[0m\n",
      "(qiime2) "
     ]
    },
    {
     "ename": "",
     "evalue": "1",
     "output_type": "error",
     "traceback": []
    }
   ],
   "source": [
    "# import taxonomoy file\n",
    "qiime tools import \\\n",
    "  --type 'FeatureData[Taxonomy]' \\\n",
    "  --input-format HeaderlessTSVTaxonomyFormat \\\n",
    "  --input-path /home/arriyaz/data/16S_metagenomics/classifiers/gg_13_5_otus/taxonomy/97_otu_taxonomy.txt \\\n",
    "  --output-path classifier/13_5_97_ref-taxonomy.qza"
   ]
  },
  {
   "cell_type": "markdown",
   "id": "bb16dfb0",
   "metadata": {},
   "source": [
    "### Extract Reference Reads"
   ]
  },
  {
   "cell_type": "markdown",
   "id": "ad16ff74",
   "metadata": {},
   "source": [
    "It has been shown that taxonomic classification accuracy of 16S rRNA gene sequences improves when a Naive Bayes classifier is trained on only the region of the target sequences that was sequenced ([Werner et al., 2012](https://pubmed.ncbi.nlm.nih.gov/21716311/)). This may not necessarily generalize to other marker genes (see note on fungal ITS classification below).\n",
    "\n",
    "\n",
    "\n",
    "* We know that sequence reads of our study are **220-base pair-end reads** that were amplified with the **341F/806R** primer pair for 16S rRNA gene sequences.\n",
    "\n",
    "* We optimize for that here by extracting reads from the reference database based on matches to this primer pair, and then kept minimum 100 bp and max 500 bp as our aplicon length is about **466 bp**"
   ]
  },
  {
   "cell_type": "code",
   "execution_count": 5,
   "id": "bcaec853",
   "metadata": {
    "ExecuteTime": {
     "end_time": "2021-10-16T14:25:30.774432Z",
     "start_time": "2021-10-16T14:00:36.746762Z"
    }
   },
   "outputs": [
    {
     "name": "stdout",
     "output_type": "stream",
     "text": [
      "\u001b[32mSaved FeatureData[Sequence] to: classifier/ref-seqs.qza\u001b[0m\n",
      "\u001b[?2004h(qiime2) "
     ]
    },
    {
     "ename": "",
     "evalue": "1",
     "output_type": "error",
     "traceback": []
    }
   ],
   "source": [
    "qiime feature-classifier extract-reads \\\n",
    "  --i-sequences classifier/13_5_97_otus.qza \\\n",
    "  --p-f-primer CCTAYGGGRBGCASCAG \\\n",
    "  --p-r-primer GGACTACNNGGGTATCTAAT \\\n",
    "  --p-min-length 100 \\\n",
    "  --p-max-length 500 \\\n",
    "  --p-n-jobs 5 \\\n",
    "  --o-reads classifier/ref-seqs.qza"
   ]
  },
  {
   "cell_type": "code",
   "execution_count": 6,
   "id": "dd44f5dd",
   "metadata": {
    "ExecuteTime": {
     "end_time": "2021-10-18T10:38:03.893899Z",
     "start_time": "2021-10-18T10:34:09.727396Z"
    }
   },
   "outputs": [
    {
     "name": "stdout",
     "output_type": "stream",
     "text": [
      "(qiime2) \u001b[32mSaved FeatureData[Sequence] to: classifier/13_5_97-ref-seqs.qza\u001b[0m\n",
      "(qiime2) "
     ]
    },
    {
     "ename": "",
     "evalue": "1",
     "output_type": "error",
     "traceback": []
    }
   ],
   "source": [
    "# Extract reads from gg_13_5 with 97% otus\n",
    "qiime feature-classifier extract-reads \\\n",
    "  --i-sequences classifier/99_otus.qza \\\n",
    "  --p-f-primer CCTAYGGGRBGCASCAG \\\n",
    "  --p-r-primer GGACTACNNGGGTATCTAAT \\\n",
    "  --p-min-length 100 \\\n",
    "  --p-max-length 500 \\\n",
    "  --p-n-jobs 5 \\\n",
    "  --o-reads classifier/13_5_97-ref-seqs.qza"
   ]
  },
  {
   "cell_type": "markdown",
   "id": "36d89fd4",
   "metadata": {},
   "source": [
    "### Train the classifier"
   ]
  },
  {
   "cell_type": "markdown",
   "id": "f0d81ec0",
   "metadata": {},
   "source": [
    "We can now train a Naive Bayes classifier as follows, using the reference reads and taxonomy that we just created."
   ]
  },
  {
   "cell_type": "code",
   "execution_count": 7,
   "id": "f8160367",
   "metadata": {
    "ExecuteTime": {
     "end_time": "2021-10-16T14:57:56.400152Z",
     "start_time": "2021-10-16T14:46:47.401835Z"
    }
   },
   "outputs": [
    {
     "name": "stdout",
     "output_type": "stream",
     "text": [
      "/home/arriyaz/miniconda3/envs/qiime2/lib/python3.8/site-packages/q2_feature_classifier/classifier.py:102: UserWarning: The TaxonomicClassifier artifact that results from this method was trained using scikit-learn version 0.24.1. It cannot be used with other versions of scikit-learn. (While the classifier may complete successfully, the results will be unreliable.)\n",
      "  warnings.warn(warning, UserWarning)\n",
      "\u001b[32mSaved TaxonomicClassifier to: classifier/gg-13_8-99otu-341f-806r-nb-classifier.qza\u001b[0m\n",
      "\u001b[?2004h(qiime2) "
     ]
    },
    {
     "ename": "",
     "evalue": "1",
     "output_type": "error",
     "traceback": []
    }
   ],
   "source": [
    "qiime feature-classifier fit-classifier-naive-bayes \\\n",
    "  --i-reference-reads classifier/ref-seqs.qza \\\n",
    "  --i-reference-taxonomy classifier/ref-taxonomy.qza \\\n",
    "  --o-classifier classifier/gg-13_8-99otu-341f-806r-nb-classifier.qza \\\n",
    "  --verbose"
   ]
  },
  {
   "cell_type": "code",
   "execution_count": 7,
   "id": "a16965c9",
   "metadata": {
    "ExecuteTime": {
     "end_time": "2021-10-18T10:41:00.121296Z",
     "start_time": "2021-10-18T10:38:58.194990Z"
    }
   },
   "outputs": [
    {
     "name": "stdout",
     "output_type": "stream",
     "text": [
      "(qiime2) /home/arriyaz/miniconda3/envs/qiime2/lib/python3.8/site-packages/q2_feature_classifier/classifier.py:102: UserWarning: The TaxonomicClassifier artifact that results from this method was trained using scikit-learn version 0.24.1. It cannot be used with other versions of scikit-learn. (While the classifier may complete successfully, the results will be unreliable.)\n",
      "  warnings.warn(warning, UserWarning)\n",
      "\u001b[32mSaved TaxonomicClassifier to: classifier/gg-13_5-97otu-341f-806r-nb-classifier.qza\u001b[0m\n",
      "(qiime2) "
     ]
    },
    {
     "ename": "",
     "evalue": "1",
     "output_type": "error",
     "traceback": []
    }
   ],
   "source": [
    "# A classifier with 13_5 at 97% OTUs\n",
    "qiime feature-classifier fit-classifier-naive-bayes \\\n",
    "  --i-reference-reads classifier/13_5_97-ref-seqs.qza \\\n",
    "  --i-reference-taxonomy classifier/13_5_97_ref-taxonomy.qza \\\n",
    "  --o-classifier classifier/gg-13_5-97otu-341f-806r-nb-classifier.qza \\\n",
    "  --verbose"
   ]
  },
  {
   "cell_type": "markdown",
   "id": "0d224eca",
   "metadata": {},
   "source": [
    "### Run the classifier"
   ]
  },
  {
   "cell_type": "code",
   "execution_count": 4,
   "id": "8ad38787-d097-4618-85bd-5e351b2b3660",
   "metadata": {
    "collapsed": true,
    "jupyter": {
     "outputs_hidden": true
    },
    "tags": []
   },
   "outputs": [
    {
     "name": "stdout",
     "output_type": "stream",
     "text": [
      "Usage: \u001b[34mqiime feature-classifier\u001b[0m [OPTIONS] COMMAND [ARGS]...\n",
      "\n",
      "  Description: This QIIME 2 plugin supports taxonomic classification of\n",
      "  features using a variety of methods, including Naive Bayes, vsearch, and\n",
      "  BLAST+.\n",
      "\n",
      "  Plugin website: https://github.com/qiime2/q2-feature-classifier\n",
      "\n",
      "  Getting user support: Please post to the QIIME 2 forum for help with this\n",
      "  plugin: https://forum.qiime2.org\n",
      "\n",
      "\u001b[1mOptions\u001b[0m:\n",
      "  \u001b[34m--version\u001b[0m    Show the version and exit.\n",
      "  \u001b[34m--citations\u001b[0m  Show citations and exit.\n",
      "  \u001b[34m--help\u001b[0m       Show this message and exit.\n",
      "\n",
      "\u001b[1mCommands\u001b[0m:\n",
      "  \u001b[34mclassify-consensus-blast\u001b[0m        BLAST+ consensus taxonomy classifier\n",
      "  \u001b[34mclassify-consensus-vsearch\u001b[0m      VSEARCH-based consensus taxonomy classifier\n",
      "  \u001b[34mclassify-hybrid-vsearch-sklearn\u001b[0m\n",
      "                                  ALPHA Hybrid classifier: VSEARCH exact match\n",
      "                                  + sklearn classifier\n",
      "\n",
      "  \u001b[34mclassify-sklearn\u001b[0m                Pre-fitted sklearn-based taxonomy classifier\n",
      "  \u001b[34mextract-reads\u001b[0m                   Extract reads from reference sequences.\n",
      "  \u001b[34mfit-classifier-naive-bayes\u001b[0m      Train the naive_bayes classifier\n",
      "  \u001b[34mfit-classifier-sklearn\u001b[0m          Train an almost arbitrary scikit-learn\n",
      "                                  classifier\n",
      "(qiime2) "
     ]
    },
    {
     "ename": "",
     "evalue": "1",
     "output_type": "error",
     "traceback": []
    }
   ],
   "source": [
    "qiime feature-classifier --help"
   ]
  },
  {
   "cell_type": "code",
   "execution_count": 9,
   "id": "ff364b41",
   "metadata": {
    "ExecuteTime": {
     "end_time": "2021-10-16T15:03:05.512185Z",
     "start_time": "2021-10-16T14:59:47.728502Z"
    }
   },
   "outputs": [
    {
     "name": "stdout",
     "output_type": "stream",
     "text": [
      "\u001b[32mSaved FeatureData[Taxonomy] to: qza/taxonomy.qza\u001b[0m\n",
      "\u001b[?2004h(qiime2) "
     ]
    },
    {
     "ename": "",
     "evalue": "1",
     "output_type": "error",
     "traceback": []
    }
   ],
   "source": [
    "qiime feature-classifier classify-sklearn \\\n",
    "  --i-classifier classifier/gg-13_8-99otu-341f-806r-nb-classifier.qza \\\n",
    "  --i-reads qza/rep-seqs.qza \\\n",
    "  --o-classification qza/taxonomy.qza \\\n",
    "  --p-n-jobs 4 \\\n",
    "  --verbose"
   ]
  },
  {
   "cell_type": "code",
   "execution_count": 10,
   "id": "c86e683f",
   "metadata": {
    "ExecuteTime": {
     "end_time": "2021-10-16T15:03:34.091185Z",
     "start_time": "2021-10-16T15:03:28.901848Z"
    }
   },
   "outputs": [
    {
     "name": "stdout",
     "output_type": "stream",
     "text": [
      "\u001b[32mSaved Visualization to: qzv/taxonomy.qzv\u001b[0m\n",
      "\u001b[?2004h(qiime2) "
     ]
    },
    {
     "ename": "",
     "evalue": "1",
     "output_type": "error",
     "traceback": []
    }
   ],
   "source": [
    "# create taxonomy visualization\n",
    "qiime metadata tabulate \\\n",
    "  --m-input-file qza/taxonomy.qza \\\n",
    "  --o-visualization qzv/taxonomy.qzv"
   ]
  },
  {
   "cell_type": "markdown",
   "id": "6af6acbd-3f6c-4ed3-adac-54fb579c9a72",
   "metadata": {
    "tags": []
   },
   "source": [
    "## Generate barplot for taxonomic composition"
   ]
  },
  {
   "cell_type": "markdown",
   "id": "8bc6c0cb-45dc-4d64-9a19-c2d692e485a2",
   "metadata": {},
   "source": [
    "----"
   ]
  },
  {
   "cell_type": "markdown",
   "id": "71d27cd0-f0d6-4e13-ba23-b1c312b415a6",
   "metadata": {},
   "source": [
    "**Create bar plot with all data**"
   ]
  },
  {
   "cell_type": "code",
   "execution_count": 8,
   "id": "bd3a4ca3-8b50-4188-835a-d26412daf5f1",
   "metadata": {},
   "outputs": [
    {
     "name": "stdout",
     "output_type": "stream",
     "text": [
      "\u001b[33mNo citations found.\u001b[0m\n",
      "(qiime2) "
     ]
    },
    {
     "ename": "",
     "evalue": "1",
     "output_type": "error",
     "traceback": []
    }
   ],
   "source": [
    "qiime taxa --citations"
   ]
  },
  {
   "cell_type": "code",
   "execution_count": 16,
   "id": "35bb4414-ee25-42ea-8816-abcdcae875e0",
   "metadata": {
    "ExecuteTime": {
     "end_time": "2021-10-16T16:37:36.060600Z",
     "start_time": "2021-10-16T16:37:24.102637Z"
    },
    "run_control": {
     "marked": false
    }
   },
   "outputs": [
    {
     "name": "stdout",
     "output_type": "stream",
     "text": [
      "(qiime2) \u001b[32mSaved Visualization to: qzv/taxa_barplot.qzv\u001b[0m\n",
      "(qiime2) "
     ]
    },
    {
     "ename": "",
     "evalue": "1",
     "output_type": "error",
     "traceback": []
    }
   ],
   "source": [
    "# Create taxonomy barplot\n",
    "qiime taxa barplot \\\n",
    "  --i-table qza/table.qza \\\n",
    "  --i-taxonomy qza/taxonomy.qza \\\n",
    "  --m-metadata-file ./metadata_16s.tsv \\\n",
    "  --o-visualization qzv/taxa_barplot.qzv"
   ]
  },
  {
   "cell_type": "markdown",
   "id": "fc47a964-9915-491d-a8b8-5e9fe339bc2f",
   "metadata": {},
   "source": [
    "**Export the barplot in html format, so that I can use it as supplementary material**"
   ]
  },
  {
   "cell_type": "code",
   "execution_count": 17,
   "id": "9443f7cc-6a2a-4183-9031-e8e0464e48f0",
   "metadata": {},
   "outputs": [
    {
     "name": "stdout",
     "output_type": "stream",
     "text": [
      "\u001b[32mExported qzv/taxa_barplot.qzv as Visualization to directory results/result_files/taxa-bar-plot\u001b[0m\n",
      "(qiime2) "
     ]
    },
    {
     "ename": "",
     "evalue": "1",
     "output_type": "error",
     "traceback": []
    }
   ],
   "source": [
    "qiime tools export \\\n",
    "    --input-path qzv/taxa_barplot.qzv \\\n",
    "    --output-path results/result_files/taxa-bar-plot"
   ]
  },
  {
   "cell_type": "markdown",
   "id": "d65f2f05-8b07-44e0-acf6-0a4db9889189",
   "metadata": {
    "tags": [],
    "toc-hr-collapsed": true,
    "toc-nb-collapsed": true
   },
   "source": [
    "## Generate Krona Plot"
   ]
  },
  {
   "cell_type": "markdown",
   "id": "eaf35cbd-f3fc-4bf4-ba02-6fba4c1c3078",
   "metadata": {},
   "source": [
    "**First we have to export the `taxonomy.qza` and `table.qza` file suitable for krona plot analysis**"
   ]
  },
  {
   "cell_type": "markdown",
   "id": "8ea3edcc-b8bb-4c04-b50d-f9014b81adc5",
   "metadata": {
    "tags": []
   },
   "source": [
    "### Export taxonomy(classification) file and table file"
   ]
  },
  {
   "cell_type": "code",
   "execution_count": 18,
   "id": "c5d1a53d-fac5-4d11-8c73-4ab3b6d91183",
   "metadata": {
    "ExecuteTime": {
     "end_time": "2021-10-16T16:38:13.404131Z",
     "start_time": "2021-10-16T16:38:13.295254Z"
    },
    "run_control": {
     "marked": false
    }
   },
   "outputs": [
    {
     "name": "stdout",
     "output_type": "stream",
     "text": [
      "(qiime2) "
     ]
    },
    {
     "ename": "",
     "evalue": "1",
     "output_type": "error",
     "traceback": []
    }
   ],
   "source": [
    "mkdir results/result_files/Krona_plot"
   ]
  },
  {
   "cell_type": "code",
   "execution_count": 19,
   "id": "2bb05ce9-f7ba-4a9a-bcdf-4cdddfefb681",
   "metadata": {
    "ExecuteTime": {
     "end_time": "2021-10-16T16:38:37.440275Z",
     "start_time": "2021-10-16T16:38:32.971439Z"
    },
    "run_control": {
     "marked": false
    }
   },
   "outputs": [
    {
     "name": "stdout",
     "output_type": "stream",
     "text": [
      "(qiime2) \u001b[32mExported qza/table.qza as BIOMV210DirFmt to directory results/result_files/Krona_plot\u001b[0m\n",
      "(qiime2) (qiime2) (qiime2) (qiime2) "
     ]
    },
    {
     "ename": "",
     "evalue": "1",
     "output_type": "error",
     "traceback": []
    }
   ],
   "source": [
    "## Export table.qza file into biom file\n",
    "qiime tools export \\\n",
    "    --input-path qza/table.qza \\\n",
    "    --output-path results/result_files/Krona_plot\n",
    "\n",
    "# Rename the file to example_feature_table\n",
    "#mv exported/feature-table.biom exported/example_feature_table.biom"
   ]
  },
  {
   "cell_type": "code",
   "execution_count": 20,
   "id": "06f9ceb6-007d-43a2-b437-217c6ee9236e",
   "metadata": {
    "ExecuteTime": {
     "end_time": "2021-10-16T16:46:33.159508Z",
     "start_time": "2021-10-16T16:46:28.831683Z"
    },
    "run_control": {
     "marked": false
    },
    "tags": []
   },
   "outputs": [
    {
     "name": "stdout",
     "output_type": "stream",
     "text": [
      "(qiime2) \u001b[32mExported qza/taxonomy.qza as TSVTaxonomyDirectoryFormat to directory results/result_files/Krona_plot\u001b[0m\n",
      "(qiime2) (qiime2) (qiime2) (qiime2) "
     ]
    },
    {
     "ename": "",
     "evalue": "1",
     "output_type": "error",
     "traceback": []
    }
   ],
   "source": [
    "# export taxonomy artifact into taxonomy.tsv\n",
    "qiime tools export \\\n",
    "    --input-path qza/taxonomy.qza \\\n",
    "    --output-path results/result_files/Krona_plot\n",
    "\n",
    "# Rename the file to example_taxonomy\n",
    "# mv exported/taxonomy.tsv exported/example_taxonomy.tsv"
   ]
  },
  {
   "cell_type": "markdown",
   "id": "8b511987-d28d-4587-af70-07095123d18a",
   "metadata": {
    "tags": []
   },
   "source": [
    "### Convert the `biom` table"
   ]
  },
  {
   "cell_type": "markdown",
   "id": "561915fe-a329-4a2a-aa04-2125b5ed0f34",
   "metadata": {},
   "source": [
    "**This code below will convert the `biom` table to `classic` tsv file (normal ASV abundance table)**\n",
    "\n",
    "To know details about `convert` command you can run `biom convert -h`"
   ]
  },
  {
   "cell_type": "code",
   "execution_count": 21,
   "id": "ba0af533-c26c-4cfd-8a12-b32b51706bb4",
   "metadata": {
    "ExecuteTime": {
     "end_time": "2021-10-16T16:39:56.176266Z",
     "start_time": "2021-10-16T16:39:54.418791Z"
    },
    "run_control": {
     "marked": false
    }
   },
   "outputs": [
    {
     "name": "stdout",
     "output_type": "stream",
     "text": [
      "(qiime2) "
     ]
    },
    {
     "ename": "",
     "evalue": "1",
     "output_type": "error",
     "traceback": []
    }
   ],
   "source": [
    "biom convert \\\n",
    "    -i results/result_files/Krona_plot/feature-table.biom \\\n",
    "    -o results/result_files/Krona_plot/feature-table.tsv \\\n",
    "    --to-tsv"
   ]
  },
  {
   "cell_type": "markdown",
   "id": "50f69da6-e48a-42cc-a060-45042b22ef81",
   "metadata": {
    "tags": []
   },
   "source": [
    "### Prepare suitable files to feed into `Krona` tool"
   ]
  },
  {
   "cell_type": "markdown",
   "id": "1806ed73-d7cd-4479-af64-f95f7bbac9fc",
   "metadata": {},
   "source": [
    "**Now we will use [krona_qiime.py](https://github.com/lokeshbio/Amplicon_course/blob/293f8773aa46da950fab79e40cb3f2b4f71658d2/krona_qiime.py) script by [lokeshbio](https://github.com/lokeshbio).**\n",
    "\n",
    "**This script will combine the the taxonomic classification of the ASV to their abundance.**"
   ]
  },
  {
   "cell_type": "markdown",
   "id": "bc3932b1-9d91-4e29-9677-3e0864c204c6",
   "metadata": {},
   "source": [
    "**<font color=red>NB: This script generates a list of files in the current directory. So, We will move these file to `krona_files` directory. </font>**"
   ]
  },
  {
   "cell_type": "code",
   "execution_count": 22,
   "id": "12afa70e-f505-4cb2-9703-d6af2dc1843e",
   "metadata": {
    "ExecuteTime": {
     "end_time": "2021-10-16T16:47:34.569771Z",
     "start_time": "2021-10-16T16:47:33.631677Z"
    },
    "run_control": {
     "marked": false
    }
   },
   "outputs": [
    {
     "name": "stdout",
     "output_type": "stream",
     "text": [
      "(qiime2) (qiime2) "
     ]
    },
    {
     "ename": "",
     "evalue": "1",
     "output_type": "error",
     "traceback": []
    }
   ],
   "source": [
    "# Run the script\n",
    "python scripts/krona_qiime.py  \\\n",
    "    results/result_files/Krona_plot/taxonomy.tsv \\\n",
    "    results/result_files/Krona_plot/feature-table.tsv"
   ]
  },
  {
   "cell_type": "code",
   "execution_count": 23,
   "id": "6b398348-3e9f-4da6-8360-5f4f6650b53f",
   "metadata": {
    "ExecuteTime": {
     "end_time": "2021-10-16T16:47:39.838524Z",
     "start_time": "2021-10-16T16:47:39.520738Z"
    },
    "run_control": {
     "marked": false
    }
   },
   "outputs": [
    {
     "name": "stdout",
     "output_type": "stream",
     "text": [
      "(qiime2) (qiime2) (qiime2) (qiime2) (qiime2) "
     ]
    },
    {
     "ename": "",
     "evalue": "1",
     "output_type": "error",
     "traceback": []
    }
   ],
   "source": [
    "# Recursively remove krona_files directory, if it already exists\n",
    "rm -rf results/result_files/Krona_plot/text_files\n",
    "\n",
    "# Again make kron_files directory\n",
    "mkdir results/result_files/Krona_plot/text_files\n"
   ]
  },
  {
   "cell_type": "code",
   "execution_count": 24,
   "id": "4b22e3e5-ab53-4ca6-bf42-c3b8411c0cf7",
   "metadata": {
    "ExecuteTime": {
     "end_time": "2021-10-16T16:47:43.720608Z",
     "start_time": "2021-10-16T16:47:43.558061Z"
    },
    "run_control": {
     "marked": false
    }
   },
   "outputs": [
    {
     "name": "stdout",
     "output_type": "stream",
     "text": [
      "(qiime2) (qiime2) "
     ]
    },
    {
     "ename": "",
     "evalue": "1",
     "output_type": "error",
     "traceback": []
    }
   ],
   "source": [
    "# Move all files to this directory that have been generated by krona_qiime.py script\n",
    "mv B*.krona.txt results/result_files/Krona_plot/text_files"
   ]
  },
  {
   "cell_type": "markdown",
   "id": "99237eb8-986c-4c71-a1ee-b8cac35e4d33",
   "metadata": {
    "tags": []
   },
   "source": [
    "### Run the krona tool"
   ]
  },
  {
   "cell_type": "markdown",
   "id": "370a8b72",
   "metadata": {},
   "source": [
    "We can install krona tool by `conda install -c bioconda krona` code. Then we will be able to use `ktImportText` command."
   ]
  },
  {
   "cell_type": "code",
   "execution_count": 25,
   "id": "897d9f3f-a40c-4178-89a5-cc3cb158f32c",
   "metadata": {
    "ExecuteTime": {
     "end_time": "2021-10-16T16:56:22.381009Z",
     "start_time": "2021-10-16T16:56:22.212483Z"
    },
    "collapsed": true,
    "jupyter": {
     "outputs_hidden": true
    },
    "run_control": {
     "marked": false
    },
    "tags": []
   },
   "outputs": [
    {
     "name": "stdout",
     "output_type": "stream",
     "text": [
      "                                           _________________________________\n",
      "__________________________________________/ KronaTools 2.7.1 - ktImportText \\___\n",
      "\n",
      "Creates a Krona chart from text files listing quantities and lineages.\n",
      "                                                                     _______\n",
      "____________________________________________________________________/ Usage \\___\n",
      "\n",
      "ktImportText \\\n",
      "   [options] \\\n",
      "   text_1[,name_1] \\\n",
      "   [text_2[,name_2]] \\\n",
      "   ...\n",
      "\n",
      "   text  Tab-delimited text file. Each line should be a number followed by a\n",
      "         list of wedges to contribute to (starting from the highest level). If\n",
      "         no wedges are listed (and just a quantity is given), it will\n",
      "         contribute to the top level. If the same lineage is listed more than\n",
      "         once, the values will be added. Quantities can be omitted if -q is\n",
      "         specified. Lines beginning with \"#\" will be ignored. By default,\n",
      "         separate datasets will be created for each input (see [-c]).\n",
      "\n",
      "   name  A name to show in the list of datasets in the Krona chart (if\n",
      "         multiple input files are present and [-c] is not specified). By\n",
      "         default, the basename of the file will be used.\n",
      "                                                                   _________\n",
      "__________________________________________________________________/ Options \\___\n",
      "\n",
      "   [-o <string>]  Output file name. [Default: 'text.krona.html']\n",
      "\n",
      "   [-n <string>]  Name of the highest level. [Default: 'all']\n",
      "\n",
      "   [-q]           Files do not have a field for quantity.\n",
      "\n",
      "   [-c]           Combine data from each file, rather than creating separate\n",
      "                  datasets within the chart.\n",
      "\n",
      "   [-u <string>]  URL of Krona resources to use instead of bundling them with\n",
      "                  the chart (e.g. \"http://krona.sourceforge.net\"). Reduces size\n",
      "                  of charts and allows updates, though charts will not work\n",
      "                  without access to this URL.\n",
      "\n",
      "\u001b[?2004h(qiime2) "
     ]
    },
    {
     "ename": "",
     "evalue": "1",
     "output_type": "error",
     "traceback": []
    }
   ],
   "source": [
    "ktImportText\n"
   ]
  },
  {
   "cell_type": "markdown",
   "id": "520bfd11",
   "metadata": {},
   "source": [
    "#### Create the Krona plot"
   ]
  },
  {
   "cell_type": "code",
   "execution_count": 25,
   "id": "eb621549-0c7f-428f-b739-9450a01a0b6b",
   "metadata": {
    "ExecuteTime": {
     "end_time": "2021-10-16T16:57:07.604235Z",
     "start_time": "2021-10-16T16:57:00.854221Z"
    },
    "run_control": {
     "marked": false
    }
   },
   "outputs": [
    {
     "name": "stdout",
     "output_type": "stream",
     "text": [
      "Writing results/result_files/Krona_taxa.html...\n",
      "(qiime2) "
     ]
    },
    {
     "ename": "",
     "evalue": "1",
     "output_type": "error",
     "traceback": []
    }
   ],
   "source": [
    "ktImportText \\\n",
    "    -c results/result_files/Krona_plot/text_files/* \\\n",
    "    -n BD_Indigenous_Cohort \\\n",
    "    -o results/result_files/Krona_taxa.html"
   ]
  },
  {
   "cell_type": "markdown",
   "id": "57fb970e-1bd5-46ce-a809-9730a42c09ae",
   "metadata": {
    "tags": []
   },
   "source": [
    "# Export Feature Table"
   ]
  },
  {
   "cell_type": "code",
   "execution_count": 2,
   "id": "5a66bdcf-80db-48cc-b144-0a9b7d87f0e4",
   "metadata": {},
   "outputs": [
    {
     "name": "stdout",
     "output_type": "stream",
     "text": [
      "(qiime2) \u001b[32mSaved FeatureTable[Frequency] to: qza/feature-table-with-taxa-name-l7.qza\u001b[0m\n",
      "(qiime2) "
     ]
    },
    {
     "ename": "",
     "evalue": "1",
     "output_type": "error",
     "traceback": []
    }
   ],
   "source": [
    "# Export feature table at species level(5)\n",
    "qiime taxa collapse \\\n",
    "  --i-table qza/table.qza \\\n",
    "  --i-taxonomy qza/taxonomy.qza \\\n",
    "  --p-level 7\\\n",
    "  --o-collapsed-table qza/feature-table-with-taxa-name-l7.qza"
   ]
  },
  {
   "cell_type": "code",
   "execution_count": 4,
   "id": "30064fe7-521f-4530-b7ed-8b33454f3ece",
   "metadata": {},
   "outputs": [
    {
     "name": "stdout",
     "output_type": "stream",
     "text": [
      "(qiime2) \u001b[32mExported qza/feature-table-with-taxa-name-l7.qza as BIOMV210DirFmt to directory qza/feature-table-with-taxa-name-l7\u001b[0m\n",
      "(qiime2) (qiime2) (qiime2) (qiime2) (qiime2) "
     ]
    },
    {
     "ename": "",
     "evalue": "1",
     "output_type": "error",
     "traceback": []
    }
   ],
   "source": [
    "# Export as biom file\n",
    "qiime tools export \\\n",
    "    --input-path qza/feature-table-with-taxa-name-l7.qza \\\n",
    "    --output-path qza/feature-table-with-taxa-name-l7\n",
    "\n",
    "\n",
    "# Convert the feature table artifact into hdf5 biom table\n",
    "biom convert \\\n",
    "    -i qza/feature-table-with-taxa-name-l7/feature-table.biom \\\n",
    "    -o qzv/feature-table-with-taxa-name-l7.tsv \\\n",
    "    --to-tsv"
   ]
  },
  {
   "cell_type": "markdown",
   "id": "d02bf078",
   "metadata": {
    "tags": [],
    "toc-hr-collapsed": true
   },
   "source": [
    "# Heatmap"
   ]
  },
  {
   "cell_type": "code",
   "execution_count": null,
   "id": "4cfbf2f1",
   "metadata": {
    "collapsed": true,
    "jupyter": {
     "outputs_hidden": true
    },
    "tags": []
   },
   "outputs": [
    {
     "name": "stdout",
     "output_type": "stream",
     "text": [
      "Usage: \u001b[34mqiime feature-table heatmap\u001b[0m [OPTIONS]\n",
      "\n",
      "  Generate a heatmap representation of a feature table with optional\n",
      "  clustering on both the sample and feature axes.\n",
      "\n",
      "  Tip: To generate a heatmap containing taxonomic annotations, use `qiime\n",
      "  taxa collapse` to collapse the feature table at the desired taxonomic\n",
      "  level.\n",
      "\n",
      "\u001b[1mInputs\u001b[0m:\n",
      "  \u001b[34m\u001b[4m--i-table\u001b[0m ARTIFACT \u001b[32mFeatureTable[Frequency]\u001b[0m\n",
      "                         The feature table to visualize.            \u001b[35m[required]\u001b[0m\n",
      "\u001b[1mParameters\u001b[0m:\n",
      "  \u001b[34m--m-sample-metadata-file\u001b[0m METADATA\n",
      "  \u001b[34m--m-sample-metadata-column\u001b[0m COLUMN  \u001b[32mMetadataColumn[Categorical]\u001b[0m\n",
      "                         Annotate the sample IDs with these sample metadata\n",
      "                         values. When metadata is present and\n",
      "                         `cluster`='feature', samples will be sorted by the\n",
      "                         metadata values.                           \u001b[35m[optional]\u001b[0m\n",
      "  \u001b[34m--m-feature-metadata-file\u001b[0m METADATA\n",
      "  \u001b[34m--m-feature-metadata-column\u001b[0m COLUMN  \u001b[32mMetadataColumn[Categorical]\u001b[0m\n",
      "                         Annotate the feature IDs with these feature metadata\n",
      "                         values. When metadata is present and\n",
      "                         `cluster`='sample', features will be sorted by the\n",
      "                         metadata values.                           \u001b[35m[optional]\u001b[0m\n",
      "  \u001b[34m--p-normalize\u001b[0m / \u001b[34m--p-no-normalize\u001b[0m\n",
      "                         Normalize the feature table by adding a psuedocount\n",
      "                         of 1 and then taking the log10 of the table.\n",
      "                                                               \u001b[35m[default: True]\u001b[0m\n",
      "  \u001b[34m--p-title\u001b[0m TEXT         Optional custom plot title.                \u001b[35m[optional]\u001b[0m\n",
      "  \u001b[34m--p-metric\u001b[0m TEXT \u001b[32mChoices('cityblock', 'kulsinski', 'yule', 'sokalsneath',\u001b[0m\n",
      "    \u001b[32m'braycurtis', 'jaccard', 'canberra', 'seuclidean', 'sqeuclidean',\u001b[0m\n",
      "    \u001b[32m'sokalmichener', 'rogerstanimoto', 'matching', 'dice', 'chebyshev',\u001b[0m\n",
      "    \u001b[32m'hamming', 'euclidean', 'minkowski', 'mahalanobis', 'correlation',\u001b[0m\n",
      "    \u001b[32m'cosine', 'russellrao')\u001b[0m\n",
      "                         Metrics exposed by seaborn (see\n",
      "                         http://seaborn.pydata.org/generated/seaborn.clusterma\n",
      "                         p.html#seaborn.clustermap for more detail).\n",
      "                                                        \u001b[35m[default: 'euclidean']\u001b[0m\n",
      "  \u001b[34m--p-method\u001b[0m TEXT \u001b[32mChoices('median', 'single', 'average', 'weighted',\u001b[0m\n",
      "    \u001b[32m'centroid', 'ward', 'complete')\u001b[0m\n",
      "                         Clustering methods exposed by seaborn (see\n",
      "                         http://seaborn.pydata.org/generated/seaborn.clusterma\n",
      "                         p.html#seaborn.clustermap for more detail).\n",
      "                                                          \u001b[35m[default: 'average']\u001b[0m\n",
      "  \u001b[34m--p-cluster\u001b[0m TEXT \u001b[32mChoices('features', 'samples', 'both', 'none')\u001b[0m\n",
      "                         Specify which axes to cluster.      \u001b[35m[default: 'both']\u001b[0m\n",
      "  \u001b[34m--p-color-scheme\u001b[0m TEXT \u001b[32mChoices('jet', 'copper_r', 'plasma', 'Pastel1_r',\u001b[0m\n",
      "    \u001b[32m'PRGn_r', 'prism', 'Greens', 'Paired', 'BrBG', 'Vega20b_r', 'Vega10_r',\u001b[0m\n",
      "    \u001b[32m'Set2', 'gist_rainbow_r', 'Set3_r', 'spectral_r', 'gist_yarg', 'gray_r',\u001b[0m\n",
      "    \u001b[32m'rocket_r', 'GnBu_r', 'gist_earth', 'Vega20', 'gist_rainbow', 'RdGy_r',\u001b[0m\n",
      "    \u001b[32m'bone', 'BuGn_r', 'PuBuGn_r', 'Vega20c', 'icefire_r', 'Spectral_r',\u001b[0m\n",
      "    \u001b[32m'Wistia_r', 'PiYG', 'copper', 'mako', 'YlGnBu_r', 'rainbow', 'autumn_r',\u001b[0m\n",
      "    \u001b[32m'PuBuGn', 'tab20c', 'vlag_r', 'PuBu_r', 'OrRd', 'spectral', 'RdPu_r',\u001b[0m\n",
      "    \u001b[32m'Set1_r', 'BuGn', 'afmhot_r', 'seismic', 'YlGn', 'tab10', 'BrBG_r',\u001b[0m\n",
      "    \u001b[32m'PiYG_r', 'terrain', 'Accent_r', 'PuRd', 'Dark2', 'RdYlBu_r',\u001b[0m\n",
      "    \u001b[32m'coolwarm_r', 'RdPu', 'ocean_r', 'magma', 'tab20b', 'Blues_r', 'CMRmap',\u001b[0m\n",
      "    \u001b[32m'hot', 'inferno', 'tab10_r', 'tab20b_r', 'mako_r', 'gnuplot2_r',\u001b[0m\n",
      "    \u001b[32m'viridis_r', 'cubehelix_r', 'bone_r', 'RdYlBu', 'flag', 'BuPu',\u001b[0m\n",
      "    \u001b[32m'gnuplot2', 'spring', 'nipy_spectral', 'YlGnBu', 'Vega20_r', 'flag_r',\u001b[0m\n",
      "    \u001b[32m'GnBu', 'coolwarm', 'RdBu_r', 'pink', 'Reds_r', 'Purples', 'gist_stern',\u001b[0m\n",
      "    \u001b[32m'jet_r', 'icefire', 'PuOr_r', 'gist_earth_r', 'YlOrRd', 'Vega20c_r',\u001b[0m\n",
      "    \u001b[32m'cool_r', 'RdBu', 'gist_stern_r', 'Paired_r', 'Wistia', 'autumn',\u001b[0m\n",
      "    \u001b[32m'Set2_r', 'Oranges_r', 'gist_ncar', 'plasma_r', 'cividis_r', 'Set1',\u001b[0m\n",
      "    \u001b[32m'cividis', 'PRGn', 'bwr_r', 'BuPu_r', 'Vega20b', 'cubehelix', 'ocean',\u001b[0m\n",
      "    \u001b[32m'gist_heat_r', 'gnuplot', 'prism_r', 'spring_r', 'gist_gray',\u001b[0m\n",
      "    \u001b[32m'gist_ncar_r', 'Spectral', 'tab20_r', 'inferno_r', 'OrRd_r', 'seismic_r',\u001b[0m\n",
      "    \u001b[32m'Pastel2_r', 'Greys_r', 'Dark2_r', 'Accent', 'YlOrBr', 'hsv_r',\u001b[0m\n",
      "    \u001b[32m'terrain_r', 'YlOrBr_r', 'vlag', 'binary', 'magma_r', 'Vega10', 'Greys',\u001b[0m\n",
      "    \u001b[32m'brg', 'hot_r', 'gist_gray_r', 'afmhot', 'YlGn_r', 'Blues', 'rainbow_r',\u001b[0m\n",
      "    \u001b[32m'PuRd_r', 'gray', 'RdYlGn', 'PuBu', 'Greens_r', 'nipy_spectral_r', 'Set3',\u001b[0m\n",
      "    \u001b[32m'gist_yarg_r', 'summer_r', 'Oranges', 'RdYlGn_r', 'YlOrRd_r', 'Pastel1',\u001b[0m\n",
      "    \u001b[32m'cool', 'binary_r', 'hsv', 'Reds', 'tab20c_r', 'summer', 'viridis',\u001b[0m\n",
      "    \u001b[32m'gnuplot_r', 'brg_r', 'Pastel2', 'RdGy', 'winter', 'Purples_r', 'PuOr',\u001b[0m\n",
      "    \u001b[32m'winter_r', 'tab20', 'gist_heat', 'CMRmap_r', 'bwr', 'pink_r', 'rocket')\u001b[0m\n",
      "                         The matplotlib colorscheme to generate the heatmap\n",
      "                         with.                             \u001b[35m[default: 'rocket']\u001b[0m\n",
      "\u001b[1mOutputs\u001b[0m:\n",
      "  \u001b[34m\u001b[4m--o-visualization\u001b[0m VISUALIZATION\n",
      "                                                                    \u001b[35m[required]\u001b[0m\n",
      "\u001b[1mMiscellaneous\u001b[0m:\n",
      "  \u001b[34m--output-dir\u001b[0m PATH      Output unspecified results to a directory\n",
      "  \u001b[34m--verbose\u001b[0m / \u001b[34m--quiet\u001b[0m    Display verbose output to stdout and/or stderr\n",
      "                         during execution of this action. Or silence output if\n",
      "                         execution is successful (silence is golden).\n",
      "  \u001b[34m--examples\u001b[0m             Show usage examples and exit.\n",
      "  \u001b[34m--citations\u001b[0m            Show citations and exit.\n",
      "  \u001b[34m--help\u001b[0m                 Show this message and exit.\n",
      "(qiime2) "
     ]
    },
    {
     "ename": "",
     "evalue": "1",
     "output_type": "error",
     "traceback": []
    }
   ],
   "source": [
    "qiime feature-table heatmap --help"
   ]
  },
  {
   "cell_type": "markdown",
   "id": "bbf1c214-9c7a-466b-840f-afe483cd39d5",
   "metadata": {
    "tags": []
   },
   "source": [
    "## Data preparation"
   ]
  },
  {
   "cell_type": "code",
   "execution_count": null,
   "id": "23a363de-38d3-4649-afe2-744d89f21f3a",
   "metadata": {
    "collapsed": true,
    "jupyter": {
     "outputs_hidden": true
    },
    "tags": []
   },
   "outputs": [
    {
     "name": "stdout",
     "output_type": "stream",
     "text": [
      "(qiime2) \u001b[32mSaved FeatureTable[Frequency] to: qza/table-l5.za.qza\u001b[0m\n",
      "(qiime2) "
     ]
    },
    {
     "ename": "",
     "evalue": "1",
     "output_type": "error",
     "traceback": []
    }
   ],
   "source": [
    "# collapse feature table at family level(5)\n",
    "qiime taxa collapse \\\n",
    "  --i-table qza/table.qza \\\n",
    "  --i-taxonomy qza/taxonomy.qza \\\n",
    "  --p-level 5\\\n",
    "  --o-collapsed-table qza/table-l5.qza"
   ]
  },
  {
   "cell_type": "markdown",
   "id": "d3ab352f-b921-4c71-b45a-182a376fc849",
   "metadata": {},
   "source": [
    "This `table-l5.qza` contain full name of a feature. I mean kingdom, phylum, class, order....\n",
    "\n",
    "This long name will make our heatmap unread able. So, from `table-l5.qza` we will keep only **family** name.\n",
    "\n",
    "I am going to do this almost manually. The workflow will be as following steps:\n",
    "1. Export the `table-l5.qza` to biom table (hdf5 format).\n",
    "2. Convert the `feature-table.biom` file into tsv (classical biom table).\n",
    "3. Open the `tsv` file in **libreoffice calc** and remove the extra part of the feature name.\n",
    "4. Again convert the `tsv` file into hdf5 biom file.\n",
    "5. Import the `biom` file as **qiime artifact**."
   ]
  },
  {
   "cell_type": "markdown",
   "id": "68e4acf9-186f-4473-9ade-a2bb86b1a58a",
   "metadata": {},
   "source": [
    "**Step 1 and 2**"
   ]
  },
  {
   "cell_type": "code",
   "execution_count": 31,
   "id": "9ed3f728-fe39-4a80-8166-86053e1d0611",
   "metadata": {},
   "outputs": [
    {
     "name": "stdout",
     "output_type": "stream",
     "text": [
      "(qiime2) \u001b[32mExported qza/table-l5.qza as BIOMV210DirFmt to directory qza/table-l5-biom\u001b[0m\n",
      "(qiime2) (qiime2) (qiime2) (qiime2) (qiime2) "
     ]
    },
    {
     "ename": "",
     "evalue": "1",
     "output_type": "error",
     "traceback": []
    }
   ],
   "source": [
    "# Export as biom file\n",
    "qiime tools export \\\n",
    "    --input-path qza/table-l5.qza \\\n",
    "    --output-path qza/table-l5-biom\n",
    "\n",
    "\n",
    "# Convert the feature table artifact into hdf5 biom table\n",
    "biom convert \\\n",
    "    -i qza/table-l5-biom/feature-table.biom \\\n",
    "    -o qza/table-l5-biom/feature-table.tsv \\\n",
    "    --to-tsv"
   ]
  },
  {
   "cell_type": "markdown",
   "id": "edcbc163-84f0-46c6-8a0b-3e66d8b27e5b",
   "metadata": {},
   "source": [
    "**Step 3**\n",
    "\n",
    "Now open the `tsv` file in **libreoffice calc**, remove the extra part of feature name, and save it as another `tsv` file."
   ]
  },
  {
   "cell_type": "markdown",
   "id": "f7c20c7e-8b3a-48d2-aae7-dec6b6e886e6",
   "metadata": {},
   "source": [
    "**Step 4**\n",
    "\n",
    "Again convert the tsv biom file into hdf5 biom file."
   ]
  },
  {
   "cell_type": "code",
   "execution_count": 38,
   "id": "31b5c25a-99ae-4426-8c97-2ef1f7e167e3",
   "metadata": {},
   "outputs": [
    {
     "name": "stdout",
     "output_type": "stream",
     "text": [
      "(qiime2) "
     ]
    },
    {
     "ename": "",
     "evalue": "1",
     "output_type": "error",
     "traceback": []
    }
   ],
   "source": [
    "biom convert \\\n",
    "    -i qza/table-l5-biom/feature-table-family-only.csv \\\n",
    "    -o qza/table-l5-biom/feature-table-family-only.biom \\\n",
    "    --to-hdf5"
   ]
  },
  {
   "cell_type": "markdown",
   "id": "542fc778-b3e9-488d-b3a7-5f809ed14e7a",
   "metadata": {},
   "source": [
    "**Step 5**\n",
    "\n",
    "Import the biom file as qiime artifact"
   ]
  },
  {
   "cell_type": "code",
   "execution_count": 39,
   "id": "01e0d0ce-9727-46f6-ac0a-8a5218266287",
   "metadata": {},
   "outputs": [
    {
     "name": "stdout",
     "output_type": "stream",
     "text": [
      "\u001b[32mImported qza/table-l5-biom/feature-table-family-only.biom as BIOMV210Format to qza/feature-table-fammily-only.qza\u001b[0m\n",
      "(qiime2) "
     ]
    },
    {
     "ename": "",
     "evalue": "1",
     "output_type": "error",
     "traceback": []
    }
   ],
   "source": [
    "qiime tools import \\\n",
    "    --type FeatureTable[Frequency] \\\n",
    "    --input-path qza/table-l5-biom/feature-table-family-only.biom \\\n",
    "    --input-format BIOMV210Format  \\\n",
    "    --output-path qza/feature-table-family-only.qza"
   ]
  },
  {
   "cell_type": "markdown",
   "id": "a94bb960-811b-400f-9905-55f2ac16e496",
   "metadata": {},
   "source": [
    "**Let's get a summary of the newly crated feature table so that we can filter very low abundant features**"
   ]
  },
  {
   "cell_type": "code",
   "execution_count": 41,
   "id": "66c0d731-8d20-48cb-9ec6-3aa053c6f286",
   "metadata": {},
   "outputs": [
    {
     "name": "stdout",
     "output_type": "stream",
     "text": [
      "(qiime2) \u001b[32mSaved Visualization to: qzv/feature-table-family-only.qzv\u001b[0m\n",
      "(qiime2) "
     ]
    },
    {
     "ename": "",
     "evalue": "1",
     "output_type": "error",
     "traceback": []
    }
   ],
   "source": [
    "# Summerize feature table\n",
    "qiime feature-table summarize \\\n",
    "  --i-table qza/feature-table-family-only.qza \\\n",
    "  --m-sample-metadata-file metadata_v2.tsv \\\n",
    "  --o-visualization qzv/feature-table-family-only.qzv"
   ]
  },
  {
   "cell_type": "markdown",
   "id": "384df050-b8ac-4c34-8051-ee4f8f5aa699",
   "metadata": {},
   "source": [
    "From our `feature-table-family-only.qzv` visualization we can see that there are only 121 type of features at family level. Among them some features' freqency is as low as 1.\n",
    "\n",
    "I will remove the very low abundance features, so that we can focus on the features, that really matters. **Here I will list only those features which are in at least 2 samples.**\n",
    "\n",
    "This is no rule. I am just using a threshold. There is no specific logic behind it."
   ]
  },
  {
   "cell_type": "code",
   "execution_count": 48,
   "id": "25788d71-0969-49af-a4b5-119326b92b09",
   "metadata": {},
   "outputs": [
    {
     "name": "stdout",
     "output_type": "stream",
     "text": [
      "(qiime2) \u001b[32mSaved FeatureTable[Frequency] to: qza/feature-table-family-only-filered.qza\u001b[0m\n",
      "(qiime2) "
     ]
    },
    {
     "ename": "",
     "evalue": "1",
     "output_type": "error",
     "traceback": []
    }
   ],
   "source": [
    "# Filtering the very low abundance features\n",
    "qiime feature-table filter-features \\\n",
    "  --i-table qza/feature-table-family-only.qza\\\n",
    "  --p-min-frequency 50 \\\n",
    "  --o-filtered-table qza/feature-table-family-only-filered.qza"
   ]
  },
  {
   "cell_type": "code",
   "execution_count": 50,
   "id": "4d48054b-bbb4-4018-8632-61dc80b61f41",
   "metadata": {},
   "outputs": [
    {
     "name": "stdout",
     "output_type": "stream",
     "text": [
      "(qiime2) \u001b[32mSaved Visualization to: qzv/feature-table-family-only-filered.qzv\u001b[0m\n",
      "(qiime2) "
     ]
    },
    {
     "ename": "",
     "evalue": "1",
     "output_type": "error",
     "traceback": []
    }
   ],
   "source": [
    "# Summerize feature table\n",
    "qiime feature-table summarize \\\n",
    "  --i-table qza/feature-table-family-only-filered.qza \\\n",
    "  --m-sample-metadata-file metadata_v2.tsv \\\n",
    "  --o-visualization qzv/feature-table-family-only-filered.qzv"
   ]
  },
  {
   "cell_type": "markdown",
   "id": "e5915414-3a20-4839-8c25-3a8970e996d9",
   "metadata": {
    "jp-MarkdownHeadingCollapsed": true,
    "tags": []
   },
   "source": [
    "## Create Hetamap"
   ]
  },
  {
   "cell_type": "code",
   "execution_count": 40,
   "id": "61dff25e-8b3d-4bf3-b81b-2af9d88a82f7",
   "metadata": {
    "collapsed": true,
    "jupyter": {
     "outputs_hidden": true
    },
    "tags": []
   },
   "outputs": [
    {
     "name": "stdout",
     "output_type": "stream",
     "text": [
      "Usage: \u001b[34mqiime feature-table heatmap\u001b[0m [OPTIONS]\n",
      "\n",
      "  Generate a heatmap representation of a feature table with optional\n",
      "  clustering on both the sample and feature axes.\n",
      "\n",
      "  Tip: To generate a heatmap containing taxonomic annotations, use `qiime\n",
      "  taxa collapse` to collapse the feature table at the desired taxonomic\n",
      "  level.\n",
      "\n",
      "\u001b[1mInputs\u001b[0m:\n",
      "  \u001b[34m\u001b[4m--i-table\u001b[0m ARTIFACT \u001b[32mFeatureTable[Frequency]\u001b[0m\n",
      "                         The feature table to visualize.            \u001b[35m[required]\u001b[0m\n",
      "\u001b[1mParameters\u001b[0m:\n",
      "  \u001b[34m--m-sample-metadata-file\u001b[0m METADATA\n",
      "  \u001b[34m--m-sample-metadata-column\u001b[0m COLUMN  \u001b[32mMetadataColumn[Categorical]\u001b[0m\n",
      "                         Annotate the sample IDs with these sample metadata\n",
      "                         values. When metadata is present and\n",
      "                         `cluster`='feature', samples will be sorted by the\n",
      "                         metadata values.                           \u001b[35m[optional]\u001b[0m\n",
      "  \u001b[34m--m-feature-metadata-file\u001b[0m METADATA\n",
      "  \u001b[34m--m-feature-metadata-column\u001b[0m COLUMN  \u001b[32mMetadataColumn[Categorical]\u001b[0m\n",
      "                         Annotate the feature IDs with these feature metadata\n",
      "                         values. When metadata is present and\n",
      "                         `cluster`='sample', features will be sorted by the\n",
      "                         metadata values.                           \u001b[35m[optional]\u001b[0m\n",
      "  \u001b[34m--p-normalize\u001b[0m / \u001b[34m--p-no-normalize\u001b[0m\n",
      "                         Normalize the feature table by adding a psuedocount\n",
      "                         of 1 and then taking the log10 of the table.\n",
      "                                                               \u001b[35m[default: True]\u001b[0m\n",
      "  \u001b[34m--p-title\u001b[0m TEXT         Optional custom plot title.                \u001b[35m[optional]\u001b[0m\n",
      "  \u001b[34m--p-metric\u001b[0m TEXT \u001b[32mChoices('minkowski', 'dice', 'euclidean', 'cityblock',\u001b[0m\n",
      "    \u001b[32m'sokalsneath', 'seuclidean', 'canberra', 'correlation', 'braycurtis',\u001b[0m\n",
      "    \u001b[32m'yule', 'russellrao', 'jaccard', 'mahalanobis', 'chebyshev', 'kulsinski',\u001b[0m\n",
      "    \u001b[32m'cosine', 'matching', 'sokalmichener', 'hamming', 'rogerstanimoto',\u001b[0m\n",
      "    \u001b[32m'sqeuclidean')\u001b[0m       Metrics exposed by seaborn (see\n",
      "                         http://seaborn.pydata.org/generated/seaborn.clusterma\n",
      "                         p.html#seaborn.clustermap for more detail).\n",
      "                                                        \u001b[35m[default: 'euclidean']\u001b[0m\n",
      "  \u001b[34m--p-method\u001b[0m TEXT \u001b[32mChoices('complete', 'median', 'ward', 'average',\u001b[0m\n",
      "    \u001b[32m'centroid', 'weighted', 'single')\u001b[0m\n",
      "                         Clustering methods exposed by seaborn (see\n",
      "                         http://seaborn.pydata.org/generated/seaborn.clusterma\n",
      "                         p.html#seaborn.clustermap for more detail).\n",
      "                                                          \u001b[35m[default: 'average']\u001b[0m\n",
      "  \u001b[34m--p-cluster\u001b[0m TEXT \u001b[32mChoices('none', 'both', 'samples', 'features')\u001b[0m\n",
      "                         Specify which axes to cluster.      \u001b[35m[default: 'both']\u001b[0m\n",
      "  \u001b[34m--p-color-scheme\u001b[0m TEXT \u001b[32mChoices('jet', 'tab20', 'PiYG_r', 'YlGnBu_r',\u001b[0m\n",
      "    \u001b[32m'Set1', 'cool', 'Dark2_r', 'gist_rainbow', 'gist_stern_r', 'RdYlBu',\u001b[0m\n",
      "    \u001b[32m'Paired_r', 'brg_r', 'gnuplot', 'CMRmap', 'BuPu_r', 'seismic', 'Accent',\u001b[0m\n",
      "    \u001b[32m'Set3', 'BuGn', 'tab10_r', 'mako', 'Greens', 'Set1_r', 'Blues', 'tab20b',\u001b[0m\n",
      "    \u001b[32m'cool_r', 'bwr', 'Oranges_r', 'ocean', 'BrBG', 'RdGy', 'RdYlGn_r',\u001b[0m\n",
      "    \u001b[32m'Set2_r', 'RdPu_r', 'gray', 'rocket', 'gist_yarg', 'binary_r', 'Pastel1',\u001b[0m\n",
      "    \u001b[32m'YlGn_r', 'vlag_r', 'afmhot', 'coolwarm', 'terrain', 'OrRd_r', 'summer',\u001b[0m\n",
      "    \u001b[32m'nipy_spectral', 'Greys', 'inferno_r', 'cividis', 'bone', 'gnuplot2',\u001b[0m\n",
      "    \u001b[32m'afmhot_r', 'PuBuGn_r', 'Vega20_r', 'spring_r', 'nipy_spectral_r',\u001b[0m\n",
      "    \u001b[32m'YlOrBr', 'PuRd', 'copper', 'mako_r', 'copper_r', 'RdYlGn', 'autumn_r',\u001b[0m\n",
      "    \u001b[32m'Spectral', 'PuBuGn', 'flag_r', 'BrBG_r', 'Vega20', 'plasma_r',\u001b[0m\n",
      "    \u001b[32m'gist_earth', 'inferno', 'gist_heat_r', 'rainbow_r', 'BuPu', 'PRGn',\u001b[0m\n",
      "    \u001b[32m'bwr_r', 'PuOr', 'Purples_r', 'YlOrRd_r', 'cubehelix', 'autumn', 'RdPu',\u001b[0m\n",
      "    \u001b[32m'pink', 'spectral_r', 'gray_r', 'YlGn', 'Greens_r', 'Purples',\u001b[0m\n",
      "    \u001b[32m'gist_earth_r', 'YlOrBr_r', 'Wistia', 'Vega10_r', 'gist_yarg_r',\u001b[0m\n",
      "    \u001b[32m'icefire', 'Dark2', 'Vega20c_r', 'hot_r', 'cividis_r', 'PiYG', 'OrRd',\u001b[0m\n",
      "    \u001b[32m'tab20b_r', 'magma_r', 'RdBu', 'BuGn_r', 'tab20c', 'rocket_r', 'YlGnBu',\u001b[0m\n",
      "    \u001b[32m'RdBu_r', 'ocean_r', 'pink_r', 'spring', 'viridis', 'gist_heat', 'hot',\u001b[0m\n",
      "    \u001b[32m'Pastel2', 'gist_ncar_r', 'Paired', 'winter_r', 'PuBu', 'gist_stern',\u001b[0m\n",
      "    \u001b[32m'Pastel2_r', 'Reds_r', 'gnuplot_r', 'hsv_r', 'PuBu_r', 'Set3_r',\u001b[0m\n",
      "    \u001b[32m'terrain_r', 'cubehelix_r', 'Vega20b', 'icefire_r', 'Vega20b_r', 'magma',\u001b[0m\n",
      "    \u001b[32m'tab20_r', 'flag', 'prism_r', 'Spectral_r', 'tab10', 'Oranges', 'PuRd_r',\u001b[0m\n",
      "    \u001b[32m'PuOr_r', 'gist_gray', 'hsv', 'Set2', 'jet_r', 'Accent_r', 'Reds',\u001b[0m\n",
      "    \u001b[32m'Vega10', 'gist_gray_r', 'spectral', 'summer_r', 'rainbow', 'Blues_r',\u001b[0m\n",
      "    \u001b[32m'tab20c_r', 'CMRmap_r', 'PRGn_r', 'seismic_r', 'gist_ncar', 'GnBu',\u001b[0m\n",
      "    \u001b[32m'Greys_r', 'RdGy_r', 'prism', 'plasma', 'Pastel1_r', 'bone_r', 'GnBu_r',\u001b[0m\n",
      "    \u001b[32m'gnuplot2_r', 'brg', 'RdYlBu_r', 'coolwarm_r', 'gist_rainbow_r', 'YlOrRd',\u001b[0m\n",
      "    \u001b[32m'winter', 'binary', 'Vega20c', 'vlag', 'viridis_r', 'Wistia_r')\u001b[0m\n",
      "                         The matplotlib colorscheme to generate the heatmap\n",
      "                         with.                             \u001b[35m[default: 'rocket']\u001b[0m\n",
      "\u001b[1mOutputs\u001b[0m:\n",
      "  \u001b[34m\u001b[4m--o-visualization\u001b[0m VISUALIZATION\n",
      "                                                                    \u001b[35m[required]\u001b[0m\n",
      "\u001b[1mMiscellaneous\u001b[0m:\n",
      "  \u001b[34m--output-dir\u001b[0m PATH      Output unspecified results to a directory\n",
      "  \u001b[34m--verbose\u001b[0m / \u001b[34m--quiet\u001b[0m    Display verbose output to stdout and/or stderr\n",
      "                         during execution of this action. Or silence output if\n",
      "                         execution is successful (silence is golden).\n",
      "  \u001b[34m--examples\u001b[0m             Show usage examples and exit.\n",
      "  \u001b[34m--citations\u001b[0m            Show citations and exit.\n",
      "  \u001b[34m--help\u001b[0m                 Show this message and exit.\n",
      "(qiime2) "
     ]
    },
    {
     "ename": "",
     "evalue": "1",
     "output_type": "error",
     "traceback": []
    }
   ],
   "source": [
    "qiime feature-table heatmap --help"
   ]
  },
  {
   "cell_type": "markdown",
   "id": "4ecc1e6f-a758-4efa-96b6-01822410552c",
   "metadata": {
    "tags": []
   },
   "source": [
    "### Feature Table Heatmap based on Cohort"
   ]
  },
  {
   "cell_type": "code",
   "execution_count": 51,
   "id": "9b578e68",
   "metadata": {},
   "outputs": [
    {
     "name": "stdout",
     "output_type": "stream",
     "text": [
      "\u001b[32mSaved Visualization to: qzv/feature-table-heatmap-Cohort.qzv\u001b[0m\n",
      "(qiime2) "
     ]
    },
    {
     "ename": "",
     "evalue": "1",
     "output_type": "error",
     "traceback": []
    }
   ],
   "source": [
    "qiime feature-table heatmap \\\n",
    "    --i-table qza/feature-table-family-only-filered.qza \\\n",
    "    --m-sample-metadata-file metadata_v2.tsv \\\n",
    "    --m-sample-metadata-column Cohort \\\n",
    "    --p-cluster features \\\n",
    "    --o-visualization qzv/feature-table-heatmap-Cohort.qzv"
   ]
  },
  {
   "cell_type": "code",
   "execution_count": 12,
   "id": "42538f9f-3822-4d9b-a555-09d0c910ca1c",
   "metadata": {},
   "outputs": [
    {
     "name": "stdout",
     "output_type": "stream",
     "text": [
      "(qiime2) \u001b[32mExported qzv/feature-table-heatmap-Cohort.qzv as Visualization to directory qzv/heatmap-cohort\u001b[0m\n",
      "(qiime2) "
     ]
    },
    {
     "ename": "",
     "evalue": "1",
     "output_type": "error",
     "traceback": []
    }
   ],
   "source": [
    "# Export heatmap\n",
    "qiime tools export \\\n",
    "    --input-path qzv/feature-table-heatmap-Cohort.qzv \\\n",
    "    --output-path qzv/heatmap-cohort"
   ]
  },
  {
   "cell_type": "markdown",
   "id": "a2f7cfd9-9992-472a-b2a1-ec87be27eb16",
   "metadata": {
    "tags": []
   },
   "source": [
    "### Feature Table Heatmap based on Chakma"
   ]
  },
  {
   "cell_type": "code",
   "execution_count": 53,
   "id": "b32fea71-44eb-4d66-a157-6a3cd4430602",
   "metadata": {},
   "outputs": [
    {
     "name": "stdout",
     "output_type": "stream",
     "text": [
      "\u001b[32mSaved Visualization to: qzv/feature-table-heatmap-Chakma.qzv\u001b[0m\n",
      "(qiime2) "
     ]
    },
    {
     "ename": "",
     "evalue": "1",
     "output_type": "error",
     "traceback": []
    }
   ],
   "source": [
    "qiime feature-table heatmap \\\n",
    "    --i-table qza/feature-table-family-only-filered.qza \\\n",
    "    --m-sample-metadata-file metadata_v2.tsv \\\n",
    "    --m-sample-metadata-column Chakma \\\n",
    "    --p-cluster features \\\n",
    "    --p-color-scheme viridis \\\n",
    "    --o-visualization qzv/feature-table-heatmap-Chakma.qzv"
   ]
  },
  {
   "cell_type": "markdown",
   "id": "76b4dc14-d80e-42ab-a33c-0826de4c95d1",
   "metadata": {
    "jp-MarkdownHeadingCollapsed": true,
    "tags": []
   },
   "source": [
    "### Feature Table Heatmap based on Sex"
   ]
  },
  {
   "cell_type": "code",
   "execution_count": 54,
   "id": "572725af-31e4-40a6-8612-8a9e6e59a825",
   "metadata": {},
   "outputs": [
    {
     "name": "stdout",
     "output_type": "stream",
     "text": [
      "\u001b[32mSaved Visualization to: qzv/feature-table-heatmap-Sex.qzv\u001b[0m\n",
      "(qiime2) "
     ]
    },
    {
     "ename": "",
     "evalue": "1",
     "output_type": "error",
     "traceback": []
    }
   ],
   "source": [
    "qiime feature-table heatmap \\\n",
    "    --i-table qza/feature-table-family-only-filered.qza \\\n",
    "    --m-sample-metadata-file metadata_v2.tsv \\\n",
    "    --m-sample-metadata-column Sex \\\n",
    "    --p-cluster features \\\n",
    "    --p-color-scheme plasma \\\n",
    "    --o-visualization qzv/feature-table-heatmap-Sex.qzv"
   ]
  },
  {
   "cell_type": "markdown",
   "id": "0276782b-a9ae-4b5f-8488-da988ae86851",
   "metadata": {
    "tags": []
   },
   "source": [
    "### Feature Table Heatmap based on Age Group"
   ]
  },
  {
   "cell_type": "code",
   "execution_count": 55,
   "id": "0bcc2b76-6c82-457e-b4e0-2ebe2e45575d",
   "metadata": {},
   "outputs": [
    {
     "name": "stdout",
     "output_type": "stream",
     "text": [
      "\u001b[32mSaved Visualization to: qzv/feature-table-heatmap-Age.qzv\u001b[0m\n",
      "(qiime2) "
     ]
    },
    {
     "ename": "",
     "evalue": "1",
     "output_type": "error",
     "traceback": []
    }
   ],
   "source": [
    "qiime feature-table heatmap \\\n",
    "    --i-table qza/feature-table-family-only-filered.qza \\\n",
    "    --m-sample-metadata-file metadata_v2.tsv \\\n",
    "    --m-sample-metadata-column Age_group \\\n",
    "    --p-cluster features \\\n",
    "    --p-color-scheme magma \\\n",
    "    --o-visualization qzv/feature-table-heatmap-Age.qzv"
   ]
  },
  {
   "cell_type": "markdown",
   "id": "dca29d17-7e1b-4983-804a-da8e66513357",
   "metadata": {
    "jp-MarkdownHeadingCollapsed": true,
    "tags": []
   },
   "source": [
    "### Feature Table Heatmap based on Diseases groups (Control, HTN, GAstric_issues, DM, Arthritis)"
   ]
  },
  {
   "cell_type": "code",
   "execution_count": null,
   "id": "88cec867-977d-44d3-b78c-c9f757a391d4",
   "metadata": {},
   "outputs": [],
   "source": [
    "# Based on Control column\n",
    "qiime feature-table heatmap \\\n",
    "    --i-table qza/feature-table-family-only-filered.qza \\\n",
    "    --m-sample-metadata-file metadata_v2.tsv \\\n",
    "    --m-sample-metadata-column Control \\\n",
    "    --p-cluster features \\\n",
    "    --p-color-scheme cividis \\\n",
    "    --o-visualization qzv/feature-table-heatmap-Control.qzv\n",
    "    \n",
    "# Based on HTN column\n",
    "qiime feature-table heatmap \\\n",
    "    --i-table qza/feature-table-family-only-filered.qza \\\n",
    "    --m-sample-metadata-file metadata_v2.tsv \\\n",
    "    --m-sample-metadata-column HTN \\\n",
    "    --p-cluster features \\\n",
    "    --p-color-scheme PiYG_r \\\n",
    "    --o-visualization qzv/feature-table-heatmap-HTN.qzv\n",
    "\n",
    "# Based on Gastric_issues column\n",
    "qiime feature-table heatmap \\\n",
    "    --i-table qza/feature-table-family-only-filered.qza \\\n",
    "    --m-sample-metadata-file metadata_v2.tsv \\\n",
    "    --m-sample-metadata-column Gastric_issues \\\n",
    "    --p-cluster features \\\n",
    "    --p-color-scheme cool \\\n",
    "    --o-visualization qzv/feature-table-heatmap-Gastric.qzv\n",
    "\n",
    "\n",
    "# Based on DM column\n",
    "qiime feature-table heatmap \\\n",
    "    --i-table qza/feature-table-family-only-filered.qza \\\n",
    "    --m-sample-metadata-file metadata_v2.tsv \\\n",
    "    --m-sample-metadata-column DM \\\n",
    "    --p-cluster features \\\n",
    "    --p-color-scheme BrBG \\\n",
    "    --o-visualization qzv/feature-table-heatmap-DM.qzv\n",
    "\n",
    "\n",
    "# Based on Arthritis column\n",
    "qiime feature-table heatmap \\\n",
    "    --i-table qza/feature-table-family-only-filered.qza \\\n",
    "    --m-sample-metadata-file metadata_v2.tsv \\\n",
    "    --m-sample-metadata-column Arthritis \\\n",
    "    --p-cluster features \\\n",
    "    --p-color-scheme Spectral_r \\\n",
    "    --o-visualization qzv/feature-table-heatmap-Arthritis.qzv"
   ]
  },
  {
   "cell_type": "markdown",
   "id": "580b5899-7066-4ea3-aacc-3d3e8a01aaa3",
   "metadata": {
    "jp-MarkdownHeadingCollapsed": true,
    "tags": [],
    "toc-hr-collapsed": true
   },
   "source": [
    "# Core Features"
   ]
  },
  {
   "cell_type": "markdown",
   "id": "96010373-fdb3-4147-863b-b517155ee560",
   "metadata": {},
   "source": [
    "Now we will identify core features from **family** level."
   ]
  },
  {
   "cell_type": "markdown",
   "id": "c3d8fed2-b8ba-41ee-8b9b-13181b7693f8",
   "metadata": {},
   "source": [
    "In qiime `feature-table` plugin contains a command `core-features` to identify the core-micromes of given samples."
   ]
  },
  {
   "cell_type": "markdown",
   "id": "169eefb0-2392-4b33-ac47-a4616d753c86",
   "metadata": {},
   "source": [
    "Here I used `feature-table-family-only-filtered.qza` artifact to identify **core-features**, because I manually eidted it's data for **heatmap** generation and removed extra part of the fature names. So, it will be suitable for data presentation."
   ]
  },
  {
   "cell_type": "code",
   "execution_count": 10,
   "id": "a756b8e8-ca28-4da7-ba97-9ed288d5e149",
   "metadata": {},
   "outputs": [
    {
     "name": "stdout",
     "output_type": "stream",
     "text": [
      "\u001b[32mSaved Visualization to: qzv/core-features-family-filtered.qzv\u001b[0m\n",
      "(qiime2) "
     ]
    },
    {
     "ename": "",
     "evalue": "1",
     "output_type": "error",
     "traceback": []
    }
   ],
   "source": [
    "qiime feature-table core-features \\\n",
    "    --i-table qza/feature-table-family-only-filered.qza \\\n",
    "    --o-visualization qzv/core-features-family-filtered.qzv"
   ]
  },
  {
   "cell_type": "markdown",
   "id": "100d720c-ace8-4ebf-a670-7791789001fe",
   "metadata": {},
   "source": [
    "From `core-features-family-filtered.qzv` we can see that **full fraction (1.00)** of the samples (**that means all 42 samples**) contain 19 type of microbes family (feature count)."
   ]
  },
  {
   "cell_type": "markdown",
   "id": "5c307252-cf0f-417c-ac9a-b2a158096387",
   "metadata": {},
   "source": [
    "When we download the feature list in **TSV** format, we can see that the data is in **7 number statistics** format.\n",
    "\n",
    "<font color = red> Yet I don't know how to plot data from 7 number statistics format. </font>\n",
    "\n",
    "<font color = green> So I did another trick. I filtered the features which are in all **42 samples**, which generates same results as **core-features for full fraction of samples**. "
   ]
  },
  {
   "cell_type": "markdown",
   "id": "819eb636-1f2b-48a9-951d-61c0d7f3f190",
   "metadata": {},
   "source": [
    "Then,\n",
    "- Export the artifact in hdf5 biom format\n",
    "- Convert it into tsv format"
   ]
  },
  {
   "cell_type": "markdown",
   "id": "91663c9c-22f0-4b36-875f-260b6d5dac48",
   "metadata": {},
   "source": [
    "Thus, I get the feature counts of core microbe families for each samples."
   ]
  },
  {
   "cell_type": "markdown",
   "id": "42d2159a-43b1-43c9-82d7-56995b95d6f1",
   "metadata": {},
   "source": [
    "<font color = blue > Now, I will load the tsv data from **R_codes** notebook to generate box_plot from this tsv file. </font>"
   ]
  },
  {
   "cell_type": "code",
   "execution_count": 11,
   "id": "fed18ae9-20d1-47ef-9ca9-2a4f6f187ee5",
   "metadata": {},
   "outputs": [
    {
     "name": "stdout",
     "output_type": "stream",
     "text": [
      "(qiime2) \u001b[32mSaved FeatureTable[Frequency] to: qza/core-feature-family-level.qza\u001b[0m\n",
      "(qiime2) "
     ]
    },
    {
     "ename": "",
     "evalue": "1",
     "output_type": "error",
     "traceback": []
    }
   ],
   "source": [
    "# Filtering the core features\n",
    "qiime feature-table filter-features \\\n",
    "  --i-table qza/feature-table-family-only.qza\\\n",
    "  --p-min-samples 42 \\\n",
    "  --o-filtered-table qza/core-feature-family-level.qza"
   ]
  },
  {
   "cell_type": "code",
   "execution_count": 12,
   "id": "39944e54-bd70-4071-bf1e-0750270fb93e",
   "metadata": {},
   "outputs": [
    {
     "name": "stdout",
     "output_type": "stream",
     "text": [
      "\u001b[32mExported qza/core-feature-family-level.qza as BIOMV210DirFmt to directory qza/core-features\u001b[0m\n",
      "(qiime2) "
     ]
    },
    {
     "ename": "",
     "evalue": "1",
     "output_type": "error",
     "traceback": []
    }
   ],
   "source": [
    "qiime tools export \\\n",
    "    --input-path qza/core-feature-family-level.qza \\\n",
    "    --output-path qza/core-features"
   ]
  },
  {
   "cell_type": "code",
   "execution_count": 14,
   "id": "64b31561-a782-4709-bb11-03bcc8caa16e",
   "metadata": {},
   "outputs": [
    {
     "name": "stdout",
     "output_type": "stream",
     "text": [
      "(qiime2) "
     ]
    },
    {
     "ename": "",
     "evalue": "1",
     "output_type": "error",
     "traceback": []
    }
   ],
   "source": [
    "biom convert \\\n",
    "    -i qza/core-features/feature-table.biom \\\n",
    "    -o qza/core-features/core-feature-family-level.tsv \\\n",
    "    --to-tsv"
   ]
  },
  {
   "cell_type": "markdown",
   "id": "13bf0942-a2ce-4560-959b-d2cf0874353d",
   "metadata": {
    "jp-MarkdownHeadingCollapsed": true,
    "tags": [],
    "toc-hr-collapsed": true,
    "toc-nb-collapsed": true
   },
   "source": [
    "# Generate a tree for phylogenetic diversity analyses\n",
    "***"
   ]
  },
  {
   "cell_type": "markdown",
   "id": "d04bcefa-dbf6-44d8-be70-4ea4a5ec6419",
   "metadata": {
    "tags": [],
    "toc-hr-collapsed": true
   },
   "source": [
    "### Perform phylogenetic diversity by fragment insertion"
   ]
  },
  {
   "cell_type": "code",
   "execution_count": 2,
   "id": "e087450e-2a4b-46f2-a43f-4d476cab2e65",
   "metadata": {
    "collapsed": true,
    "jupyter": {
     "outputs_hidden": true
    },
    "run_control": {
     "marked": false
    },
    "tags": []
   },
   "outputs": [
    {
     "name": "stdout",
     "output_type": "stream",
     "text": [
      "(qiime2) --2021-08-12 11:44:44--  https://data.qiime2.org/2021.4/common/sepp-refs-gg-13-8.qza\n",
      "Resolving data.qiime2.org (data.qiime2.org)... 54.200.1.12\n",
      "Connecting to data.qiime2.org (data.qiime2.org)|54.200.1.12|:443... connected.\n",
      "HTTP request sent, awaiting response... 302 FOUND\n",
      "Location: https://s3-us-west-2.amazonaws.com/qiime2-data/2021.4/common/sepp-refs-gg-13-8.qza [following]\n",
      "--2021-08-12 11:44:45--  https://s3-us-west-2.amazonaws.com/qiime2-data/2021.4/common/sepp-refs-gg-13-8.qza\n",
      "Resolving s3-us-west-2.amazonaws.com (s3-us-west-2.amazonaws.com)... 52.92.145.112\n",
      "Connecting to s3-us-west-2.amazonaws.com (s3-us-west-2.amazonaws.com)|52.92.145.112|:443... connected.\n",
      "HTTP request sent, awaiting response... 200 OK\n",
      "Length: 50161069 (48M) [binary/octet-stream]\n",
      "Saving to: 'sepp-refs-gg-13-8.qza'\n",
      "\n",
      "sepp-refs-gg-13-8.q 100%[===================>]  47.84M   737KB/s    in 3m 18s  \n",
      "\n",
      "2021-08-12 11:48:05 (247 KB/s) - 'sepp-refs-gg-13-8.qza' saved [50161069/50161069]\n",
      "\n",
      "(qiime2) "
     ]
    },
    {
     "ename": "",
     "evalue": "1",
     "output_type": "error",
     "traceback": []
    }
   ],
   "source": [
    "# Download the reference database\n",
    "wget \\\n",
    "  -O \"sepp-refs-gg-13-8.qza\" \\\n",
    "  \"https://data.qiime2.org/2021.4/common/sepp-refs-gg-13-8.qza\""
   ]
  },
  {
   "cell_type": "code",
   "execution_count": 3,
   "id": "3b9fb08b-a3fc-4d31-a22d-fa3874f92069",
   "metadata": {
    "collapsed": true,
    "jupyter": {
     "outputs_hidden": true
    },
    "tags": []
   },
   "outputs": [
    {
     "name": "stdout",
     "output_type": "stream",
     "text": [
      "Usage: \u001b[34mqiime fragment-insertion sepp\u001b[0m [OPTIONS]\n",
      "\n",
      "  Perform fragment insertion of sequences using the SEPP algorithm.\n",
      "\n",
      "\u001b[1mInputs\u001b[0m:\n",
      "  \u001b[34m\u001b[4m--i-representative-sequences\u001b[0m ARTIFACT \u001b[32mFeatureData[Sequence]\u001b[0m\n",
      "                       The sequences to insert into the reference tree.\n",
      "                                                                    \u001b[35m[required]\u001b[0m\n",
      "  \u001b[34m\u001b[4m--i-reference-database\u001b[0m ARTIFACT \u001b[32mSeppReferenceDatabase\u001b[0m\n",
      "                       The reference database to insert the representative\n",
      "                       sequences into.                              \u001b[35m[required]\u001b[0m\n",
      "\u001b[1mParameters\u001b[0m:\n",
      "  \u001b[34m--p-alignment-subset-size\u001b[0m INTEGER\n",
      "                       Each placement subset is further broken into subsets\n",
      "                       of at most these many sequences and a separate HMM is\n",
      "                       trained on each subset.                 \u001b[35m[default: 1000]\u001b[0m\n",
      "  \u001b[34m--p-placement-subset-size\u001b[0m INTEGER\n",
      "                       The tree is divided into subsets such that each subset\n",
      "                       includes at most these many subsets. The placement step\n",
      "                       places the fragment on only one subset, determined\n",
      "                       based on alignment scores. Further reading:\n",
      "                       https://github.com/smirarab/sepp/blob/master/tutorial/s\n",
      "                       epp-tutorial.md#sample-datasets-default-parameters.\n",
      "                                                               \u001b[35m[default: 5000]\u001b[0m\n",
      "  \u001b[34m--p-threads\u001b[0m INTEGER  The number of threads to use.              \u001b[35m[default: 1]\u001b[0m\n",
      "  \u001b[34m--p-debug\u001b[0m / \u001b[34m--p-no-debug\u001b[0m\n",
      "                       Collect additional run information to STDOUT for\n",
      "                       debugging. Temporary directories will not be removed if\n",
      "                       run fails.                             \u001b[35m[default: False]\u001b[0m\n",
      "\u001b[1mOutputs\u001b[0m:\n",
      "  \u001b[34m\u001b[4m--o-tree\u001b[0m ARTIFACT    The tree with inserted feature data.\n",
      "    \u001b[32mPhylogeny[Rooted]\u001b[0m                                               \u001b[35m[required]\u001b[0m\n",
      "  \u001b[34m\u001b[4m--o-placements\u001b[0m ARTIFACT\n",
      "    \u001b[32mPlacements\u001b[0m         Information about the feature placements within the\n",
      "                       reference tree.                              \u001b[35m[required]\u001b[0m\n",
      "\u001b[1mMiscellaneous\u001b[0m:\n",
      "  \u001b[34m--output-dir\u001b[0m PATH    Output unspecified results to a directory\n",
      "  \u001b[34m--verbose\u001b[0m / \u001b[34m--quiet\u001b[0m  Display verbose output to stdout and/or stderr during\n",
      "                       execution of this action. Or silence output if\n",
      "                       execution is successful (silence is golden).\n",
      "  \u001b[34m--examples\u001b[0m           Show usage examples and exit.\n",
      "  \u001b[34m--citations\u001b[0m          Show citations and exit.\n",
      "  \u001b[34m--help\u001b[0m               Show this message and exit.\n",
      "(qiime2) "
     ]
    },
    {
     "ename": "",
     "evalue": "1",
     "output_type": "error",
     "traceback": []
    }
   ],
   "source": [
    "qiime fragment-insertion sepp --help"
   ]
  },
  {
   "cell_type": "code",
   "execution_count": 4,
   "id": "03f99414-13a3-4e02-bdbf-57a28e5f4ee3",
   "metadata": {
    "run_control": {
     "marked": false
    }
   },
   "outputs": [
    {
     "name": "stdout",
     "output_type": "stream",
     "text": [
      "\u001b[32mSaved Phylogeny[Rooted] to: qza/sepp_tree.qza\u001b[0m\n",
      "\u001b[32mSaved Placements to: qza/_sepptree_placements.qza\u001b[0m\n",
      "(qiime2) "
     ]
    },
    {
     "ename": "",
     "evalue": "1",
     "output_type": "error",
     "traceback": []
    }
   ],
   "source": [
    "qiime fragment-insertion sepp \\\n",
    "  --i-representative-sequences qza/rep-seqs.qza \\\n",
    "  --i-reference-database qza/sepp-refs-gg-13-8.qza \\\n",
    "  --o-tree qza/sepp_tree.qza \\\n",
    "  --o-placements qza/sepp_tree_placements.qza \\\n",
    "  --p-threads 60  # update to a higher number if you can\n",
    "  --verbose"
   ]
  },
  {
   "cell_type": "code",
   "execution_count": 6,
   "id": "cb778247-f17e-4493-897f-2393d77ac264",
   "metadata": {
    "run_control": {
     "marked": false
    }
   },
   "outputs": [
    {
     "name": "stdout",
     "output_type": "stream",
     "text": [
      "(qiime2) \u001b[32mExported qza/sepp_tree.qza as NewickDirectoryFormat to directory sepp_exported-tree\u001b[0m\n",
      "(qiime2) "
     ]
    },
    {
     "ename": "",
     "evalue": "1",
     "output_type": "error",
     "traceback": []
    }
   ],
   "source": [
    "# Export tree\n",
    "qiime tools export \\\n",
    "  --input-path qza/sepp_tree.qza \\\n",
    "  --output-path sepp_exported-tree"
   ]
  },
  {
   "cell_type": "markdown",
   "id": "9ef3334b-b8e0-499c-a9ba-4afe9f0dd595",
   "metadata": {
    "jp-MarkdownHeadingCollapsed": true,
    "tags": [],
    "toc-hr-collapsed": true
   },
   "source": [
    "### Perform phylogenetic diversity in one step (extra)"
   ]
  },
  {
   "cell_type": "markdown",
   "id": "8a4a0e2f-d721-4a94-8ad0-60e8f84a54d7",
   "metadata": {},
   "source": [
    "The code below will perform all phylogenetic tree related steps in one run.\n",
    "\n",
    "**But if we want to do these analysis step by step then, we can follow the codes under *Perform phylogenetic diversity step by step* section**"
   ]
  },
  {
   "cell_type": "markdown",
   "id": "029c9ec2-ea50-442b-921f-b290f742512c",
   "metadata": {
    "jp-MarkdownHeadingCollapsed": true,
    "tags": [],
    "toc-hr-collapsed": true
   },
   "source": [
    "### Perform phylogenetic diversity step by step (extra)"
   ]
  },
  {
   "cell_type": "code",
   "execution_count": 4,
   "id": "181cfd2f-b522-4f3a-84d1-9824b73f1b1a",
   "metadata": {
    "run_control": {
     "marked": false
    },
    "tags": []
   },
   "outputs": [
    {
     "name": "stdout",
     "output_type": "stream",
     "text": [
      "(qiime2) \u001b[32mSaved FeatureData[AlignedSequence] to: qza/aligned-rep-seqs.qza\u001b[0m\n",
      "(qiime2) "
     ]
    },
    {
     "ename": "",
     "evalue": "1",
     "output_type": "error",
     "traceback": []
    }
   ],
   "source": [
    "# perform multiple sequence alignment\n",
    "qiime alignment mafft \\\n",
    "  --i-sequences qza/rep-seqs.qza \\\n",
    "  --o-alignment qza/aligned-rep-seqs.qza"
   ]
  },
  {
   "cell_type": "markdown",
   "id": "83ef9d91-274f-432d-be29-9950ea6b01bf",
   "metadata": {},
   "source": [
    "Next, we mask (or filter) the alignment to remove positions that are highly variable. These positions are generally considered to add noise to a resulting phylogenetic tree."
   ]
  },
  {
   "cell_type": "code",
   "execution_count": 54,
   "id": "386f2473-6797-412e-8e41-9870c1cb6611",
   "metadata": {
    "run_control": {
     "marked": false
    }
   },
   "outputs": [
    {
     "name": "stdout",
     "output_type": "stream",
     "text": [
      "\u001b[32mSaved FeatureData[AlignedSequence] to: qza/masked-aligned-rep-seqs.qza\u001b[0m\n",
      "(qiime2) "
     ]
    },
    {
     "ename": "",
     "evalue": "1",
     "output_type": "error",
     "traceback": []
    }
   ],
   "source": [
    "qiime alignment mask \\\n",
    "  --i-alignment qza/aligned-rep-seqs.qza \\\n",
    "  --o-masked-alignment qza/masked-aligned-rep-seqs.qza"
   ]
  },
  {
   "cell_type": "markdown",
   "id": "12e2f010-f407-4b15-b21d-a3b1882b7c30",
   "metadata": {},
   "source": [
    "Next, we’ll apply FastTree to generate a phylogenetic tree from the masked alignment."
   ]
  },
  {
   "cell_type": "markdown",
   "id": "3b827873-ef13-4503-a59b-ede65e7ea01d",
   "metadata": {
    "tags": [],
    "toc-hr-collapsed": true
   },
   "source": [
    "## Alpha Rarefaction Curve"
   ]
  },
  {
   "cell_type": "code",
   "execution_count": 8,
   "id": "f1e92c0d-468d-4ed6-8162-73a9c9c5469d",
   "metadata": {
    "run_control": {
     "marked": false
    }
   },
   "outputs": [
    {
     "name": "stdout",
     "output_type": "stream",
     "text": [
      "\u001b[33mNo citations found.\u001b[0m\n",
      "(qiime2) "
     ]
    },
    {
     "ename": "",
     "evalue": "1",
     "output_type": "error",
     "traceback": []
    }
   ],
   "source": [
    "qiime diversity --citations"
   ]
  },
  {
   "cell_type": "code",
   "execution_count": 4,
   "id": "73ff2879-cf26-4345-a1e5-287cddf6f0e6",
   "metadata": {},
   "outputs": [
    {
     "name": "stdout",
     "output_type": "stream",
     "text": [
      "\u001b[32mExported qzv/alpha-rarefaction.qzv as Visualization to directory qzv/alpha-rarefaction\u001b[0m\n",
      "(qiime2) "
     ]
    },
    {
     "ename": "",
     "evalue": "1",
     "output_type": "error",
     "traceback": []
    }
   ],
   "source": [
    "qiime tools export \\\n",
    "    --input-path qzv/alpha-rarefaction.qzv \\\n",
    "    --output-path qzv/alpha-rarefaction"
   ]
  },
  {
   "cell_type": "markdown",
   "id": "101c8656-2f9e-41c9-8a88-c61880ec0cb1",
   "metadata": {
    "tags": [],
    "toc-hr-collapsed": true
   },
   "source": [
    "##  Core Metrics"
   ]
  },
  {
   "cell_type": "code",
   "execution_count": 7,
   "id": "d3f672f1-8aad-4bb7-89d3-379a9f79f890",
   "metadata": {
    "collapsed": true,
    "jupyter": {
     "outputs_hidden": true
    },
    "run_control": {
     "marked": false
    },
    "tags": []
   },
   "outputs": [
    {
     "name": "stdout",
     "output_type": "stream",
     "text": [
      "Usage: \u001b[34mqiime diversity core-metrics-phylogenetic\u001b[0m [OPTIONS]\n",
      "\n",
      "  Applies a collection of diversity metrics (both phylogenetic and non-\n",
      "  phylogenetic) to a feature table.\n",
      "\n",
      "\u001b[1mInputs\u001b[0m:\n",
      "  \u001b[34m\u001b[4m--i-table\u001b[0m ARTIFACT \u001b[32mFeatureTable[Frequency]\u001b[0m\n",
      "                          The feature table containing the samples over which\n",
      "                          diversity metrics should be computed.     \u001b[35m[required]\u001b[0m\n",
      "  \u001b[34m\u001b[4m--i-phylogeny\u001b[0m ARTIFACT  Phylogenetic tree containing tip identifiers that\n",
      "    \u001b[32mPhylogeny[Rooted]\u001b[0m     correspond to the feature identifiers in the table.\n",
      "                          This tree can contain tip ids that are not present\n",
      "                          in the table, but all feature ids in the table must\n",
      "                          be present in this tree.                  \u001b[35m[required]\u001b[0m\n",
      "\u001b[1mParameters\u001b[0m:\n",
      "  \u001b[34m\u001b[4m--p-sampling-depth\u001b[0m INTEGER\n",
      "    \u001b[32mRange(1, None)\u001b[0m        The total frequency that each sample should be\n",
      "                          rarefied to prior to computing diversity metrics.\n",
      "                                                                    \u001b[35m[required]\u001b[0m\n",
      "  \u001b[34m\u001b[4m--m-metadata-file\u001b[0m METADATA...\n",
      "    (multiple arguments   The sample metadata to use in the emperor plots.\n",
      "     will be merged)                                                \u001b[35m[required]\u001b[0m\n",
      "  \u001b[34m--p-n-jobs-or-threads\u001b[0m VALUE \u001b[32mInt % Range(1, None) | Str % Choices('auto')\u001b[0m\n",
      "                          [beta/beta-phylogenetic methods only] - The number\n",
      "                          of concurrent jobs or CPU threads to use in\n",
      "                          performing this calculation. Individual methods will\n",
      "                          create jobs/threads as implemented in\n",
      "                          q2-diversity-lib dependencies. May not exceed the\n",
      "                          number of available physical cores. If\n",
      "                          \u001b[4mn-jobs-or-threads\u001b[0m = 'auto', one thread/job will be\n",
      "                          created for each identified CPU core on the host.\n",
      "                                                                  \u001b[35m[default: 1]\u001b[0m\n",
      "\u001b[1mOutputs\u001b[0m:\n",
      "  \u001b[34m\u001b[4m--o-rarefied-table\u001b[0m ARTIFACT \u001b[32mFeatureTable[Frequency]\u001b[0m\n",
      "                          The resulting rarefied feature table.     \u001b[35m[required]\u001b[0m\n",
      "  \u001b[34m\u001b[4m--o-faith-pd-vector\u001b[0m ARTIFACT \u001b[32mSampleData[AlphaDiversity]\u001b[0m\n",
      "                          Vector of Faith PD values by sample.      \u001b[35m[required]\u001b[0m\n",
      "  \u001b[34m\u001b[4m--o-observed-features-vector\u001b[0m ARTIFACT \u001b[32mSampleData[AlphaDiversity]\u001b[0m\n",
      "                          Vector of Observed Features values by sample.\n",
      "                                                                    \u001b[35m[required]\u001b[0m\n",
      "  \u001b[34m\u001b[4m--o-shannon-vector\u001b[0m ARTIFACT \u001b[32mSampleData[AlphaDiversity]\u001b[0m\n",
      "                          Vector of Shannon diversity values by sample.\n",
      "                                                                    \u001b[35m[required]\u001b[0m\n",
      "  \u001b[34m\u001b[4m--o-evenness-vector\u001b[0m ARTIFACT \u001b[32mSampleData[AlphaDiversity]\u001b[0m\n",
      "                          Vector of Pielou's evenness values by sample.\n",
      "                                                                    \u001b[35m[required]\u001b[0m\n",
      "  \u001b[34m\u001b[4m--o-unweighted-unifrac-distance-matrix\u001b[0m ARTIFACT\n",
      "    \u001b[32mDistanceMatrix\u001b[0m        Matrix of unweighted UniFrac distances between\n",
      "                          pairs of samples.                         \u001b[35m[required]\u001b[0m\n",
      "  \u001b[34m\u001b[4m--o-weighted-unifrac-distance-matrix\u001b[0m ARTIFACT\n",
      "    \u001b[32mDistanceMatrix\u001b[0m        Matrix of weighted UniFrac distances between pairs\n",
      "                          of samples.                               \u001b[35m[required]\u001b[0m\n",
      "  \u001b[34m\u001b[4m--o-jaccard-distance-matrix\u001b[0m ARTIFACT\n",
      "    \u001b[32mDistanceMatrix\u001b[0m        Matrix of Jaccard distances between pairs of\n",
      "                          samples.                                  \u001b[35m[required]\u001b[0m\n",
      "  \u001b[34m\u001b[4m--o-bray-curtis-distance-matrix\u001b[0m ARTIFACT\n",
      "    \u001b[32mDistanceMatrix\u001b[0m        Matrix of Bray-Curtis distances between pairs of\n",
      "                          samples.                                  \u001b[35m[required]\u001b[0m\n",
      "  \u001b[34m\u001b[4m--o-unweighted-unifrac-pcoa-results\u001b[0m ARTIFACT\n",
      "    \u001b[32mPCoAResults\u001b[0m           PCoA matrix computed from unweighted UniFrac\n",
      "                          distances between samples.                \u001b[35m[required]\u001b[0m\n",
      "  \u001b[34m\u001b[4m--o-weighted-unifrac-pcoa-results\u001b[0m ARTIFACT\n",
      "    \u001b[32mPCoAResults\u001b[0m           PCoA matrix computed from weighted UniFrac\n",
      "                          distances between samples.                \u001b[35m[required]\u001b[0m\n",
      "  \u001b[34m\u001b[4m--o-jaccard-pcoa-results\u001b[0m ARTIFACT\n",
      "    \u001b[32mPCoAResults\u001b[0m           PCoA matrix computed from Jaccard distances between\n",
      "                          samples.                                  \u001b[35m[required]\u001b[0m\n",
      "  \u001b[34m\u001b[4m--o-bray-curtis-pcoa-results\u001b[0m ARTIFACT\n",
      "    \u001b[32mPCoAResults\u001b[0m           PCoA matrix computed from Bray-Curtis distances\n",
      "                          between samples.                          \u001b[35m[required]\u001b[0m\n",
      "  \u001b[34m\u001b[4m--o-unweighted-unifrac-emperor\u001b[0m VISUALIZATION\n",
      "                          Emperor plot of the PCoA matrix computed from\n",
      "                          unweighted UniFrac.                       \u001b[35m[required]\u001b[0m\n",
      "  \u001b[34m\u001b[4m--o-weighted-unifrac-emperor\u001b[0m VISUALIZATION\n",
      "                          Emperor plot of the PCoA matrix computed from\n",
      "                          weighted UniFrac.                         \u001b[35m[required]\u001b[0m\n",
      "  \u001b[34m\u001b[4m--o-jaccard-emperor\u001b[0m VISUALIZATION\n",
      "                          Emperor plot of the PCoA matrix computed from\n",
      "                          Jaccard.                                  \u001b[35m[required]\u001b[0m\n",
      "  \u001b[34m\u001b[4m--o-bray-curtis-emperor\u001b[0m VISUALIZATION\n",
      "                          Emperor plot of the PCoA matrix computed from\n",
      "                          Bray-Curtis.                              \u001b[35m[required]\u001b[0m\n",
      "\u001b[1mMiscellaneous\u001b[0m:\n",
      "  \u001b[34m--output-dir\u001b[0m PATH       Output unspecified results to a directory\n",
      "  \u001b[34m--verbose\u001b[0m / \u001b[34m--quiet\u001b[0m     Display verbose output to stdout and/or stderr\n",
      "                          during execution of this action. Or silence output\n",
      "                          if execution is successful (silence is golden).\n",
      "  \u001b[34m--examples\u001b[0m              Show usage examples and exit.\n",
      "  \u001b[34m--citations\u001b[0m             Show citations and exit.\n",
      "  \u001b[34m--help\u001b[0m                  Show this message and exit.\n",
      "\u001b[?2004h(qiime2) "
     ]
    },
    {
     "ename": "",
     "evalue": "1",
     "output_type": "error",
     "traceback": []
    }
   ],
   "source": [
    "qiime diversity core-metrics-phylogenetic --help"
   ]
  },
  {
   "cell_type": "code",
   "execution_count": 6,
   "id": "74155b7e-0538-472e-b2e4-c6f8eaa044c8",
   "metadata": {
    "collapsed": true,
    "jupyter": {
     "outputs_hidden": true
    },
    "run_control": {
     "marked": false
    },
    "tags": []
   },
   "outputs": [
    {
     "name": "stdout",
     "output_type": "stream",
     "text": [
      "\u001b[32mSaved FeatureTable[Frequency] to: ./core-metrics-results/rarefied_table.qza\u001b[0m\n",
      "\u001b[32mSaved SampleData[AlphaDiversity] to: ./core-metrics-results/faith_pd_vector.qza\u001b[0m\n",
      "\u001b[32mSaved SampleData[AlphaDiversity] to: ./core-metrics-results/observed_features_vector.qza\u001b[0m\n",
      "\u001b[32mSaved SampleData[AlphaDiversity] to: ./core-metrics-results/shannon_vector.qza\u001b[0m\n",
      "\u001b[32mSaved SampleData[AlphaDiversity] to: ./core-metrics-results/evenness_vector.qza\u001b[0m\n",
      "\u001b[32mSaved DistanceMatrix to: ./core-metrics-results/unweighted_unifrac_distance_matrix.qza\u001b[0m\n",
      "\u001b[32mSaved DistanceMatrix to: ./core-metrics-results/weighted_unifrac_distance_matrix.qza\u001b[0m\n",
      "\u001b[32mSaved DistanceMatrix to: ./core-metrics-results/jaccard_distance_matrix.qza\u001b[0m\n",
      "\u001b[32mSaved DistanceMatrix to: ./core-metrics-results/bray_curtis_distance_matrix.qza\u001b[0m\n",
      "\u001b[32mSaved PCoAResults to: ./core-metrics-results/unweighted_unifrac_pcoa_results.qza\u001b[0m\n",
      "\u001b[32mSaved PCoAResults to: ./core-metrics-results/weighted_unifrac_pcoa_results.qza\u001b[0m\n",
      "\u001b[32mSaved PCoAResults to: ./core-metrics-results/jaccard_pcoa_results.qza\u001b[0m\n",
      "\u001b[32mSaved PCoAResults to: ./core-metrics-results/bray_curtis_pcoa_results.qza\u001b[0m\n",
      "\u001b[32mSaved Visualization to: ./core-metrics-results/unweighted_unifrac_emperor.qzv\u001b[0m\n",
      "\u001b[32mSaved Visualization to: ./core-metrics-results/weighted_unifrac_emperor.qzv\u001b[0m\n",
      "\u001b[32mSaved Visualization to: ./core-metrics-results/jaccard_emperor.qzv\u001b[0m\n",
      "\u001b[32mSaved Visualization to: ./core-metrics-results/bray_curtis_emperor.qzv\u001b[0m\n",
      "(qiime2) "
     ]
    },
    {
     "ename": "",
     "evalue": "1",
     "output_type": "error",
     "traceback": []
    }
   ],
   "source": [
    "qiime diversity core-metrics-phylogenetic \\\n",
    "  --i-table qza/table.qza \\\n",
    "  --i-phylogeny qza/sepp_tree.qza \\\n",
    "  --m-metadata-file  metadata_16s.tsv \\\n",
    "  --p-sampling-depth 34568 \\\n",
    "  --p-n-jobs-or-threads 'auto' \\\n",
    "  --output-dir ./core-metrics-results"
   ]
  },
  {
   "cell_type": "code",
   "execution_count": 8,
   "id": "665b5732-d08f-4910-909f-2443bb482d25",
   "metadata": {
    "run_control": {
     "marked": false
    }
   },
   "outputs": [
    {
     "name": "stdout",
     "output_type": "stream",
     "text": [
      "\u001b[32mSaved Visualization to: qzv/rarefied_table.qzv\u001b[0m\n",
      "\u001b[?2004h(qiime2) "
     ]
    },
    {
     "ename": "",
     "evalue": "1",
     "output_type": "error",
     "traceback": []
    }
   ],
   "source": [
    "qiime feature-table summarize \\\n",
    "  --i-table core-metrics-results/rarefied_table.qza \\\n",
    "  --m-sample-metadata-file metadata_16s.tsv \\\n",
    "  --o-visualization qzv/rarefied_table.qzv"
   ]
  },
  {
   "cell_type": "markdown",
   "id": "d4aa4aac-aeeb-4601-90c7-67f3798de782",
   "metadata": {
    "tags": [],
    "toc-hr-collapsed": true
   },
   "source": [
    "# Alpha Diversity"
   ]
  },
  {
   "cell_type": "markdown",
   "id": "4e26936b-51ab-4ec0-b011-aef4d1d94e4f",
   "metadata": {
    "jp-MarkdownHeadingCollapsed": true,
    "tags": [],
    "toc-hr-collapsed": true
   },
   "source": [
    "### Observed Features"
   ]
  },
  {
   "cell_type": "code",
   "execution_count": 9,
   "id": "477da895-7639-4e6b-a338-502fa38e9b2d",
   "metadata": {
    "collapsed": true,
    "jupyter": {
     "outputs_hidden": true
    },
    "tags": []
   },
   "outputs": [
    {
     "name": "stdout",
     "output_type": "stream",
     "text": [
      "Usage: \u001b[34mqiime diversity alpha-group-significance\u001b[0m [OPTIONS]\n",
      "\n",
      "  Visually and statistically compare groups of alpha diversity values.\n",
      "\n",
      "\u001b[1mInputs\u001b[0m:\n",
      "  \u001b[34m\u001b[4m--i-alpha-diversity\u001b[0m ARTIFACT \u001b[32mSampleData[AlphaDiversity]\u001b[0m\n",
      "                       Vector of alpha diversity values by sample.  \u001b[35m[required]\u001b[0m\n",
      "\u001b[1mParameters\u001b[0m:\n",
      "  \u001b[34m\u001b[4m--m-metadata-file\u001b[0m METADATA...\n",
      "    (multiple          The sample metadata.\n",
      "     arguments will    \n",
      "     be merged)                                                     \u001b[35m[required]\u001b[0m\n",
      "\u001b[1mOutputs\u001b[0m:\n",
      "  \u001b[34m\u001b[4m--o-visualization\u001b[0m VISUALIZATION\n",
      "                                                                    \u001b[35m[required]\u001b[0m\n",
      "\u001b[1mMiscellaneous\u001b[0m:\n",
      "  \u001b[34m--output-dir\u001b[0m PATH    Output unspecified results to a directory\n",
      "  \u001b[34m--verbose\u001b[0m / \u001b[34m--quiet\u001b[0m  Display verbose output to stdout and/or stderr during\n",
      "                       execution of this action. Or silence output if\n",
      "                       execution is successful (silence is golden).\n",
      "  \u001b[34m--examples\u001b[0m           Show usage examples and exit.\n",
      "  \u001b[34m--citations\u001b[0m          Show citations and exit.\n",
      "  \u001b[34m--help\u001b[0m               Show this message and exit.\n",
      "(qiime2) "
     ]
    },
    {
     "ename": "",
     "evalue": "1",
     "output_type": "error",
     "traceback": []
    }
   ],
   "source": [
    "qiime diversity alpha-group-significance --help"
   ]
  },
  {
   "cell_type": "code",
   "execution_count": 9,
   "id": "de3d86df-aaf4-412d-90a0-d9e1c8eb72b5",
   "metadata": {
    "run_control": {
     "marked": false
    }
   },
   "outputs": [
    {
     "name": "stdout",
     "output_type": "stream",
     "text": [
      "\u001b[32mSaved Visualization to: ./core-metrics-results/observed_features_statistics.qzv\u001b[0m\n",
      "(qiime2) "
     ]
    },
    {
     "ename": "",
     "evalue": "1",
     "output_type": "error",
     "traceback": []
    }
   ],
   "source": [
    "qiime diversity alpha-group-significance \\\n",
    "  --i-alpha-diversity ./core-metrics-results/observed_features_vector.qza \\\n",
    "  --m-metadata-file ./metadata_16s.tsv \\\n",
    "  --o-visualization ./core-metrics-results/observed_features_statistics.qzv"
   ]
  },
  {
   "cell_type": "markdown",
   "id": "ce7eaf99-e0a0-4aed-8b05-e0274563aaa9",
   "metadata": {
    "jp-MarkdownHeadingCollapsed": true,
    "tags": [],
    "toc-hr-collapsed": true
   },
   "source": [
    "### Shanon Index"
   ]
  },
  {
   "cell_type": "code",
   "execution_count": 3,
   "id": "c33b1224-5c69-42fd-93e8-279252532017",
   "metadata": {
    "run_control": {
     "marked": false
    }
   },
   "outputs": [
    {
     "name": "stdout",
     "output_type": "stream",
     "text": [
      "\u001b[32mSaved Visualization to: ./core-metrics-results/shannon_vector_statistics.qzv\u001b[0m\n",
      "(qiime2) "
     ]
    },
    {
     "ename": "",
     "evalue": "1",
     "output_type": "error",
     "traceback": []
    }
   ],
   "source": [
    "qiime diversity alpha-group-significance \\\n",
    "  --i-alpha-diversity ./core-metrics-results/shannon_vector.qza \\\n",
    "  --m-metadata-file ./metadata_16s.tsv \\\n",
    "  --o-visualization ./core-metrics-results/shannon_vector_statistics.qzv"
   ]
  },
  {
   "cell_type": "markdown",
   "id": "c6268f62-6749-493b-922b-71aee423985c",
   "metadata": {
    "tags": [],
    "toc-hr-collapsed": true
   },
   "source": [
    "### Faith PD"
   ]
  },
  {
   "cell_type": "code",
   "execution_count": 4,
   "id": "5a9f60c6-35ea-412b-9578-95db67722192",
   "metadata": {
    "run_control": {
     "marked": false
    }
   },
   "outputs": [
    {
     "name": "stdout",
     "output_type": "stream",
     "text": [
      "\u001b[32mSaved Visualization to: ./core-metrics-results/faith_pd_statistics.qzv\u001b[0m\n",
      "(qiime2) "
     ]
    },
    {
     "ename": "",
     "evalue": "1",
     "output_type": "error",
     "traceback": []
    }
   ],
   "source": [
    "qiime diversity alpha-group-significance \\\n",
    "  --i-alpha-diversity ./core-metrics-results/faith_pd_vector.qza \\\n",
    "  --m-metadata-file ./metadata_16s.tsv \\\n",
    "  --o-visualization ./core-metrics-results/faith_pd_statistics.qzv"
   ]
  },
  {
   "cell_type": "markdown",
   "id": "1c291e88-8e62-4622-bbe5-69a8fb98edd1",
   "metadata": {
    "tags": [],
    "toc-hr-collapsed": true
   },
   "source": [
    "### Evenness"
   ]
  },
  {
   "cell_type": "code",
   "execution_count": 6,
   "id": "cfbdf8cb-bab9-4a4a-8553-a2c0c4ce5232",
   "metadata": {
    "run_control": {
     "marked": false
    }
   },
   "outputs": [
    {
     "name": "stdout",
     "output_type": "stream",
     "text": [
      "\u001b[32mSaved Visualization to: ./core-metrics-results/evenness_statistics.qzv\u001b[0m\n",
      "(qiime2) "
     ]
    },
    {
     "ename": "",
     "evalue": "1",
     "output_type": "error",
     "traceback": []
    }
   ],
   "source": [
    "qiime diversity alpha-group-significance \\\n",
    "  --i-alpha-diversity ./core-metrics-results/evenness_vector.qza \\\n",
    "  --m-metadata-file ./metadata_16s.tsv \\\n",
    "  --o-visualization ./core-metrics-results/evenness_statistics.qzv"
   ]
  },
  {
   "cell_type": "markdown",
   "id": "fb1327f5-218c-47bc-b53d-0f1c98768d94",
   "metadata": {
    "tags": [],
    "toc-hr-collapsed": true
   },
   "source": [
    "## ANOVA test"
   ]
  },
  {
   "cell_type": "markdown",
   "id": "9907bd83-12fb-4b3f-b011-77d0aa5533f8",
   "metadata": {},
   "source": [
    "In this case effect of all other metadata category was substracted from Cohort to test whether only Cohort has any effect of alpha diversity.\n",
    "\n",
    "That's why two way ANOVA test was performed with all alpha diversity metric."
   ]
  },
  {
   "cell_type": "code",
   "execution_count": 2,
   "id": "23c370b6-90ad-4b63-94cc-a6ce64c311cf",
   "metadata": {
    "collapsed": true,
    "jupyter": {
     "outputs_hidden": true
    },
    "tags": []
   },
   "outputs": [
    {
     "name": "stdout",
     "output_type": "stream",
     "text": [
      "Usage: \u001b[34mqiime longitudinal anova\u001b[0m [OPTIONS]\n",
      "\n",
      "  Perform an ANOVA test on any factors present in a metadata file and/or\n",
      "  metadata-transformable artifacts. This is followed by pairwise t-tests to\n",
      "  examine pairwise differences between categorical sample groups.\n",
      "\n",
      "\u001b[1mParameters\u001b[0m:\n",
      "  \u001b[34m\u001b[4m--m-metadata-file\u001b[0m METADATA...\n",
      "    (multiple          Sample metadata containing formula terms.\n",
      "     arguments will    \n",
      "     be merged)                                                     \u001b[35m[required]\u001b[0m\n",
      "  \u001b[34m\u001b[4m--p-formula\u001b[0m TEXT     R-style formula specifying the model. All terms must\n",
      "                       be present in the sample metadata or\n",
      "                       metadata-transformable artifacts and can be continuous\n",
      "                       or categorical metadata columns. Formulae will be in\n",
      "                       the format \"a ~ b + c\", where \"a\" is the metric\n",
      "                       (dependent variable) and \"b\" and \"c\" are independent\n",
      "                       covariates. Use \"+\" to add a variable; \"+ a:b\" to add\n",
      "                       an interaction between variables a and b; \"*\" to\n",
      "                       include a variable and all interactions; and \"-\" to\n",
      "                       subtract a particular term (e.g., an interaction term).\n",
      "                       See\n",
      "                       https://patsy.readthedocs.io/en/latest/formulas.html\n",
      "                       for full documentation of valid formula operators.\n",
      "                       Always enclose formulae in quotes to avoid unpleasant\n",
      "                       surprises.                                   \u001b[35m[required]\u001b[0m\n",
      "  \u001b[34m--p-sstype\u001b[0m TEXT \u001b[32mChoices('I', 'II', 'III')\u001b[0m\n",
      "                       Type of sum of squares calculation to perform (I, II,\n",
      "                       or III).                                \u001b[35m[default: 'II']\u001b[0m\n",
      "\u001b[1mOutputs\u001b[0m:\n",
      "  \u001b[34m\u001b[4m--o-visualization\u001b[0m VISUALIZATION\n",
      "                                                                    \u001b[35m[required]\u001b[0m\n",
      "\u001b[1mMiscellaneous\u001b[0m:\n",
      "  \u001b[34m--output-dir\u001b[0m PATH    Output unspecified results to a directory\n",
      "  \u001b[34m--verbose\u001b[0m / \u001b[34m--quiet\u001b[0m  Display verbose output to stdout and/or stderr during\n",
      "                       execution of this action. Or silence output if\n",
      "                       execution is successful (silence is golden).\n",
      "  \u001b[34m--examples\u001b[0m           Show usage examples and exit.\n",
      "  \u001b[34m--citations\u001b[0m          Show citations and exit.\n",
      "  \u001b[34m--help\u001b[0m               Show this message and exit.\n",
      "(qiime2) "
     ]
    },
    {
     "ename": "",
     "evalue": "1",
     "output_type": "error",
     "traceback": []
    }
   ],
   "source": [
    "qiime longitudinal anova --help"
   ]
  },
  {
   "cell_type": "markdown",
   "id": "3438d918-f300-4e65-903d-4e48beba9c5e",
   "metadata": {
    "tags": []
   },
   "source": [
    "#### **Cohort and non-disease categories**"
   ]
  },
  {
   "cell_type": "code",
   "execution_count": 78,
   "id": "c81ae2b9-ebf6-497b-8c3b-ef8453ffc947",
   "metadata": {
    "run_control": {
     "marked": false
    }
   },
   "outputs": [
    {
     "name": "stdout",
     "output_type": "stream",
     "text": [
      "(qiime2) \u001b[32mSaved Visualization to: ./core-metrics-results/of-cohort-age_sex-anova.qzv\u001b[0m\n",
      "(qiime2) "
     ]
    },
    {
     "ename": "",
     "evalue": "1",
     "output_type": "error",
     "traceback": []
    }
   ],
   "source": [
    "# ANOVA for observed features\n",
    "qiime longitudinal anova \\\n",
    "  --m-metadata-file ./core-metrics-results/observed_features_vector.qza \\\n",
    "  --m-metadata-file ./metadata_16s.tsv \\\n",
    "  --p-formula 'observed_features ~ Cohort*(Sex+Age_group)' \\\n",
    "  --o-visualization ./core-metrics-results/of-cohort-age_sex-anova.qzv"
   ]
  },
  {
   "cell_type": "code",
   "execution_count": 69,
   "id": "3343d25e-80f9-4052-be11-bdb849434d18",
   "metadata": {},
   "outputs": [
    {
     "name": "stdout",
     "output_type": "stream",
     "text": [
      "(qiime2) \u001b[32mSaved Visualization to: ./core-metrics-results/shannon-cohort-sex_age-anova.qzv\u001b[0m\n",
      "(qiime2) "
     ]
    },
    {
     "ename": "",
     "evalue": "1",
     "output_type": "error",
     "traceback": []
    }
   ],
   "source": [
    "# ANOVA for shannon index\n",
    "qiime longitudinal anova \\\n",
    "  --m-metadata-file ./core-metrics-results/shannon_vector.qza \\\n",
    "  --m-metadata-file ./metadata_16s.tsv \\\n",
    "  --p-formula 'shannon_entropy ~ Cohort*(Sex+Age_group)' \\\n",
    "  --o-visualization ./core-metrics-results/shannon-cohort-sex_age-anova.qzv"
   ]
  },
  {
   "cell_type": "code",
   "execution_count": 72,
   "id": "27c2c84b-6ae0-4ac0-bd66-029cf3ef7de2",
   "metadata": {},
   "outputs": [
    {
     "name": "stdout",
     "output_type": "stream",
     "text": [
      "(qiime2) \u001b[32mSaved Visualization to: ./core-metrics-results/evenness-cohort-age_sex-anova.qzv\u001b[0m\n",
      "(qiime2) "
     ]
    },
    {
     "ename": "",
     "evalue": "1",
     "output_type": "error",
     "traceback": []
    }
   ],
   "source": [
    "# ANOVA for evenness\n",
    "qiime longitudinal anova \\\n",
    "  --m-metadata-file ./core-metrics-results/evenness_vector.qza \\\n",
    "  --m-metadata-file ./metadata_16s.tsv \\\n",
    "  --p-formula 'pielou_evenness ~ Cohort*(Sex+Age_group)' \\\n",
    "  --o-visualization ./core-metrics-results/evenness-cohort-age_sex-anova.qzv"
   ]
  },
  {
   "cell_type": "code",
   "execution_count": 71,
   "id": "30f82c6c-91b1-495e-aa1f-6f852f99c8e4",
   "metadata": {},
   "outputs": [
    {
     "name": "stdout",
     "output_type": "stream",
     "text": [
      "(qiime2) \u001b[32mSaved Visualization to: ./core-metrics-results/faith_pd-cohort-sex_age-anova.qzv\u001b[0m\n",
      "(qiime2) "
     ]
    },
    {
     "ename": "",
     "evalue": "1",
     "output_type": "error",
     "traceback": []
    }
   ],
   "source": [
    "# ANOVA for faith pd\n",
    "qiime longitudinal anova \\\n",
    "  --m-metadata-file ./core-metrics-results/faith_pd_vector.qza\\\n",
    "  --m-metadata-file ./metadata_16s.tsv \\\n",
    "  --p-formula 'faith_pd ~ Cohort*(Sex+Age_group)' \\\n",
    "  --o-visualization ./core-metrics-results/faith_pd-cohort-sex_age-anova.qzv"
   ]
  },
  {
   "cell_type": "code",
   "execution_count": null,
   "id": "213305cd-cb91-453f-94fc-da32f0c913a8",
   "metadata": {},
   "outputs": [],
   "source": []
  },
  {
   "cell_type": "markdown",
   "id": "ed9fbb76-0803-4b0e-bc22-62df151b28b5",
   "metadata": {},
   "source": [
    "____"
   ]
  },
  {
   "cell_type": "markdown",
   "id": "baecb91a-edde-4d50-b322-7bb5e31231e8",
   "metadata": {
    "tags": []
   },
   "source": [
    "#### **Cohort and Disease categories**"
   ]
  },
  {
   "cell_type": "code",
   "execution_count": 79,
   "id": "05ccb209-445e-4302-b6d0-af1e8cc37f3e",
   "metadata": {
    "run_control": {
     "marked": false
    }
   },
   "outputs": [
    {
     "name": "stdout",
     "output_type": "stream",
     "text": [
      "(qiime2) \u001b[32mSaved Visualization to: ./core-metrics-results/cohort-disease-anova/of-cohort_diseases-anova.qzv\u001b[0m\n",
      "(qiime2) "
     ]
    },
    {
     "ename": "",
     "evalue": "1",
     "output_type": "error",
     "traceback": []
    }
   ],
   "source": [
    "# ANOVA for observed features\n",
    "qiime longitudinal anova \\\n",
    "  --m-metadata-file ./core-metrics-results/observed_features_vector.qza \\\n",
    "  --m-metadata-file ./metadata_16s.tsv \\\n",
    "  --p-formula 'observed_features ~ Cohort*(Gastric_issues+HTN+DM+Arthritis)' \\\n",
    "  --o-visualization ./core-metrics-results/cohort-disease-anova/of-cohort_diseases-anova.qzv"
   ]
  },
  {
   "cell_type": "code",
   "execution_count": 75,
   "id": "81f4b13f-38d1-4f74-9288-6b2b53ad52b1",
   "metadata": {},
   "outputs": [
    {
     "name": "stdout",
     "output_type": "stream",
     "text": [
      "(qiime2) \u001b[32mSaved Visualization to: ./core-metrics-results/shannon-cohort_diseases-anova.qzv\u001b[0m\n",
      "(qiime2) "
     ]
    },
    {
     "ename": "",
     "evalue": "1",
     "output_type": "error",
     "traceback": []
    }
   ],
   "source": [
    "# ANOVA for shannon index\n",
    "qiime longitudinal anova \\\n",
    "  --m-metadata-file ./core-metrics-results/shannon_vector.qza \\\n",
    "  --m-metadata-file ./metadata_16s.tsv \\\n",
    "  --p-formula 'shannon_entropy ~ Cohort*(Gastric_issues+HTN+DM+Arthritis)' \\\n",
    "  --o-visualization ./core-metrics-results/shannon-cohort_diseases-anova.qzv"
   ]
  },
  {
   "cell_type": "code",
   "execution_count": 76,
   "id": "e18814a1-8736-4ac2-bd55-e4f038b7933b",
   "metadata": {},
   "outputs": [
    {
     "name": "stdout",
     "output_type": "stream",
     "text": [
      "(qiime2) \u001b[32mSaved Visualization to: ./core-metrics-results/faith_pd-cohort_diseases-anova.qzv\u001b[0m\n",
      "(qiime2) "
     ]
    },
    {
     "ename": "",
     "evalue": "1",
     "output_type": "error",
     "traceback": []
    }
   ],
   "source": [
    "# ANOVA for faith pd\n",
    "qiime longitudinal anova \\\n",
    "  --m-metadata-file ./core-metrics-results/faith_pd_vector.qza\\\n",
    "  --m-metadata-file ./metadata_16s.tsv \\\n",
    "  --p-formula 'faith_pd ~ Cohort*(Gastric_issues+HTN+DM+Arthritis)' \\\n",
    "  --o-visualization ./core-metrics-results/faith_pd-cohort_diseases-anova.qzv"
   ]
  },
  {
   "cell_type": "code",
   "execution_count": 77,
   "id": "447a1e0d-31e0-4b9e-a5b3-56949f00a88e",
   "metadata": {},
   "outputs": [
    {
     "name": "stdout",
     "output_type": "stream",
     "text": [
      "(qiime2) \u001b[32mSaved Visualization to: ./core-metrics-results/evenness-cohort_diseases-anova.qzv\u001b[0m\n",
      "(qiime2) "
     ]
    },
    {
     "ename": "",
     "evalue": "1",
     "output_type": "error",
     "traceback": []
    }
   ],
   "source": [
    "# ANOVA for evenness\n",
    "qiime longitudinal anova \\\n",
    "  --m-metadata-file ./core-metrics-results/evenness_vector.qza \\\n",
    "  --m-metadata-file ./metadata_16s.tsv \\\n",
    "  --p-formula 'pielou_evenness ~ Cohort*(Gastric_issues+HTN+DM+Arthritis)' \\\n",
    "  --o-visualization ./core-metrics-results/evenness-cohort_diseases-anova.qzv"
   ]
  },
  {
   "cell_type": "markdown",
   "id": "58af23d6-93f3-4790-820f-d7875d895056",
   "metadata": {
    "jp-MarkdownHeadingCollapsed": true,
    "tags": []
   },
   "source": [
    "#### **Chorot minus other categories**"
   ]
  },
  {
   "cell_type": "code",
   "execution_count": 44,
   "id": "d3be030d-26a5-4479-b56c-3fe351980fbf",
   "metadata": {
    "run_control": {
     "marked": false
    }
   },
   "outputs": [
    {
     "name": "stdout",
     "output_type": "stream",
     "text": [
      "(qiime2) \u001b[32mSaved Visualization to: ./core-metrics-results/of-only-cohort-anova.qzv\u001b[0m\n",
      "(qiime2) "
     ]
    },
    {
     "ename": "",
     "evalue": "1",
     "output_type": "error",
     "traceback": []
    }
   ],
   "source": [
    "# ANOVA for observed features\n",
    "qiime longitudinal anova \\\n",
    "  --m-metadata-file ./core-metrics-results/observed_features_vector.qza \\\n",
    "  --m-metadata-file ./metadata_16s.tsv \\\n",
    "  --p-formula 'observed_features ~ Cohort-(Gastric_issues+Sex+Age_group+HTN+Gastric_issues+DM+Control+Arthritis)' \\\n",
    "  --o-visualization ./core-metrics-results/of-only-cohort-anova.qzv"
   ]
  },
  {
   "cell_type": "code",
   "execution_count": 45,
   "id": "59de51e3-9885-4480-9c29-fb92ec5491c1",
   "metadata": {
    "run_control": {
     "marked": false
    }
   },
   "outputs": [
    {
     "name": "stdout",
     "output_type": "stream",
     "text": [
      "(qiime2) \u001b[32mSaved Visualization to: ./core-metrics-results/shannon-only-cohort-anova.qzv\u001b[0m\n",
      "(qiime2) "
     ]
    },
    {
     "ename": "",
     "evalue": "1",
     "output_type": "error",
     "traceback": []
    }
   ],
   "source": [
    "# ANOVA for shannon index\n",
    "qiime longitudinal anova \\\n",
    "  --m-metadata-file ./core-metrics-results/shannon_vector.qza \\\n",
    "  --m-metadata-file ./metadata_16s.tsv \\\n",
    "  --p-formula 'shannon_entropy ~ Cohort-(Gastric_issues+Sex+Age_group+HTN+Gastric_issues+DM+Control+Arthritis)' \\\n",
    "  --o-visualization ./core-metrics-results/shannon-only-cohort-anova.qzv"
   ]
  },
  {
   "cell_type": "code",
   "execution_count": 46,
   "id": "c09a2f55-3cdc-44d3-98a1-59122d281def",
   "metadata": {
    "run_control": {
     "marked": false
    }
   },
   "outputs": [
    {
     "name": "stdout",
     "output_type": "stream",
     "text": [
      "(qiime2) \u001b[32mSaved Visualization to: ./core-metrics-results/faith_pd-only-cohort-anova.qzv\u001b[0m\n",
      "(qiime2) "
     ]
    },
    {
     "ename": "",
     "evalue": "1",
     "output_type": "error",
     "traceback": []
    }
   ],
   "source": [
    "# ANOVA for faith pd\n",
    "qiime longitudinal anova \\\n",
    "  --m-metadata-file ./core-metrics-results/faith_pd_vector.qza\\\n",
    "  --m-metadata-file ./metadata_16s.tsv \\\n",
    "  --p-formula 'faith_pd ~ Cohort-(Gastric_issues+Sex+Age_group+HTN+Gastric_issues+DM+Control+Arthritis)' \\\n",
    "  --o-visualization ./core-metrics-results/faith_pd-only-cohort-anova.qzv"
   ]
  },
  {
   "cell_type": "code",
   "execution_count": 48,
   "id": "9f39e4cc-11fd-4d86-a097-c877565a70ab",
   "metadata": {
    "run_control": {
     "marked": false
    }
   },
   "outputs": [
    {
     "name": "stdout",
     "output_type": "stream",
     "text": [
      "(qiime2) \u001b[32mSaved Visualization to: ./core-metrics-results/evenness-only-cohort-anova.qzv\u001b[0m\n",
      "(qiime2) "
     ]
    },
    {
     "ename": "",
     "evalue": "1",
     "output_type": "error",
     "traceback": []
    }
   ],
   "source": [
    "# ANOVA for evenness\n",
    "qiime longitudinal anova \\\n",
    "  --m-metadata-file ./core-metrics-results/evenness_vector.qza \\\n",
    "  --m-metadata-file ./metadata_16s.tsv \\\n",
    "  --p-formula 'pielou_evenness ~ Cohort-(Gastric_issues+Sex+Age_group+HTN+Gastric_issues+DM+Control+Arthritis)' \\\n",
    "  --o-visualization ./core-metrics-results/evenness-only-cohort-anova.qzv"
   ]
  },
  {
   "cell_type": "markdown",
   "id": "a4a572d9-97e8-4064-a790-1a7aa2045f98",
   "metadata": {
    "tags": [],
    "toc-hr-collapsed": true
   },
   "source": [
    "# Beta diversity Analysis"
   ]
  },
  {
   "cell_type": "code",
   "execution_count": 3,
   "id": "1943280f-16d1-48cc-b2c1-47987619e853",
   "metadata": {
    "collapsed": true,
    "jupyter": {
     "outputs_hidden": true
    },
    "tags": []
   },
   "outputs": [
    {
     "name": "stdout",
     "output_type": "stream",
     "text": [
      "Usage: \u001b[34mqiime diversity beta-group-significance\u001b[0m [OPTIONS]\n",
      "\n",
      "  Determine whether groups of samples are significantly different from one\n",
      "  another using a permutation-based statistical test.\n",
      "\n",
      "\u001b[1mInputs\u001b[0m:\n",
      "  \u001b[34m\u001b[4m--i-distance-matrix\u001b[0m ARTIFACT\n",
      "    \u001b[32mDistanceMatrix\u001b[0m     Matrix of distances between pairs of samples.\n",
      "                                                                    \u001b[35m[required]\u001b[0m\n",
      "\u001b[1mParameters\u001b[0m:\n",
      "  \u001b[34m\u001b[4m--m-metadata-file\u001b[0m METADATA\n",
      "  \u001b[34m\u001b[4m--m-metadata-column\u001b[0m COLUMN  \u001b[32mMetadataColumn[Categorical]\u001b[0m\n",
      "                       Categorical sample metadata column.          \u001b[35m[required]\u001b[0m\n",
      "  \u001b[34m--p-method\u001b[0m TEXT \u001b[32mChoices('permanova', 'anosim', 'permdisp')\u001b[0m\n",
      "                       The group significance test to be applied.\n",
      "                                                        \u001b[35m[default: 'permanova']\u001b[0m\n",
      "  \u001b[34m--p-pairwise\u001b[0m / \u001b[34m--p-no-pairwise\u001b[0m\n",
      "                       Perform pairwise tests between all pairs of groups in\n",
      "                       addition to the test across all groups. This can be\n",
      "                       very slow if there are a lot of groups in the metadata\n",
      "                       column.                                \u001b[35m[default: False]\u001b[0m\n",
      "  \u001b[34m--p-permutations\u001b[0m INTEGER\n",
      "                       The number of permutations to be run when computing\n",
      "                       p-values.                                \u001b[35m[default: 999]\u001b[0m\n",
      "\u001b[1mOutputs\u001b[0m:\n",
      "  \u001b[34m\u001b[4m--o-visualization\u001b[0m VISUALIZATION\n",
      "                                                                    \u001b[35m[required]\u001b[0m\n",
      "\u001b[1mMiscellaneous\u001b[0m:\n",
      "  \u001b[34m--output-dir\u001b[0m PATH    Output unspecified results to a directory\n",
      "  \u001b[34m--verbose\u001b[0m / \u001b[34m--quiet\u001b[0m  Display verbose output to stdout and/or stderr during\n",
      "                       execution of this action. Or silence output if\n",
      "                       execution is successful (silence is golden).\n",
      "  \u001b[34m--examples\u001b[0m           Show usage examples and exit.\n",
      "  \u001b[34m--citations\u001b[0m          Show citations and exit.\n",
      "  \u001b[34m--help\u001b[0m               Show this message and exit.\n",
      "(qiime2) "
     ]
    },
    {
     "ename": "",
     "evalue": "1",
     "output_type": "error",
     "traceback": []
    }
   ],
   "source": [
    "qiime diversity beta-group-significance --help"
   ]
  },
  {
   "cell_type": "markdown",
   "id": "5d42b68a-ba0f-4f3a-af45-0bfea8b7cc07",
   "metadata": {
    "jp-MarkdownHeadingCollapsed": true,
    "tags": [],
    "toc-hr-collapsed": true
   },
   "source": [
    "### Based On Age_group"
   ]
  },
  {
   "cell_type": "code",
   "execution_count": 3,
   "id": "c385a75b-c26a-4678-91b3-544a9c55e7a0",
   "metadata": {},
   "outputs": [
    {
     "name": "stdout",
     "output_type": "stream",
     "text": [
      "(qiime2) (qiime2) \u001b[32mSaved Visualization to: qzv/jaccard-Age_group-significance.qzv\u001b[0m\n",
      "(qiime2) "
     ]
    },
    {
     "ename": "",
     "evalue": "1",
     "output_type": "error",
     "traceback": []
    }
   ],
   "source": [
    "# Based on Age_group\n",
    "# Jaccard\n",
    "qiime diversity beta-group-significance \\\n",
    "  --i-distance-matrix core-metrics-results/jaccard_distance_matrix.qza \\\n",
    "  --m-metadata-file metadata_16s.tsv \\\n",
    "  --m-metadata-column Age_group \\\n",
    "  --o-visualization qzv/jaccard-Age_group-significance.qzv \\\n",
    "  --p-pairwise"
   ]
  },
  {
   "cell_type": "code",
   "execution_count": 4,
   "id": "aac8e034-55c5-4919-a752-97c83fbece24",
   "metadata": {},
   "outputs": [
    {
     "name": "stdout",
     "output_type": "stream",
     "text": [
      "(qiime2) (qiime2) \u001b[32mSaved Visualization to: qzv/bray-curtis-Age_group-significance.qzv\u001b[0m\n",
      "(qiime2) "
     ]
    },
    {
     "ename": "",
     "evalue": "1",
     "output_type": "error",
     "traceback": []
    }
   ],
   "source": [
    "# Based on Age_group\n",
    "# Bray-curtis\n",
    "qiime diversity beta-group-significance \\\n",
    "  --i-distance-matrix core-metrics-results/bray_curtis_distance_matrix.qza\\\n",
    "  --m-metadata-file metadata_16s.tsv \\\n",
    "  --m-metadata-column Age_group \\\n",
    "  --o-visualization qzv/bray-curtis-Age_group-significance.qzv \\\n",
    "  --p-pairwise"
   ]
  },
  {
   "cell_type": "code",
   "execution_count": 3,
   "id": "a306326b-0977-4828-bc5b-32e2d69f723e",
   "metadata": {
    "run_control": {
     "marked": false
    }
   },
   "outputs": [
    {
     "name": "stdout",
     "output_type": "stream",
     "text": [
      "\u001b[32mSaved Visualization to: qzv/unweighted-unifrac-Age_group-significance.qzv\u001b[0m\n",
      "\u001b[?2004h(qiime2) "
     ]
    },
    {
     "ename": "",
     "evalue": "1",
     "output_type": "error",
     "traceback": []
    }
   ],
   "source": [
    "# Based on Age_group\n",
    "# Unweighted UniFrac\n",
    "qiime diversity beta-group-significance \\\n",
    "  --i-distance-matrix core-metrics-results/unweighted_unifrac_distance_matrix.qza \\\n",
    "  --m-metadata-file metadata_16s.tsv \\\n",
    "  --m-metadata-column Age_group \\\n",
    "  --o-visualization qzv/unweighted-unifrac-Age_group-significance.qzv \\\n",
    "  --p-pairwise"
   ]
  },
  {
   "cell_type": "code",
   "execution_count": 4,
   "id": "26c791d6-2b7a-4d71-a3c2-6fb8c9ba8cc1",
   "metadata": {
    "run_control": {
     "marked": false
    }
   },
   "outputs": [
    {
     "name": "stdout",
     "output_type": "stream",
     "text": [
      "\u001b[32mSaved Visualization to: qzv/weighted-unifrac-Age_group-significance.qzv\u001b[0m\n",
      "\u001b[?2004h(qiime2) "
     ]
    },
    {
     "ename": "",
     "evalue": "1",
     "output_type": "error",
     "traceback": []
    }
   ],
   "source": [
    "# Based on Age_group\n",
    "# Weighted UniFrac\n",
    "qiime diversity beta-group-significance \\\n",
    "  --i-distance-matrix core-metrics-results/weighted_unifrac_distance_matrix.qza \\\n",
    "  --m-metadata-file metadata_16s.tsv \\\n",
    "  --m-metadata-column Age_group \\\n",
    "  --o-visualization qzv/weighted-unifrac-Age_group-significance.qzv \\\n",
    "  --p-pairwise"
   ]
  },
  {
   "cell_type": "markdown",
   "id": "aded2a37-0bf5-49f3-b121-a5ced5b96540",
   "metadata": {
    "tags": [],
    "toc-hr-collapsed": true
   },
   "source": [
    "### Based on Cohort"
   ]
  },
  {
   "cell_type": "code",
   "execution_count": 3,
   "id": "b1a68e9a-0cf6-4032-b033-20573000371e",
   "metadata": {
    "run_control": {
     "marked": false
    },
    "tags": []
   },
   "outputs": [
    {
     "name": "stdout",
     "output_type": "stream",
     "text": [
      "(qiime2) (qiime2) \u001b[32mSaved Visualization to: qzv/beta-significance/jaccard-Cohort-significance.qzv\u001b[0m\n",
      "(qiime2) "
     ]
    },
    {
     "ename": "",
     "evalue": "1",
     "output_type": "error",
     "traceback": []
    }
   ],
   "source": [
    "# Based on Cohort\n",
    "# Jaccard distance\n",
    "qiime diversity beta-group-significance \\\n",
    "  --i-distance-matrix core-metrics-results/jaccard_distance_matrix.qza \\\n",
    "  --m-metadata-file metadata_16s.tsv \\\n",
    "  --m-metadata-column Cohort \\\n",
    "  --o-visualization qzv/beta-significance/jaccard-Cohort-significance.qzv \\\n",
    "  --p-pairwise"
   ]
  },
  {
   "cell_type": "code",
   "execution_count": 10,
   "id": "97d7b9a0-a7b0-41db-9a85-69a46db1bcc8",
   "metadata": {
    "run_control": {
     "marked": false
    },
    "tags": []
   },
   "outputs": [
    {
     "name": "stdout",
     "output_type": "stream",
     "text": [
      "\u001b[32mSaved Visualization to: qzv/bray-curtis-Cohort-significance.qzv\u001b[0ml\n",
      "\u001b[?2004h(qiime2) "
     ]
    },
    {
     "ename": "",
     "evalue": "1",
     "output_type": "error",
     "traceback": []
    }
   ],
   "source": [
    "# Based on Cohort\n",
    "# Bray Curtis\n",
    "qiime diversity beta-group-significance \\\n",
    "  --i-distance-matrix core-metrics-results/bray_curtis_distance_matrix.qza \\\n",
    "  --m-metadata-file metadata_16s.tsv \\\n",
    "  --m-metadata-column Cohort \\\n",
    "  --o-visualization qzv/bray-curtis-Cohort-significance.qzv \\\n",
    "  --p-pairwise"
   ]
  },
  {
   "cell_type": "code",
   "execution_count": 5,
   "id": "c387e148-a73a-4e46-906c-e0c900b46c1c",
   "metadata": {
    "run_control": {
     "marked": false
    },
    "tags": []
   },
   "outputs": [
    {
     "name": "stdout",
     "output_type": "stream",
     "text": [
      "\u001b[32mSaved Visualization to: qzv/unweighted-unifrac-Cohort-significance.qzv\u001b[0m\n",
      "\u001b[?2004h(qiime2) "
     ]
    },
    {
     "ename": "",
     "evalue": "1",
     "output_type": "error",
     "traceback": []
    }
   ],
   "source": [
    "# Based on Cohort\n",
    "# Unweighted UniFrac\n",
    "qiime diversity beta-group-significance \\\n",
    "  --i-distance-matrix core-metrics-results/unweighted_unifrac_distance_matrix.qza \\\n",
    "  --m-metadata-file metadata_16s.tsv \\\n",
    "  --m-metadata-column Cohort \\\n",
    "  --o-visualization qzv/unweighted-unifrac-Cohort-significance.qzv \\\n",
    "  --p-pairwise"
   ]
  },
  {
   "cell_type": "code",
   "execution_count": 6,
   "id": "ea77dc6d-21fc-44c3-b237-26dc8f2f2853",
   "metadata": {
    "run_control": {
     "marked": false
    },
    "tags": []
   },
   "outputs": [
    {
     "name": "stdout",
     "output_type": "stream",
     "text": [
      "\u001b[32mSaved Visualization to: qzv/weighted-unifrac-Cohort-significance.qzv\u001b[0m\n",
      "\u001b[?2004h(qiime2) "
     ]
    },
    {
     "ename": "",
     "evalue": "1",
     "output_type": "error",
     "traceback": []
    }
   ],
   "source": [
    "# Based on Cohort\n",
    "# Weighted UniFrac\n",
    "qiime diversity beta-group-significance \\\n",
    "  --i-distance-matrix core-metrics-results/weighted_unifrac_distance_matrix.qza \\\n",
    "  --m-metadata-file metadata_16s.tsv \\\n",
    "  --m-metadata-column Cohort \\\n",
    "  --o-visualization qzv/weighted-unifrac-Cohort-significance.qzv \\\n",
    "  --p-pairwise"
   ]
  },
  {
   "cell_type": "code",
   "execution_count": null,
   "id": "69837e58-0a18-48f6-b41e-838f5dff83ad",
   "metadata": {},
   "outputs": [
    {
     "name": "stdout",
     "output_type": "stream",
     "text": [
      "(qiime2) \u001b[32mSaved Visualization to: qzv/unweighted-unifrac-Cohort_unpair-significance.qzv\u001b[0m\n",
      "(qiime2) "
     ]
    },
    {
     "ename": "",
     "evalue": "1",
     "output_type": "error",
     "traceback": []
    }
   ],
   "source": [
    "# Based on Cohort without pairwise\n",
    "qiime diversity beta-group-significance \\\n",
    "  --i-distance-matrix core-metrics-results/unweighted_unifrac_distance_matrix.qza \\\n",
    "  --m-metadata-file metadata_16s.tsv \\\n",
    "  --m-metadata-column Cohort \\\n",
    "  --o-visualization qzv/unweighted-unifrac-Cohort_unpair-significance.qzv"
   ]
  },
  {
   "cell_type": "markdown",
   "id": "ce08a481-2644-462c-8e07-6fc96d1d992c",
   "metadata": {
    "jp-MarkdownHeadingCollapsed": true,
    "tags": []
   },
   "source": [
    "### Based on HTN"
   ]
  },
  {
   "cell_type": "code",
   "execution_count": 10,
   "id": "ea31c667-eae8-4ad0-ba51-12980726aca4",
   "metadata": {
    "run_control": {
     "marked": false
    }
   },
   "outputs": [
    {
     "name": "stdout",
     "output_type": "stream",
     "text": [
      "(qiime2) (qiime2) \u001b[32mSaved Visualization to: qzv/beta-significance/jaccard-HTN-significance.qzv\u001b[0m\n",
      "(qiime2) "
     ]
    },
    {
     "ename": "",
     "evalue": "1",
     "output_type": "error",
     "traceback": []
    }
   ],
   "source": [
    "# HTN\n",
    "# Jaccard\n",
    "qiime diversity beta-group-significance \\\n",
    "  --i-distance-matrix core-metrics-results/jaccard_distance_matrix.qza \\\n",
    "  --m-metadata-file metadata_16s.tsv \\\n",
    "  --m-metadata-column HTN \\\n",
    "  --o-visualization qzv/beta-significance/jaccard-HTN-significance.qzv \\\n",
    "  --p-pairwise"
   ]
  },
  {
   "cell_type": "code",
   "execution_count": 11,
   "id": "42a84c51-d1c7-472c-ba2b-a447ac5da9ae",
   "metadata": {
    "run_control": {
     "marked": false
    }
   },
   "outputs": [
    {
     "name": "stdout",
     "output_type": "stream",
     "text": [
      "(qiime2) (qiime2) \u001b[32mSaved Visualization to: qzv/beta-significance/bray_curtis-HTN-significance.qzv\u001b[0m\n",
      "(qiime2) "
     ]
    },
    {
     "ename": "",
     "evalue": "1",
     "output_type": "error",
     "traceback": []
    }
   ],
   "source": [
    "# HTN\n",
    "# Bray-curtis\n",
    "qiime diversity beta-group-significance \\\n",
    "  --i-distance-matrix core-metrics-results/bray_curtis_distance_matrix.qza \\\n",
    "  --m-metadata-file metadata_16s.tsv \\\n",
    "  --m-metadata-column HTN \\\n",
    "  --o-visualization qzv/beta-significance/bray_curtis-HTN-significance.qzv \\\n",
    "  --p-pairwise"
   ]
  },
  {
   "cell_type": "code",
   "execution_count": 13,
   "id": "16690470-75e7-4e67-9cc7-178f865c842a",
   "metadata": {
    "run_control": {
     "marked": false
    }
   },
   "outputs": [
    {
     "name": "stdout",
     "output_type": "stream",
     "text": [
      "(qiime2) (qiime2) \u001b[32mSaved Visualization to: qzv/beta-significance/unweighted_unifrac-HTN-significance.qzv\u001b[0m\n",
      "(qiime2) "
     ]
    },
    {
     "ename": "",
     "evalue": "1",
     "output_type": "error",
     "traceback": []
    }
   ],
   "source": [
    "# HTN\n",
    "# Bray-curtis\n",
    "qiime diversity beta-group-significance \\\n",
    "  --i-distance-matrix core-metrics-results/unweighted_unifrac_distance_matrix.qza \\\n",
    "  --m-metadata-file metadata_16s.tsv \\\n",
    "  --m-metadata-column HTN \\\n",
    "  --o-visualization qzv/beta-significance/unweighted_unifrac-HTN-significance.qzv \\\n",
    "  --p-pairwise"
   ]
  },
  {
   "cell_type": "code",
   "execution_count": 12,
   "id": "87d1179b-990e-4c0d-aa5a-eabe068839b1",
   "metadata": {
    "run_control": {
     "marked": false
    }
   },
   "outputs": [
    {
     "name": "stdout",
     "output_type": "stream",
     "text": [
      "(qiime2) (qiime2) \u001b[32mSaved Visualization to: qzv/beta-significance/weighted_unifrac-HTN-significance.qzv\u001b[0m\n",
      "(qiime2) "
     ]
    },
    {
     "ename": "",
     "evalue": "1",
     "output_type": "error",
     "traceback": []
    }
   ],
   "source": [
    "# HTN\n",
    "# Bray-curtis\n",
    "qiime diversity beta-group-significance \\\n",
    "  --i-distance-matrix core-metrics-results/weighted_unifrac_distance_matrix.qza \\\n",
    "  --m-metadata-file metadata_16s.tsv \\\n",
    "  --m-metadata-column HTN \\\n",
    "  --o-visualization qzv/beta-significance/weighted_unifrac-HTN-significance.qzv \\\n",
    "  --p-pairwise"
   ]
  },
  {
   "cell_type": "markdown",
   "id": "bc08d385-7a72-4c57-b94f-07bd65957281",
   "metadata": {
    "jp-MarkdownHeadingCollapsed": true,
    "tags": []
   },
   "source": [
    "### Gastric_issues"
   ]
  },
  {
   "cell_type": "code",
   "execution_count": 14,
   "id": "aadff460-d032-4f60-b183-c06a447f91cc",
   "metadata": {
    "run_control": {
     "marked": false
    }
   },
   "outputs": [
    {
     "name": "stdout",
     "output_type": "stream",
     "text": [
      "(qiime2) (qiime2) \u001b[32mSaved Visualization to: qzv/beta-significance/jaccard-Gastric_issues-significance.qzv\u001b[0m\n",
      "(qiime2) "
     ]
    },
    {
     "ename": "",
     "evalue": "1",
     "output_type": "error",
     "traceback": []
    }
   ],
   "source": [
    "# Gastric issues\n",
    "# Jaccard\n",
    "qiime diversity beta-group-significance \\\n",
    "  --i-distance-matrix core-metrics-results/jaccard_distance_matrix.qza \\\n",
    "  --m-metadata-file metadata_16s.tsv \\\n",
    "  --m-metadata-column Gastric_issues \\\n",
    "  --o-visualization qzv/beta-significance/jaccard-Gastric_issues-significance.qzv \\\n",
    "  --p-pairwise"
   ]
  },
  {
   "cell_type": "code",
   "execution_count": 15,
   "id": "e7755705-053f-4396-a539-eb557c517a11",
   "metadata": {
    "run_control": {
     "marked": false
    }
   },
   "outputs": [
    {
     "name": "stdout",
     "output_type": "stream",
     "text": [
      "(qiime2) (qiime2) \u001b[32mSaved Visualization to: qzv/beta-significance/bray_curtis-Gastric_issues-significance.qzv\u001b[0m\n",
      "(qiime2) "
     ]
    },
    {
     "ename": "",
     "evalue": "1",
     "output_type": "error",
     "traceback": []
    }
   ],
   "source": [
    "# Gastric_issues\n",
    "# Bray-curtis\n",
    "qiime diversity beta-group-significance \\\n",
    "  --i-distance-matrix core-metrics-results/bray_curtis_distance_matrix.qza \\\n",
    "  --m-metadata-file metadata_16s.tsv \\\n",
    "  --m-metadata-column Gastric_issues \\\n",
    "  --o-visualization qzv/beta-significance/bray_curtis-Gastric_issues-significance.qzv \\\n",
    "  --p-pairwise"
   ]
  },
  {
   "cell_type": "code",
   "execution_count": 16,
   "id": "b0046379-ca31-4f5a-9be7-af9c69fce56d",
   "metadata": {
    "run_control": {
     "marked": false
    }
   },
   "outputs": [
    {
     "name": "stdout",
     "output_type": "stream",
     "text": [
      "(qiime2) (qiime2) \u001b[32mSaved Visualization to: qzv/beta-significance/weighted_unifrac-Gastric_issues-significance.qzv\u001b[0m\n",
      "(qiime2) "
     ]
    },
    {
     "ename": "",
     "evalue": "1",
     "output_type": "error",
     "traceback": []
    }
   ],
   "source": [
    "# Gastric_issues\n",
    "# Weighted Unifrac\n",
    "qiime diversity beta-group-significance \\\n",
    "  --i-distance-matrix core-metrics-results/weighted_unifrac_distance_matrix.qza \\\n",
    "  --m-metadata-file metadata_16s.tsv \\\n",
    "  --m-metadata-column Gastric_issues \\\n",
    "  --o-visualization qzv/beta-significance/weighted_unifrac-Gastric_issues-significance.qzv \\\n",
    "  --p-pairwise"
   ]
  },
  {
   "cell_type": "code",
   "execution_count": 17,
   "id": "87c433d4-25ef-453c-972e-f1ceffcd3540",
   "metadata": {
    "run_control": {
     "marked": false
    }
   },
   "outputs": [
    {
     "name": "stdout",
     "output_type": "stream",
     "text": [
      "(qiime2) (qiime2) \u001b[32mSaved Visualization to: qzv/beta-significance/unweighted_unifrac-Gastric_issues-significance.qzv\u001b[0m\n",
      "(qiime2) "
     ]
    },
    {
     "ename": "",
     "evalue": "1",
     "output_type": "error",
     "traceback": []
    }
   ],
   "source": [
    "# Gastric_issues\n",
    "# Weighted Unifrac\n",
    "qiime diversity beta-group-significance \\\n",
    "  --i-distance-matrix core-metrics-results/unweighted_unifrac_distance_matrix.qza \\\n",
    "  --m-metadata-file metadata_16s.tsv \\\n",
    "  --m-metadata-column Gastric_issues \\\n",
    "  --o-visualization qzv/beta-significance/unweighted_unifrac-Gastric_issues-significance.qzv \\\n",
    "  --p-pairwise"
   ]
  },
  {
   "cell_type": "markdown",
   "id": "90d69b6a-a419-41d6-8de8-fab90a54589e",
   "metadata": {
    "jp-MarkdownHeadingCollapsed": true,
    "tags": []
   },
   "source": [
    "### DM"
   ]
  },
  {
   "cell_type": "code",
   "execution_count": 18,
   "id": "593f70dc-8b8f-41d0-bf3b-f96ea15c1b8a",
   "metadata": {
    "run_control": {
     "marked": false
    }
   },
   "outputs": [
    {
     "name": "stdout",
     "output_type": "stream",
     "text": [
      "(qiime2) (qiime2) \u001b[32mSaved Visualization to: qzv/beta-significance/jaccard-DM-significance.qzv\u001b[0m\n",
      "(qiime2) "
     ]
    },
    {
     "ename": "",
     "evalue": "1",
     "output_type": "error",
     "traceback": []
    }
   ],
   "source": [
    "# DM\n",
    "# Jaccard\n",
    "qiime diversity beta-group-significance \\\n",
    "  --i-distance-matrix core-metrics-results/jaccard_distance_matrix.qza \\\n",
    "  --m-metadata-file metadata_16s.tsv \\\n",
    "  --m-metadata-column DM \\\n",
    "  --o-visualization qzv/beta-significance/jaccard-DM-significance.qzv \\\n",
    "  --p-pairwise"
   ]
  },
  {
   "cell_type": "code",
   "execution_count": 19,
   "id": "ed8d13cd-8dc9-4d12-96e7-89b1e2be2462",
   "metadata": {
    "run_control": {
     "marked": false
    }
   },
   "outputs": [
    {
     "name": "stdout",
     "output_type": "stream",
     "text": [
      "(qiime2) (qiime2) \u001b[32mSaved Visualization to: qzv/beta-significance/bray_curtis-DM-significance.qzv\u001b[0m\n",
      "(qiime2) "
     ]
    },
    {
     "ename": "",
     "evalue": "1",
     "output_type": "error",
     "traceback": []
    }
   ],
   "source": [
    "# DM\n",
    "# Bray-curtis\n",
    "qiime diversity beta-group-significance \\\n",
    "  --i-distance-matrix core-metrics-results/bray_curtis_distance_matrix.qza \\\n",
    "  --m-metadata-file metadata_16s.tsv \\\n",
    "  --m-metadata-column DM \\\n",
    "  --o-visualization qzv/beta-significance/bray_curtis-DM-significance.qzv \\\n",
    "  --p-pairwise"
   ]
  },
  {
   "cell_type": "code",
   "execution_count": 20,
   "id": "94851846-0314-4157-aa0b-d1b6e4117d66",
   "metadata": {
    "run_control": {
     "marked": false
    }
   },
   "outputs": [
    {
     "name": "stdout",
     "output_type": "stream",
     "text": [
      "(qiime2) (qiime2) \u001b[32mSaved Visualization to: qzv/beta-significance/weighted_unifrac-DM-significance.qzv\u001b[0m\n",
      "(qiime2) "
     ]
    },
    {
     "ename": "",
     "evalue": "1",
     "output_type": "error",
     "traceback": []
    }
   ],
   "source": [
    "# DM\n",
    "# Weighted Unifrac\n",
    "qiime diversity beta-group-significance \\\n",
    "  --i-distance-matrix core-metrics-results/weighted_unifrac_distance_matrix.qza \\\n",
    "  --m-metadata-file metadata_16s.tsv \\\n",
    "  --m-metadata-column DM \\\n",
    "  --o-visualization qzv/beta-significance/weighted_unifrac-DM-significance.qzv \\\n",
    "  --p-pairwise"
   ]
  },
  {
   "cell_type": "code",
   "execution_count": 21,
   "id": "c33ac5dd-0314-4c2a-a2fa-989ec7403dd6",
   "metadata": {
    "run_control": {
     "marked": false
    }
   },
   "outputs": [
    {
     "name": "stdout",
     "output_type": "stream",
     "text": [
      "(qiime2) (qiime2) \u001b[32mSaved Visualization to: qzv/beta-significance/unweighted_unifrac-DM-significance.qzv\u001b[0m\n",
      "(qiime2) "
     ]
    },
    {
     "ename": "",
     "evalue": "1",
     "output_type": "error",
     "traceback": []
    }
   ],
   "source": [
    "# DM\n",
    "# Weighted Unifrac\n",
    "qiime diversity beta-group-significance \\\n",
    "  --i-distance-matrix core-metrics-results/unweighted_unifrac_distance_matrix.qza \\\n",
    "  --m-metadata-file metadata_16s.tsv \\\n",
    "  --m-metadata-column DM \\\n",
    "  --o-visualization qzv/beta-significance/unweighted_unifrac-DM-significance.qzv \\\n",
    "  --p-pairwise"
   ]
  },
  {
   "cell_type": "markdown",
   "id": "3707e3a7-2e4d-49d7-b56d-74981f22eba8",
   "metadata": {
    "jp-MarkdownHeadingCollapsed": true,
    "tags": []
   },
   "source": [
    "### Arthritis"
   ]
  },
  {
   "cell_type": "code",
   "execution_count": 22,
   "id": "ca6881fe-7d46-4670-a76c-dea19fee2cff",
   "metadata": {
    "collapsed": true,
    "jupyter": {
     "outputs_hidden": true
    },
    "run_control": {
     "marked": false
    },
    "tags": []
   },
   "outputs": [
    {
     "name": "stdout",
     "output_type": "stream",
     "text": [
      "(qiime2) (qiime2) \u001b[32mSaved Visualization to: qzv/beta-significance/jaccard-Arthritis-significance.qzv\u001b[0m\n",
      "(qiime2) "
     ]
    },
    {
     "ename": "",
     "evalue": "1",
     "output_type": "error",
     "traceback": []
    }
   ],
   "source": [
    "# Arthritis\n",
    "# Jaccard\n",
    "qiime diversity beta-group-significance \\\n",
    "  --i-distance-matrix core-metrics-results/jaccard_distance_matrix.qza \\\n",
    "  --m-metadata-file metadata_16s.tsv \\\n",
    "  --m-metadata-column Arthritis \\\n",
    "  --o-visualization qzv/beta-significance/jaccard-Arthritis-significance.qzv \\\n",
    "  --p-pairwise"
   ]
  },
  {
   "cell_type": "code",
   "execution_count": 23,
   "id": "827043fd-3ca9-4dfc-a2d8-c1d6c850e1c0",
   "metadata": {
    "run_control": {
     "marked": false
    }
   },
   "outputs": [
    {
     "name": "stdout",
     "output_type": "stream",
     "text": [
      "(qiime2) (qiime2) \u001b[32mSaved Visualization to: qzv/beta-significance/bray_curtis-Arthritis-significance.qzv\u001b[0m\n",
      "(qiime2) "
     ]
    },
    {
     "ename": "",
     "evalue": "1",
     "output_type": "error",
     "traceback": []
    }
   ],
   "source": [
    "# Arthritis\n",
    "# Bray-curtis\n",
    "qiime diversity beta-group-significance \\\n",
    "  --i-distance-matrix core-metrics-results/bray_curtis_distance_matrix.qza \\\n",
    "  --m-metadata-file metadata_16s.tsv \\\n",
    "  --m-metadata-column Arthritis \\\n",
    "  --o-visualization qzv/beta-significance/bray_curtis-Arthritis-significance.qzv \\\n",
    "  --p-pairwise"
   ]
  },
  {
   "cell_type": "code",
   "execution_count": 24,
   "id": "3e6fc522-a674-4576-9b5a-a4543eaf4883",
   "metadata": {
    "run_control": {
     "marked": false
    }
   },
   "outputs": [
    {
     "name": "stdout",
     "output_type": "stream",
     "text": [
      "(qiime2) (qiime2) \u001b[32mSaved Visualization to: qzv/beta-significance/weighted_unifrac-Arthritis-significance.qzv\u001b[0m\n",
      "(qiime2) "
     ]
    },
    {
     "ename": "",
     "evalue": "1",
     "output_type": "error",
     "traceback": []
    }
   ],
   "source": [
    "# Arthritis\n",
    "# Weighted Unifrac\n",
    "qiime diversity beta-group-significance \\\n",
    "  --i-distance-matrix core-metrics-results/weighted_unifrac_distance_matrix.qza \\\n",
    "  --m-metadata-file metadata_16s.tsv \\\n",
    "  --m-metadata-column Arthritis \\\n",
    "  --o-visualization qzv/beta-significance/weighted_unifrac-Arthritis-significance.qzv \\\n",
    "  --p-pairwise"
   ]
  },
  {
   "cell_type": "code",
   "execution_count": 25,
   "id": "7ff86907-24dd-46bd-8d96-6f949809019e",
   "metadata": {
    "run_control": {
     "marked": false
    }
   },
   "outputs": [
    {
     "name": "stdout",
     "output_type": "stream",
     "text": [
      "(qiime2) (qiime2) \u001b[32mSaved Visualization to: qzv/beta-significance/unweighted_unifrac-Arthritis-significance.qzv\u001b[0m\n",
      "(qiime2) "
     ]
    },
    {
     "ename": "",
     "evalue": "1",
     "output_type": "error",
     "traceback": []
    }
   ],
   "source": [
    "# Arthritis\n",
    "# Weighted Unifrac\n",
    "qiime diversity beta-group-significance \\\n",
    "  --i-distance-matrix core-metrics-results/unweighted_unifrac_distance_matrix.qza \\\n",
    "  --m-metadata-file metadata_16s.tsv \\\n",
    "  --m-metadata-column Arthritis \\\n",
    "  --o-visualization qzv/beta-significance/unweighted_unifrac-Arthritis-significance.qzv \\\n",
    "  --p-pairwise"
   ]
  },
  {
   "cell_type": "markdown",
   "id": "86facc0e-133d-442a-a444-07f41ab067c3",
   "metadata": {
    "jp-MarkdownHeadingCollapsed": true,
    "tags": []
   },
   "source": [
    "### Sex"
   ]
  },
  {
   "cell_type": "code",
   "execution_count": 26,
   "id": "1d2770ee-0b39-4da9-a806-0db715457ad7",
   "metadata": {
    "run_control": {
     "marked": false
    }
   },
   "outputs": [
    {
     "name": "stdout",
     "output_type": "stream",
     "text": [
      "(qiime2) (qiime2) \u001b[32mSaved Visualization to: qzv/beta-significance/jaccard-Sex-significance.qzv\u001b[0m\n",
      "(qiime2) "
     ]
    },
    {
     "ename": "",
     "evalue": "1",
     "output_type": "error",
     "traceback": []
    }
   ],
   "source": [
    "# Sex\n",
    "# Jaccard\n",
    "qiime diversity beta-group-significance \\\n",
    "  --i-distance-matrix core-metrics-results/jaccard_distance_matrix.qza \\\n",
    "  --m-metadata-file metadata_16s.tsv \\\n",
    "  --m-metadata-column Sex \\\n",
    "  --o-visualization qzv/beta-significance/jaccard-Sex-significance.qzv \\\n",
    "  --p-pairwise"
   ]
  },
  {
   "cell_type": "code",
   "execution_count": 27,
   "id": "570a0914-787c-47f9-8507-c2af50ae3826",
   "metadata": {
    "run_control": {
     "marked": false
    }
   },
   "outputs": [
    {
     "name": "stdout",
     "output_type": "stream",
     "text": [
      "(qiime2) (qiime2) \u001b[32mSaved Visualization to: qzv/beta-significance/bray_curtis-Sex-significance.qzv\u001b[0m\n",
      "(qiime2) "
     ]
    },
    {
     "ename": "",
     "evalue": "1",
     "output_type": "error",
     "traceback": []
    }
   ],
   "source": [
    "# Sex\n",
    "# Bray-curtis\n",
    "qiime diversity beta-group-significance \\\n",
    "  --i-distance-matrix core-metrics-results/bray_curtis_distance_matrix.qza \\\n",
    "  --m-metadata-file metadata_16s.tsv \\\n",
    "  --m-metadata-column Sex \\\n",
    "  --o-visualization qzv/beta-significance/bray_curtis-Sex-significance.qzv \\\n",
    "  --p-pairwise"
   ]
  },
  {
   "cell_type": "code",
   "execution_count": 28,
   "id": "946ccf52-1523-4c29-a904-972d23f786e8",
   "metadata": {
    "run_control": {
     "marked": false
    }
   },
   "outputs": [
    {
     "name": "stdout",
     "output_type": "stream",
     "text": [
      "(qiime2) (qiime2) \u001b[32mSaved Visualization to: qzv/beta-significance/weighted_unifrac-Sex-significance.qzv\u001b[0m\n",
      "(qiime2) "
     ]
    },
    {
     "ename": "",
     "evalue": "1",
     "output_type": "error",
     "traceback": []
    }
   ],
   "source": [
    "# Sex\n",
    "# Weighted Unifrac\n",
    "qiime diversity beta-group-significance \\\n",
    "  --i-distance-matrix core-metrics-results/weighted_unifrac_distance_matrix.qza \\\n",
    "  --m-metadata-file metadata_16s.tsv \\\n",
    "  --m-metadata-column Sex \\\n",
    "  --o-visualization qzv/beta-significance/weighted_unifrac-Sex-significance.qzv \\\n",
    "  --p-pairwise"
   ]
  },
  {
   "cell_type": "code",
   "execution_count": 29,
   "id": "a82b77ba-90d1-41b7-8016-24c3ca040289",
   "metadata": {
    "run_control": {
     "marked": false
    }
   },
   "outputs": [
    {
     "name": "stdout",
     "output_type": "stream",
     "text": [
      "(qiime2) (qiime2) \u001b[32mSaved Visualization to: qzv/beta-significance/unweighted_unifrac-Sex-significance.qzv\u001b[0m\n",
      "(qiime2) "
     ]
    },
    {
     "ename": "",
     "evalue": "1",
     "output_type": "error",
     "traceback": []
    }
   ],
   "source": [
    "# Sex\n",
    "# Weighted Unifrac\n",
    "qiime diversity beta-group-significance \\\n",
    "  --i-distance-matrix core-metrics-results/unweighted_unifrac_distance_matrix.qza \\\n",
    "  --m-metadata-file metadata_16s.tsv \\\n",
    "  --m-metadata-column Sex \\\n",
    "  --o-visualization qzv/beta-significance/unweighted_unifrac-Sex-significance.qzv \\\n",
    "  --p-pairwise"
   ]
  },
  {
   "cell_type": "markdown",
   "id": "5b4944d0-e0c6-4325-99ad-8529f3547a6b",
   "metadata": {
    "jp-MarkdownHeadingCollapsed": true,
    "tags": []
   },
   "source": [
    "### Control"
   ]
  },
  {
   "cell_type": "code",
   "execution_count": 30,
   "id": "45761efe-065c-4660-8c39-a2e495071ac6",
   "metadata": {
    "run_control": {
     "marked": false
    }
   },
   "outputs": [
    {
     "name": "stdout",
     "output_type": "stream",
     "text": [
      "(qiime2) (qiime2) \u001b[32mSaved Visualization to: qzv/beta-significance/jaccard-Control-significance.qzv\u001b[0m\n",
      "(qiime2) "
     ]
    },
    {
     "ename": "",
     "evalue": "1",
     "output_type": "error",
     "traceback": []
    }
   ],
   "source": [
    "# Control\n",
    "# Jaccard\n",
    "qiime diversity beta-group-significance \\\n",
    "  --i-distance-matrix core-metrics-results/jaccard_distance_matrix.qza \\\n",
    "  --m-metadata-file metadata_16s.tsv \\\n",
    "  --m-metadata-column Control \\\n",
    "  --o-visualization qzv/beta-significance/jaccard-Control-significance.qzv \\\n",
    "  --p-pairwise"
   ]
  },
  {
   "cell_type": "code",
   "execution_count": 31,
   "id": "6c149c3a-9228-4dc0-9cbb-3e8cfe3622e2",
   "metadata": {
    "run_control": {
     "marked": false
    }
   },
   "outputs": [
    {
     "name": "stdout",
     "output_type": "stream",
     "text": [
      "(qiime2) (qiime2) \u001b[32mSaved Visualization to: qzv/beta-significance/bray_curtis-Control-significance.qzv\u001b[0m\n",
      "(qiime2) "
     ]
    },
    {
     "ename": "",
     "evalue": "1",
     "output_type": "error",
     "traceback": []
    }
   ],
   "source": [
    "# Control\n",
    "# Bray-curtis\n",
    "qiime diversity beta-group-significance \\\n",
    "  --i-distance-matrix core-metrics-results/bray_curtis_distance_matrix.qza \\\n",
    "  --m-metadata-file metadata_16s.tsv \\\n",
    "  --m-metadata-column Control \\\n",
    "  --o-visualization qzv/beta-significance/bray_curtis-Control-significance.qzv \\\n",
    "  --p-pairwise"
   ]
  },
  {
   "cell_type": "code",
   "execution_count": 32,
   "id": "63584e0c-250f-4930-9d96-4ecc99d36bf8",
   "metadata": {
    "run_control": {
     "marked": false
    }
   },
   "outputs": [
    {
     "name": "stdout",
     "output_type": "stream",
     "text": [
      "(qiime2) (qiime2) \u001b[32mSaved Visualization to: qzv/beta-significance/weighted_unifrac-Control-significance.qzv\u001b[0m\n",
      "(qiime2) "
     ]
    },
    {
     "ename": "",
     "evalue": "1",
     "output_type": "error",
     "traceback": []
    }
   ],
   "source": [
    "# Control\n",
    "# Weighted Unifrac\n",
    "qiime diversity beta-group-significance \\\n",
    "  --i-distance-matrix core-metrics-results/weighted_unifrac_distance_matrix.qza \\\n",
    "  --m-metadata-file metadata_16s.tsv \\\n",
    "  --m-metadata-column Control \\\n",
    "  --o-visualization qzv/beta-significance/weighted_unifrac-Control-significance.qzv \\\n",
    "  --p-pairwise"
   ]
  },
  {
   "cell_type": "code",
   "execution_count": 33,
   "id": "c2c5b878-f078-435a-8fab-146339a227ca",
   "metadata": {
    "run_control": {
     "marked": false
    }
   },
   "outputs": [
    {
     "name": "stdout",
     "output_type": "stream",
     "text": [
      "(qiime2) (qiime2) \u001b[32mSaved Visualization to: qzv/beta-significance/unweighted_unifrac-Control-significance.qzv\u001b[0m\n",
      "(qiime2) "
     ]
    },
    {
     "ename": "",
     "evalue": "1",
     "output_type": "error",
     "traceback": []
    }
   ],
   "source": [
    "# Control\n",
    "# Weighted Unifrac\n",
    "qiime diversity beta-group-significance \\\n",
    "  --i-distance-matrix core-metrics-results/unweighted_unifrac_distance_matrix.qza \\\n",
    "  --m-metadata-file metadata_16s.tsv \\\n",
    "  --m-metadata-column Control \\\n",
    "  --o-visualization qzv/beta-significance/unweighted_unifrac-Control-significance.qzv \\\n",
    "  --p-pairwise"
   ]
  },
  {
   "cell_type": "code",
   "execution_count": 34,
   "id": "7296b1cb-7f7d-4b53-b127-e03f2aa64761",
   "metadata": {
    "collapsed": true,
    "jupyter": {
     "outputs_hidden": true
    },
    "tags": []
   },
   "outputs": [
    {
     "name": "stdout",
     "output_type": "stream",
     "text": [
      "Usage: \u001b[34mqiime diversity beta-group-significance\u001b[0m [OPTIONS]\n",
      "\n",
      "  Determine whether groups of samples are significantly different from one\n",
      "  another using a permutation-based statistical test.\n",
      "\n",
      "\u001b[1mInputs\u001b[0m:\n",
      "  \u001b[34m\u001b[4m--i-distance-matrix\u001b[0m ARTIFACT\n",
      "    \u001b[32mDistanceMatrix\u001b[0m     Matrix of distances between pairs of samples.\n",
      "                                                                    \u001b[35m[required]\u001b[0m\n",
      "\u001b[1mParameters\u001b[0m:\n",
      "  \u001b[34m\u001b[4m--m-metadata-file\u001b[0m METADATA\n",
      "  \u001b[34m\u001b[4m--m-metadata-column\u001b[0m COLUMN  \u001b[32mMetadataColumn[Categorical]\u001b[0m\n",
      "                       Categorical sample metadata column.          \u001b[35m[required]\u001b[0m\n",
      "  \u001b[34m--p-method\u001b[0m TEXT \u001b[32mChoices('permanova', 'anosim', 'permdisp')\u001b[0m\n",
      "                       The group significance test to be applied.\n",
      "                                                        \u001b[35m[default: 'permanova']\u001b[0m\n",
      "  \u001b[34m--p-pairwise\u001b[0m / \u001b[34m--p-no-pairwise\u001b[0m\n",
      "                       Perform pairwise tests between all pairs of groups in\n",
      "                       addition to the test across all groups. This can be\n",
      "                       very slow if there are a lot of groups in the metadata\n",
      "                       column.                                \u001b[35m[default: False]\u001b[0m\n",
      "  \u001b[34m--p-permutations\u001b[0m INTEGER\n",
      "                       The number of permutations to be run when computing\n",
      "                       p-values.                                \u001b[35m[default: 999]\u001b[0m\n",
      "\u001b[1mOutputs\u001b[0m:\n",
      "  \u001b[34m\u001b[4m--o-visualization\u001b[0m VISUALIZATION\n",
      "                                                                    \u001b[35m[required]\u001b[0m\n",
      "\u001b[1mMiscellaneous\u001b[0m:\n",
      "  \u001b[34m--output-dir\u001b[0m PATH    Output unspecified results to a directory\n",
      "  \u001b[34m--verbose\u001b[0m / \u001b[34m--quiet\u001b[0m  Display verbose output to stdout and/or stderr during\n",
      "                       execution of this action. Or silence output if\n",
      "                       execution is successful (silence is golden).\n",
      "  \u001b[34m--examples\u001b[0m           Show usage examples and exit.\n",
      "  \u001b[34m--citations\u001b[0m          Show citations and exit.\n",
      "  \u001b[34m--help\u001b[0m               Show this message and exit.\n",
      "(qiime2) "
     ]
    },
    {
     "ename": "",
     "evalue": "1",
     "output_type": "error",
     "traceback": []
    }
   ],
   "source": [
    "qiime diversity beta-group-significance  --help"
   ]
  },
  {
   "cell_type": "markdown",
   "id": "a81166a0-55dc-416f-ae04-b548ed3d7d4b",
   "metadata": {
    "jp-MarkdownHeadingCollapsed": true,
    "tags": []
   },
   "source": [
    "### Beta Rarefaction"
   ]
  },
  {
   "cell_type": "code",
   "execution_count": 2,
   "id": "c81a47da-458e-48a6-94d2-b909615ab89c",
   "metadata": {
    "collapsed": true,
    "jupyter": {
     "outputs_hidden": true
    },
    "run_control": {
     "marked": false
    }
   },
   "outputs": [
    {
     "name": "stdout",
     "output_type": "stream",
     "text": [
      "/home/arriyaz/miniconda3/envs/qiime2/lib/python3.8/site-packages/skbio/stats/ordination/_principal_coordinate_analysis.py:143: RuntimeWarning: The result contains negative eigenvalues. Please compare their magnitude with the magnitude of some of the largest positive eigenvalues. If the negative ones are smaller, it's probably safe to ignore them, but if they are large in magnitude, the results won't be useful. See the Notes section for more details. The smallest eigenvalue is -0.029236595931618467 and the largest is 1.1660732364614796.\n",
      "  warn(\n",
      "/home/arriyaz/miniconda3/envs/qiime2/lib/python3.8/site-packages/skbio/stats/ordination/_principal_coordinate_analysis.py:143: RuntimeWarning: The result contains negative eigenvalues. Please compare their magnitude with the magnitude of some of the largest positive eigenvalues. If the negative ones are smaller, it's probably safe to ignore them, but if they are large in magnitude, the results won't be useful. See the Notes section for more details. The smallest eigenvalue is -0.028792950596866578 and the largest is 1.1711848224338015.\n",
      "  warn(\n",
      "/home/arriyaz/miniconda3/envs/qiime2/lib/python3.8/site-packages/skbio/stats/ordination/_principal_coordinate_analysis.py:143: RuntimeWarning: The result contains negative eigenvalues. Please compare their magnitude with the magnitude of some of the largest positive eigenvalues. If the negative ones are smaller, it's probably safe to ignore them, but if they are large in magnitude, the results won't be useful. See the Notes section for more details. The smallest eigenvalue is -0.02878486592743932 and the largest is 1.1661065905923658.\n",
      "  warn(\n",
      "/home/arriyaz/miniconda3/envs/qiime2/lib/python3.8/site-packages/skbio/stats/ordination/_principal_coordinate_analysis.py:143: RuntimeWarning: The result contains negative eigenvalues. Please compare their magnitude with the magnitude of some of the largest positive eigenvalues. If the negative ones are smaller, it's probably safe to ignore them, but if they are large in magnitude, the results won't be useful. See the Notes section for more details. The smallest eigenvalue is -0.02953555308690843 and the largest is 1.1720926937785348.\n",
      "  warn(\n",
      "/home/arriyaz/miniconda3/envs/qiime2/lib/python3.8/site-packages/skbio/stats/ordination/_principal_coordinate_analysis.py:143: RuntimeWarning: The result contains negative eigenvalues. Please compare their magnitude with the magnitude of some of the largest positive eigenvalues. If the negative ones are smaller, it's probably safe to ignore them, but if they are large in magnitude, the results won't be useful. See the Notes section for more details. The smallest eigenvalue is -0.029078636221681584 and the largest is 1.1689137876431943.\n",
      "  warn(\n",
      "/home/arriyaz/miniconda3/envs/qiime2/lib/python3.8/site-packages/skbio/stats/ordination/_principal_coordinate_analysis.py:143: RuntimeWarning: The result contains negative eigenvalues. Please compare their magnitude with the magnitude of some of the largest positive eigenvalues. If the negative ones are smaller, it's probably safe to ignore them, but if they are large in magnitude, the results won't be useful. See the Notes section for more details. The smallest eigenvalue is -0.029190613492447722 and the largest is 1.1697328188535312.\n",
      "  warn(\n",
      "/home/arriyaz/miniconda3/envs/qiime2/lib/python3.8/site-packages/skbio/stats/ordination/_principal_coordinate_analysis.py:143: RuntimeWarning: The result contains negative eigenvalues. Please compare their magnitude with the magnitude of some of the largest positive eigenvalues. If the negative ones are smaller, it's probably safe to ignore them, but if they are large in magnitude, the results won't be useful. See the Notes section for more details. The smallest eigenvalue is -0.02873788595647259 and the largest is 1.173808047038089.\n",
      "  warn(\n",
      "/home/arriyaz/miniconda3/envs/qiime2/lib/python3.8/site-packages/skbio/stats/ordination/_principal_coordinate_analysis.py:143: RuntimeWarning: The result contains negative eigenvalues. Please compare their magnitude with the magnitude of some of the largest positive eigenvalues. If the negative ones are smaller, it's probably safe to ignore them, but if they are large in magnitude, the results won't be useful. See the Notes section for more details. The smallest eigenvalue is -0.02882885657097836 and the largest is 1.1710193584238515.\n",
      "  warn(\n",
      "/home/arriyaz/miniconda3/envs/qiime2/lib/python3.8/site-packages/skbio/stats/ordination/_principal_coordinate_analysis.py:143: RuntimeWarning: The result contains negative eigenvalues. Please compare their magnitude with the magnitude of some of the largest positive eigenvalues. If the negative ones are smaller, it's probably safe to ignore them, but if they are large in magnitude, the results won't be useful. See the Notes section for more details. The smallest eigenvalue is -0.028855921445224086 and the largest is 1.1708679824580017.\n",
      "  warn(\n",
      "/home/arriyaz/miniconda3/envs/qiime2/lib/python3.8/site-packages/skbio/stats/ordination/_principal_coordinate_analysis.py:143: RuntimeWarning: The result contains negative eigenvalues. Please compare their magnitude with the magnitude of some of the largest positive eigenvalues. If the negative ones are smaller, it's probably safe to ignore them, but if they are large in magnitude, the results won't be useful. See the Notes section for more details. The smallest eigenvalue is -0.02911173238209408 and the largest is 1.1687484272882145.\n",
      "  warn(\n",
      "\u001b[32mSaved Visualization to: qzv/beta-rarefaction.qzv\u001b[0m\n",
      "(qiime2) "
     ]
    },
    {
     "ename": "",
     "evalue": "1",
     "output_type": "error",
     "traceback": []
    }
   ],
   "source": [
    "qiime diversity beta-rarefaction \\\n",
    "    --i-table qza/table.qza \\\n",
    "    --p-metric weighted_unifrac \\\n",
    "    --p-clustering-method upgma \\\n",
    "    --m-metadata-file metadata_16s.tsv \\\n",
    "    --p-sampling-depth 34568 \\\n",
    "    --i-phylogeny qza/rooted-tree.qza \\\n",
    "    --o-visualization qzv/beta-rarefaction.qzv \\\n",
    "    --verbose"
   ]
  },
  {
   "cell_type": "code",
   "execution_count": 3,
   "id": "6b05814c-8daf-489a-9217-78422db40d7d",
   "metadata": {
    "collapsed": true,
    "jupyter": {
     "outputs_hidden": true
    },
    "run_control": {
     "marked": false
    },
    "tags": []
   },
   "outputs": [
    {
     "name": "stdout",
     "output_type": "stream",
     "text": [
      "Usage: \u001b[34mqiime tools export\u001b[0m [OPTIONS]\n",
      "\n",
      "  Exporting extracts (and optionally transforms) data stored inside an\n",
      "  Artifact or Visualization. Note that Visualizations cannot be transformed\n",
      "  with --output-format\n",
      "\n",
      "\u001b[1mOptions\u001b[0m:\n",
      "  \u001b[34m\u001b[4m--input-path\u001b[0m ARTIFACT/VISUALIZATION\n",
      "                        Path to file that should be exported        \u001b[35m[required]\u001b[0m\n",
      "  \u001b[34m\u001b[4m--output-path\u001b[0m PATH    Path to file or directory where data should be\n",
      "                        exported to                                 \u001b[35m[required]\u001b[0m\n",
      "  \u001b[34m--output-format\u001b[0m TEXT  Format which the data should be exported as. This\n",
      "                        option cannot be used with Visualizations\n",
      "  \u001b[34m--help\u001b[0m                Show this message and exit.\n",
      "(qiime2) "
     ]
    },
    {
     "ename": "",
     "evalue": "1",
     "output_type": "error",
     "traceback": []
    }
   ],
   "source": [
    "qiime tools export --help"
   ]
  },
  {
   "cell_type": "code",
   "execution_count": 4,
   "id": "fb3c5786-6e29-40d2-9794-8a2c0aa8dec8",
   "metadata": {
    "run_control": {
     "marked": false
    }
   },
   "outputs": [
    {
     "name": "stdout",
     "output_type": "stream",
     "text": [
      "\u001b[32mExported qzv/beta-rarefaction.qzv as Visualization to directory qzv/upgma-tree\u001b[0m\n",
      "(qiime2) "
     ]
    },
    {
     "ename": "",
     "evalue": "1",
     "output_type": "error",
     "traceback": []
    }
   ],
   "source": [
    "qiime tools export \\\n",
    "    --input-path qzv/beta-rarefaction.qzv \\\n",
    "    --output-path qzv/upgma-tree"
   ]
  },
  {
   "cell_type": "markdown",
   "id": "034e13d9-916d-4a9a-be93-28422d134b7b",
   "metadata": {
    "tags": [],
    "toc-hr-collapsed": true,
    "toc-nb-collapsed": true
   },
   "source": [
    "# Differential abundance testing with ANCOM\n",
    "***"
   ]
  },
  {
   "cell_type": "code",
   "execution_count": 38,
   "id": "6d9eb001-3d2f-4c68-bbf4-2578372d43d7",
   "metadata": {},
   "outputs": [
    {
     "name": "stdout",
     "output_type": "stream",
     "text": [
      "\u001b[33mNo citations found.\u001b[0m\n",
      "(qiime2) "
     ]
    },
    {
     "ename": "",
     "evalue": "1",
     "output_type": "error",
     "traceback": []
    }
   ],
   "source": [
    "qiime composition ancom --citations"
   ]
  },
  {
   "cell_type": "markdown",
   "id": "1a76f9a5-f280-48d8-a8d3-3f7ecf922668",
   "metadata": {
    "tags": []
   },
   "source": [
    "### Perform differential abundance test at genus level"
   ]
  },
  {
   "cell_type": "code",
   "execution_count": 27,
   "id": "c6315ce5-cf42-442c-81b2-53b15cd75ad6",
   "metadata": {
    "ExecuteTime": {
     "end_time": "2021-10-16T17:15:08.446936Z",
     "start_time": "2021-10-16T17:15:02.694467Z"
    },
    "run_control": {
     "marked": false
    }
   },
   "outputs": [
    {
     "name": "stdout",
     "output_type": "stream",
     "text": [
      "\u001b[32mSaved FeatureTable[Frequency] to: qza/table-l6.qza\u001b[0m\n",
      "\u001b[?2004h(qiime2) "
     ]
    },
    {
     "ename": "",
     "evalue": "1",
     "output_type": "error",
     "traceback": []
    }
   ],
   "source": [
    "# collapse feature table at genus level(6)\n",
    "qiime taxa collapse \\\n",
    "  --i-table qza/table.qza \\\n",
    "  --i-taxonomy qza/taxonomy.qza \\\n",
    "  --p-level 6 \\\n",
    "  --o-collapsed-table qza/table-l6.qza"
   ]
  },
  {
   "cell_type": "markdown",
   "id": "e07c8871",
   "metadata": {},
   "source": [
    "[Analysis of microbial compositions: a review of normalization and differential abundance analysis](https://www.nature.com/articles/s41522-020-00160-w) mentions that ANCOM and ANCOMBC fail to control FDR at sample sizes <10.\n",
    "That's why we took min sample size 10."
   ]
  },
  {
   "cell_type": "code",
   "execution_count": 28,
   "id": "13ac2a86",
   "metadata": {
    "ExecuteTime": {
     "end_time": "2021-10-16T17:15:23.473970Z",
     "start_time": "2021-10-16T17:15:18.845021Z"
    }
   },
   "outputs": [
    {
     "name": "stdout",
     "output_type": "stream",
     "text": [
      "\u001b[32mSaved FeatureTable[Frequency] to: qza/filtered-feature-table-ancom.qza\u001b[0m\n",
      "\u001b[?2004h(qiime2) "
     ]
    },
    {
     "ename": "",
     "evalue": "1",
     "output_type": "error",
     "traceback": []
    }
   ],
   "source": [
    "# Filtering the very low abundance features\n",
    "qiime feature-table filter-features \\\n",
    "  --i-table qza/table-l6.qza \\\n",
    "  --p-min-frequency 26 \\\n",
    "  --p-min-samples 10 \\\n",
    "  --o-filtered-table qza/filtered-feature-table-ancom.qza"
   ]
  },
  {
   "cell_type": "markdown",
   "id": "646d0256-dee3-434f-8c14-d963888c155f",
   "metadata": {},
   "source": [
    "ANCOM operates on a `FeatureTable[Composition]` QIIME 2 artifact, which is based on frequencies of features on a per-sample basis, **but cannot tolerate frequencies of zero.** To build the composition artifact, a `FeatureTable[Frequency]` artifact must be provided to **add-pseudocount** (an imputation method), which will produce the `FeatureTable[Composition] artifact`."
   ]
  },
  {
   "cell_type": "code",
   "execution_count": 29,
   "id": "f2e922ce",
   "metadata": {
    "ExecuteTime": {
     "end_time": "2021-10-16T17:15:36.004278Z",
     "start_time": "2021-10-16T17:15:31.490333Z"
    },
    "hide_input": false,
    "hide_output": true,
    "run_control": {
     "marked": false
    }
   },
   "outputs": [
    {
     "name": "stdout",
     "output_type": "stream",
     "text": [
      "\u001b[32mSaved FeatureTable[Composition] to: qza/comp-filtered-feature-table-ancom.qza\u001b[0m\n",
      "\u001b[?2004h(qiime2) "
     ]
    },
    {
     "ename": "",
     "evalue": "1",
     "output_type": "error",
     "traceback": []
    }
   ],
   "source": [
    "# add pseudocount and produce the FeatureTable[Composition] artifact.\n",
    "qiime composition add-pseudocount \\\n",
    "  --i-table qza/filtered-feature-table-ancom.qza \\\n",
    "  --o-composition-table qza/comp-filtered-feature-table-ancom.qza"
   ]
  },
  {
   "cell_type": "markdown",
   "id": "9f2be8b3-1da6-4bfb-8adc-8449876cda78",
   "metadata": {},
   "source": [
    "<font color = red>NB: In this case when I initially performed the **ANCOM** test on **Cohort** column, **No significant feature was found**. That's why I added Chakma - Non Chakma, Khiyan - Non Khiyan etc column to metadata (metadata_v2.tsv). This part was perfromed via R code. Please visit the **R_code.ipynb** to get the code.</font>"
   ]
  },
  {
   "cell_type": "markdown",
   "id": "2df9c8b0-8bd9-4a91-9eff-f2d7ab924eee",
   "metadata": {},
   "source": [
    "<font color = purple> Qiime's volcano plot is not very nice to present in paper. So, I will add them in a word file as supplementary file. Instead I will create comparable box plot for top abundant features. </font>"
   ]
  },
  {
   "cell_type": "markdown",
   "id": "19581aa2-224b-4a92-9a64-570bfc096c5d",
   "metadata": {},
   "source": [
    "<font color = brown> **Data preparation for group boxplot from ANCOM result is discussed after this calculation. So go down below for detail data preparation procedure** </font>"
   ]
  },
  {
   "cell_type": "code",
   "execution_count": 42,
   "id": "f9c537bb-d2f0-418b-b318-8123c23cc6ff",
   "metadata": {},
   "outputs": [
    {
     "name": "stdout",
     "output_type": "stream",
     "text": [
      "(qiime2) \u001b[32mSaved Visualization to: diffrential_abundance/ancom-Cohort.qzv\u001b[0m\n",
      "(qiime2) "
     ]
    },
    {
     "ename": "",
     "evalue": "1",
     "output_type": "error",
     "traceback": []
    }
   ],
   "source": [
    "# Differentially expressed feature in cohort\n",
    "qiime composition ancom \\\n",
    "  --i-table qza/comp-filtered-feature-table-ancom.qza \\\n",
    "  --m-metadata-file metadata_v2.tsv \\\n",
    "  --m-metadata-column Cohort \\\n",
    "  --verbose \\\n",
    "  --o-visualization diffrential_abundance/ancom-Cohort.qzv"
   ]
  },
  {
   "cell_type": "markdown",
   "id": "01f9f447-efdb-43b8-86c6-c46355f80804",
   "metadata": {
    "tags": []
   },
   "source": [
    "### Perform differential abundance based on Cohort"
   ]
  },
  {
   "cell_type": "markdown",
   "id": "f170f625",
   "metadata": {},
   "source": [
    "**<span class=\"burk\"><span class=\"mark\">Chakma</span></span>**"
   ]
  },
  {
   "cell_type": "code",
   "execution_count": 43,
   "id": "a935bc56-f2a6-4501-9194-b4d3813bcbeb",
   "metadata": {
    "ExecuteTime": {
     "end_time": "2021-10-16T17:16:50.114667Z",
     "start_time": "2021-10-16T17:16:43.284093Z"
    },
    "hide_input": false,
    "hide_output": true,
    "run_control": {
     "marked": false
    }
   },
   "outputs": [
    {
     "name": "stdout",
     "output_type": "stream",
     "text": [
      "(qiime2) \u001b[32mSaved Visualization to: diffrential_abundance/ancom-Chakma.qzv\u001b[0m\n",
      "(qiime2) "
     ]
    },
    {
     "ename": "",
     "evalue": "1",
     "output_type": "error",
     "traceback": []
    }
   ],
   "source": [
    "# Differentially expressed feature in chakma\n",
    "qiime composition ancom \\\n",
    "  --i-table qza/comp-filtered-feature-table-ancom.qza \\\n",
    "  --m-metadata-file metadata_v2.tsv \\\n",
    "  --m-metadata-column Chakma \\\n",
    "  --verbose \\\n",
    "  --o-visualization diffrential_abundance/ancom-Chakma.qzv"
   ]
  },
  {
   "cell_type": "markdown",
   "id": "744d3591",
   "metadata": {},
   "source": [
    "<span class=\"mark\">**Khiyan**</span>"
   ]
  },
  {
   "cell_type": "code",
   "execution_count": 44,
   "id": "46735836",
   "metadata": {
    "ExecuteTime": {
     "end_time": "2021-10-16T17:18:19.344309Z",
     "start_time": "2021-10-16T17:18:12.692812Z"
    },
    "hide_input": false,
    "hide_output": true,
    "run_control": {
     "marked": false
    }
   },
   "outputs": [
    {
     "name": "stdout",
     "output_type": "stream",
     "text": [
      "(qiime2) \u001b[32mSaved Visualization to: diffrential_abundance/ancom-Khiyan.qzv\u001b[0m\n",
      "(qiime2) "
     ]
    },
    {
     "ename": "",
     "evalue": "1",
     "output_type": "error",
     "traceback": []
    }
   ],
   "source": [
    "# Differentially expressed feature in Khiyan\n",
    "qiime composition ancom \\\n",
    "  --i-table qza/comp-filtered-feature-table-ancom.qza \\\n",
    "  --m-metadata-file metadata_v2.tsv \\\n",
    "  --m-metadata-column Khiyan \\\n",
    "  --verbose \\\n",
    "  --o-visualization diffrential_abundance/ancom-Khiyan.qzv"
   ]
  },
  {
   "cell_type": "markdown",
   "id": "f856a46d",
   "metadata": {},
   "source": [
    "**<span class=\"mark\">Tripura</span>**"
   ]
  },
  {
   "cell_type": "code",
   "execution_count": 45,
   "id": "f51d162e-bdfa-4f72-8128-b7d3d7b1a5b3",
   "metadata": {
    "ExecuteTime": {
     "end_time": "2021-10-16T17:18:31.845375Z",
     "start_time": "2021-10-16T17:18:25.150650Z"
    },
    "run_control": {
     "marked": false
    }
   },
   "outputs": [
    {
     "name": "stdout",
     "output_type": "stream",
     "text": [
      "(qiime2) \u001b[32mSaved Visualization to: diffrential_abundance/ancom-Tripura.qzv\u001b[0m\n",
      "(qiime2) "
     ]
    },
    {
     "ename": "",
     "evalue": "1",
     "output_type": "error",
     "traceback": []
    }
   ],
   "source": [
    "# Differentially expressed feature in Tripura\n",
    "qiime composition ancom \\\n",
    "  --i-table qza/comp-filtered-feature-table-ancom.qza \\\n",
    "  --m-metadata-file metadata_v2.tsv \\\n",
    "  --m-metadata-column Tripura \\\n",
    "  --verbose \\\n",
    "  --o-visualization diffrential_abundance/ancom-Tripura.qzv"
   ]
  },
  {
   "cell_type": "markdown",
   "id": "f37c5da3",
   "metadata": {},
   "source": [
    "**<span class=\"mark\">Marma</span>**"
   ]
  },
  {
   "cell_type": "code",
   "execution_count": 46,
   "id": "117afcb8",
   "metadata": {
    "ExecuteTime": {
     "end_time": "2021-10-16T17:18:43.634262Z",
     "start_time": "2021-10-16T17:18:36.758753Z"
    }
   },
   "outputs": [
    {
     "name": "stdout",
     "output_type": "stream",
     "text": [
      "(qiime2) \u001b[32mSaved Visualization to: diffrential_abundance/ancom-Marma.qzv\u001b[0m\n",
      "(qiime2) "
     ]
    },
    {
     "ename": "",
     "evalue": "1",
     "output_type": "error",
     "traceback": []
    }
   ],
   "source": [
    "# Differentially expressed feature in Marma\n",
    "qiime composition ancom \\\n",
    "  --i-table qza/comp-filtered-feature-table-ancom.qza \\\n",
    "  --m-metadata-file metadata_v2.tsv \\\n",
    "  --m-metadata-column Marma \\\n",
    "  --verbose \\\n",
    "  --o-visualization diffrential_abundance/ancom-Marma.qzv"
   ]
  },
  {
   "cell_type": "markdown",
   "id": "b91618d4",
   "metadata": {
    "jp-MarkdownHeadingCollapsed": true,
    "tags": []
   },
   "source": [
    "### Now, we will perform differential abundance test based on different <span class=\"girk\">diseases</span>."
   ]
  },
  {
   "cell_type": "code",
   "execution_count": 51,
   "id": "b23648f4",
   "metadata": {
    "ExecuteTime": {
     "end_time": "2021-09-26T14:10:50.805359Z",
     "start_time": "2021-09-26T14:10:50.692519Z"
    },
    "collapsed": true,
    "jupyter": {
     "outputs_hidden": true
    }
   },
   "outputs": [
    {
     "name": "stdout",
     "output_type": "stream",
     "text": [
      "Sample ID\tSex\tAge_group\tCohort\tHTN\tGastric_issues\tDM\tControl\tArthritis\tChakma\tKhiyan\tMarma\tTripura\n",
      "BC1\tFemale\tMiddle-aged\tChakma\tYes\tNo\tNo\tNo\tNo\tChakma\tNon-Khiyan\tNon-Marma\tNon-Tripura\n",
      "BC10\tFemale\tMiddle-aged\tChakma\tYes\tYes\tNo\tNo\tNo\tChakma\tNon-Khiyan\tNon-Marma\tNon-Tripura\n",
      "BC11\tFemale\tElder\tChakma\tYes\tNo\tNo\tNo\tNo\tChakma\tNon-Khiyan\tNon-Marma\tNon-Tripura\n",
      "BC12\tFemale\tAged\tChakma\tYes\tNo\tNo\tNo\tNo\tChakma\tNon-Khiyan\tNon-Marma\tNon-Tripura\n",
      "BC13\tMale\tMiddle-aged\tChakma\tNo\tNo\tNo\tYes\tNo\tChakma\tNon-Khiyan\tNon-Marma\tNon-Tripura\n",
      "BC14\tFemale\tElder\tChakma\tYes\tYes\tNo\tNo\tNo\tChakma\tNon-Khiyan\tNon-Marma\tNon-Tripura\n",
      "BC15\tFemale\tAged\tChakma\tNo\tNo\tNo\tNo\tYes\tChakma\tNon-Khiyan\tNon-Marma\tNon-Tripura\n",
      "BC2\tFemale\tMiddle-aged\tChakma\tYes\tNo\tNo\tNo\tNo\tChakma\tNon-Khiyan\tNon-Marma\tNon-Tripura\n",
      "BC3\tFemale\tAged\tChakma\tYes\tNo\tNo\tNo\tYes\tChakma\tNon-Khiyan\tNon-Marma\tNon-Tripura\n",
      "\u001b[?2004h(qiime2) "
     ]
    },
    {
     "ename": "",
     "evalue": "1",
     "output_type": "error",
     "traceback": []
    }
   ],
   "source": [
    "head metadata_v2.tsv"
   ]
  },
  {
   "cell_type": "markdown",
   "id": "4ded3216",
   "metadata": {},
   "source": [
    "**<span class=\"mark\">HTN</span>**"
   ]
  },
  {
   "cell_type": "code",
   "execution_count": 34,
   "id": "e7560a96",
   "metadata": {
    "ExecuteTime": {
     "end_time": "2021-10-16T17:18:55.960223Z",
     "start_time": "2021-10-16T17:18:49.009929Z"
    }
   },
   "outputs": [
    {
     "name": "stdout",
     "output_type": "stream",
     "text": [
      "\u001b[32mSaved Visualization to: diffrential_abundance/ancom-HTN-2.qzv\u001b[0m\n",
      "\u001b[?2004h(qiime2) "
     ]
    },
    {
     "ename": "",
     "evalue": "1",
     "output_type": "error",
     "traceback": []
    }
   ],
   "source": [
    "# Differentially expressed feature in HTN\n",
    "qiime composition ancom \\\n",
    "  --i-table qza/comp-filtered-feature-table-ancom.qza \\\n",
    "  --m-metadata-file metadata_v2.tsv \\\n",
    "  --m-metadata-column HTN \\\n",
    "  --verbose \\\n",
    "  --o-visualization diffrential_abundance/ancom-HTN-2.qzv"
   ]
  },
  {
   "cell_type": "markdown",
   "id": "71fd0404",
   "metadata": {},
   "source": [
    "**<span class=\"mark\">Gastric_issues</span>**"
   ]
  },
  {
   "cell_type": "code",
   "execution_count": 35,
   "id": "75e060bd",
   "metadata": {
    "ExecuteTime": {
     "end_time": "2021-10-16T17:19:05.037171Z",
     "start_time": "2021-10-16T17:18:58.102553Z"
    }
   },
   "outputs": [
    {
     "name": "stdout",
     "output_type": "stream",
     "text": [
      "\u001b[32mSaved Visualization to: diffrential_abundance/ancom-Gastric_issues-2.qzv\u001b[0m\n",
      "\u001b[?2004h(qiime2) "
     ]
    },
    {
     "ename": "",
     "evalue": "1",
     "output_type": "error",
     "traceback": []
    }
   ],
   "source": [
    "# Differentially expressed feature in Gastric_issues\n",
    "qiime composition ancom \\\n",
    "  --i-table qza/comp-filtered-feature-table-ancom.qza \\\n",
    "  --m-metadata-file metadata_v2.tsv \\\n",
    "  --m-metadata-column Gastric_issues \\\n",
    "  --verbose \\\n",
    "  --o-visualization diffrential_abundance/ancom-Gastric_issues-2.qzv"
   ]
  },
  {
   "cell_type": "markdown",
   "id": "5a12ee4c",
   "metadata": {},
   "source": [
    "**<span class=\"mark\">DM</span>**"
   ]
  },
  {
   "cell_type": "code",
   "execution_count": 36,
   "id": "21453f1d",
   "metadata": {
    "ExecuteTime": {
     "end_time": "2021-10-16T17:19:14.017499Z",
     "start_time": "2021-10-16T17:19:06.677163Z"
    }
   },
   "outputs": [
    {
     "name": "stdout",
     "output_type": "stream",
     "text": [
      "\u001b[32mSaved Visualization to: diffrential_abundance/ancom-DM-2.qzv\u001b[0m\n",
      "\u001b[?2004h(qiime2) "
     ]
    },
    {
     "ename": "",
     "evalue": "1",
     "output_type": "error",
     "traceback": []
    }
   ],
   "source": [
    "# Differentially expressed feature in DM\n",
    "qiime composition ancom \\\n",
    "  --i-table qza/comp-filtered-feature-table-ancom.qza \\\n",
    "  --m-metadata-file metadata_v2.tsv \\\n",
    "  --m-metadata-column DM \\\n",
    "  --verbose \\\n",
    "  --o-visualization diffrential_abundance/ancom-DM-2.qzv"
   ]
  },
  {
   "cell_type": "markdown",
   "id": "8d42cb1c",
   "metadata": {},
   "source": [
    "**<span class=\"mark\">Arthritis</span>**"
   ]
  },
  {
   "cell_type": "code",
   "execution_count": 37,
   "id": "651ba874",
   "metadata": {
    "ExecuteTime": {
     "end_time": "2021-10-16T17:19:23.524667Z",
     "start_time": "2021-10-16T17:19:16.699226Z"
    }
   },
   "outputs": [
    {
     "name": "stdout",
     "output_type": "stream",
     "text": [
      "\u001b[32mSaved Visualization to: diffrential_abundance/ancom-Arthritis-2.qzv\u001b[0m\n",
      "\u001b[?2004h(qiime2) "
     ]
    },
    {
     "ename": "",
     "evalue": "1",
     "output_type": "error",
     "traceback": []
    }
   ],
   "source": [
    "# Differentially expressed feature in Arthritis\n",
    "qiime composition ancom \\\n",
    "  --i-table qza/comp-filtered-feature-table-ancom.qza \\\n",
    "  --m-metadata-file metadata_v2.tsv \\\n",
    "  --m-metadata-column Arthritis \\\n",
    "  --verbose \\\n",
    "  --o-visualization diffrential_abundance/ancom-Arthritis-2.qzv"
   ]
  },
  {
   "cell_type": "markdown",
   "id": "ad0576b6",
   "metadata": {},
   "source": [
    "**<span class=\"mark\">Control</span>**"
   ]
  },
  {
   "cell_type": "code",
   "execution_count": 38,
   "id": "8edc2969",
   "metadata": {
    "ExecuteTime": {
     "end_time": "2021-10-16T17:19:33.468387Z",
     "start_time": "2021-10-16T17:19:26.586746Z"
    }
   },
   "outputs": [
    {
     "name": "stdout",
     "output_type": "stream",
     "text": [
      "\u001b[32mSaved Visualization to: diffrential_abundance/ancom-Control-2.qzv\u001b[0m\n",
      "\u001b[?2004h(qiime2) "
     ]
    },
    {
     "ename": "",
     "evalue": "1",
     "output_type": "error",
     "traceback": []
    }
   ],
   "source": [
    "# Differentially expressed feature in Control\n",
    "qiime composition ancom \\\n",
    "  --i-table qza/comp-filtered-feature-table-ancom.qza \\\n",
    "  --m-metadata-file metadata_v2.tsv \\\n",
    "  --m-metadata-column Control \\\n",
    "  --verbose \\\n",
    "  --o-visualization diffrential_abundance/ancom-Control-2.qzv"
   ]
  },
  {
   "cell_type": "markdown",
   "id": "e3cbe3e6",
   "metadata": {
    "ExecuteTime": {
     "end_time": "2021-09-26T14:22:06.371710Z",
     "start_time": "2021-09-26T14:22:06.267527Z"
    },
    "jp-MarkdownHeadingCollapsed": true,
    "tags": []
   },
   "source": [
    "### Now, we will perform differential abundance test based on Sex and Age_group"
   ]
  },
  {
   "cell_type": "markdown",
   "id": "be830fbb",
   "metadata": {},
   "source": [
    "**<span class=\"girk\">Based on Sex</span>**"
   ]
  },
  {
   "cell_type": "code",
   "execution_count": 39,
   "id": "372f5031",
   "metadata": {
    "ExecuteTime": {
     "end_time": "2021-10-16T17:19:45.439886Z",
     "start_time": "2021-10-16T17:19:38.767044Z"
    }
   },
   "outputs": [
    {
     "name": "stdout",
     "output_type": "stream",
     "text": [
      "\u001b[32mSaved Visualization to: diffrential_abundance/ancom-Sex-2.qzv\u001b[0m\n",
      "\u001b[?2004h(qiime2) "
     ]
    },
    {
     "ename": "",
     "evalue": "1",
     "output_type": "error",
     "traceback": []
    }
   ],
   "source": [
    "# Differentially expressed feature in Sex\n",
    "qiime composition ancom \\\n",
    "  --i-table qza/comp-filtered-feature-table-ancom.qza \\\n",
    "  --m-metadata-file metadata_v2.tsv \\\n",
    "  --m-metadata-column Sex \\\n",
    "  --verbose \\\n",
    "  --o-visualization diffrential_abundance/ancom-Sex-2.qzv"
   ]
  },
  {
   "cell_type": "markdown",
   "id": "00bcf99d",
   "metadata": {},
   "source": [
    "**<span class=\"mark\">Based on Age_group</span>**"
   ]
  },
  {
   "cell_type": "code",
   "execution_count": 47,
   "id": "9bfaca36",
   "metadata": {},
   "outputs": [
    {
     "name": "stdout",
     "output_type": "stream",
     "text": [
      "(qiime2) \u001b[32mSaved Visualization to: diffrential_abundance/ancom-age-group.qzv\u001b[0m\n",
      "(qiime2) "
     ]
    },
    {
     "ename": "",
     "evalue": "1",
     "output_type": "error",
     "traceback": []
    }
   ],
   "source": [
    "# Differentially expressed feature in Age_group\n",
    "qiime composition ancom \\\n",
    "  --i-table qza/comp-filtered-feature-table-ancom.qza \\\n",
    "  --m-metadata-file metadata_v2.tsv \\\n",
    "  --m-metadata-column Age_group \\\n",
    "  --verbose \\\n",
    "  --o-visualization diffrential_abundance/ancom-age-group.qzv"
   ]
  },
  {
   "cell_type": "markdown",
   "id": "5eb3c9aa-57b4-43fc-b9e4-1d7f4a428d76",
   "metadata": {
    "tags": []
   },
   "source": [
    "### Data preparation for creating group boxplot in R"
   ]
  },
  {
   "cell_type": "markdown",
   "id": "9f3d2b91-9a17-4930-9dc7-11574e446649",
   "metadata": {},
   "source": [
    "Before importing differential abundance data into R, first I will prepare the dataset."
   ]
  },
  {
   "cell_type": "markdown",
   "id": "b8b9203f-06af-49ff-850e-c4e5c5774474",
   "metadata": {},
   "source": [
    "When we visualize the ancom **visualization** file along with a volcano plot we can see **ANCOM statistical results** and **Percentile abundances of features by group** list also."
   ]
  },
  {
   "cell_type": "markdown",
   "id": "8c2ed0d1-ae04-47af-bf0d-64e31838c3e7",
   "metadata": {},
   "source": [
    "From **Percentile abundances of features by group** list we will take only those features whose **W value** was <font color = green>grater than zero </font> in **ANCOM statistical results** list. We will call these features as <font color = red> **top abundant features** </font> Then we will generate group boxplot as like following example."
   ]
  },
  {
   "cell_type": "markdown",
   "id": "45fa572f-23f0-4a65-bdee-37bcbef66a20",
   "metadata": {},
   "source": [
    "1. First download **ANCOM statistical results** as tsv file, open it in **libreoffice calc**, from feature name column copy only the name of **top abundant features**. Then pase it in text file (let's say filename is **genus.txt**)"
   ]
  },
  {
   "cell_type": "markdown",
   "id": "6507c477-6b38-49ad-80e4-a34726e36a66",
   "metadata": {},
   "source": [
    "2. Add two blank line at the top of **genus.txt** file and write following two words; **Percentile** and **Group**. So that we can **grep** the header line also. We will use the names of this **genus** file as pattern to search **top abundant features** from ***Percentile abundances of features by group*** file.\n"
   ]
  },
  {
   "cell_type": "markdown",
   "id": "81da0163-c7ea-415e-b368-1e6edd539a6d",
   "metadata": {},
   "source": [
    " 3. Download **Percentile abundances of features by group** file in tsv format give it a name (let's say **percentile_abundance.tsv**)"
   ]
  },
  {
   "cell_type": "markdown",
   "id": "ca800c84-8554-4f8b-baaa-e55ec659117c",
   "metadata": {},
   "source": [
    "4. Then run the following code in the terminal:\n",
    "\n",
    "    `grep -w -f genus.txt percentile_abundance.tsv > top_features.tsv`"
   ]
  },
  {
   "cell_type": "markdown",
   "id": "e0f49fd6-a78a-44f1-b492-d12719f32de4",
   "metadata": {},
   "source": [
    "5. This **top_features.tsv** contains percintile abundance of only **top features**. But the name of features contain full taxnomic lineage.\n",
    "\n",
    "`eg.k__Bacteria;p__Bacteroidetes;c__Bacteroidia;o__Bacteroidales;f__Bacteroidaceae;g__Bacteroides`\n",
    "\n",
    "This will create the plot looking ugly. So we will keep only the last taxa name of each features."
   ]
  },
  {
   "cell_type": "markdown",
   "id": "288b2a1d-0cd9-48be-b751-2beb91f4b5a6",
   "metadata": {},
   "source": [
    "6. To do so, first copy the feature names in a txt file ( let's say **feature_names.txt**), then run the following code:\n",
    "\n",
    "    `cat feature_names.txt | cut -d \";\" -f 6 > genus_names.txt`"
   ]
  },
  {
   "cell_type": "markdown",
   "id": "32c133a4-7095-43c2-a651-7afb21aff421",
   "metadata": {},
   "source": [
    "7. Then copy the names from **genus_names.txt** file and paste it in **top_features.tsv** file."
   ]
  },
  {
   "cell_type": "markdown",
   "id": "24ac573f-3f93-46c2-9f1c-af3091ac659d",
   "metadata": {},
   "source": [
    "<font color = blue > Thus we will create initial dataset suitable for R code. </font>\n",
    "\n",
    "<font color = red> But, we will also need to do more data transformation in R to create the suitable boxplot. See, **Differential Abundance Plot** section in **R_codes.ipynb** notebook."
   ]
  },
  {
   "cell_type": "code",
   "execution_count": null,
   "id": "b5ed9680-4085-43d5-9960-c579b0217ebd",
   "metadata": {},
   "outputs": [],
   "source": []
  }
 ],
 "metadata": {
  "kernelspec": {
   "display_name": "Bash",
   "language": "bash",
   "name": "bash"
  },
  "language_info": {
   "codemirror_mode": "shell",
   "file_extension": ".sh",
   "mimetype": "text/x-sh",
   "name": "bash"
  },
  "toc": {
   "base_numbering": 1,
   "nav_menu": {},
   "number_sections": true,
   "sideBar": true,
   "skip_h1_title": false,
   "title_cell": "Table of Contents",
   "title_sidebar": "Contents",
   "toc_cell": false,
   "toc_position": {
    "height": "calc(100% - 180px)",
    "left": "10px",
    "top": "150px",
    "width": "280px"
   },
   "toc_section_display": true,
   "toc_window_display": true
  },
  "toc-autonumbering": false,
  "toc-showtags": false,
  "widgets": {
   "application/vnd.jupyter.widget-state+json": {
    "state": {},
    "version_major": 2,
    "version_minor": 0
   }
  }
 },
 "nbformat": 4,
 "nbformat_minor": 5
}
