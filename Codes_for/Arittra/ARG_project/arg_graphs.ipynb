{
 "cells": [
  {
   "cell_type": "code",
   "execution_count": null,
   "id": "ceff685c-2239-4d2f-a973-c23679f04280",
   "metadata": {},
   "outputs": [],
   "source": [
    "args <- read.csv(\"ARGs_stats.csv\")\n",
    "head(args)"
   ]
  },
  {
   "cell_type": "code",
   "execution_count": null,
   "id": "81526e16-66e7-4760-88e2-65bb1da300be",
   "metadata": {},
   "outputs": [],
   "source": [
    "library(stringr)"
   ]
  },
  {
   "cell_type": "markdown",
   "id": "23583b44-bfe7-4e57-9d26-197dda0a05d8",
   "metadata": {},
   "source": [
    "### Extract the ARG gene"
   ]
  },
  {
   "cell_type": "code",
   "execution_count": null,
   "id": "353f8947-e8ef-4f5e-bcb5-b5662ae489a9",
   "metadata": {},
   "outputs": [],
   "source": [
    "# Take only the ARG gene from main dataframe\n",
    "colgene <- seq(1, 96, by =3)\n",
    "args_gene <- args[, colgene]\n",
    "\n",
    "# Change column names replacing \"-GENE\"\n",
    "gene_colnames <- colnames(args_gene)\n",
    "gene_colnames2 <- str_replace(gene_colnames, \"_GENE\", \"\")\n",
    "\n",
    "# Replace column names\n",
    "colnames(args_gene) <- gene_colnames2\n",
    "head(args_gene)"
   ]
  },
  {
   "cell_type": "markdown",
   "id": "e215c14e-7754-4ba6-84aa-becfb05ef060",
   "metadata": {},
   "source": [
    "### Extract plasmid genes"
   ]
  },
  {
   "cell_type": "code",
   "execution_count": null,
   "id": "ebc83f94-9cd3-4fbd-925a-0ead6042ecb1",
   "metadata": {},
   "outputs": [],
   "source": [
    "# Take only the pGENE from main dataframe\n",
    "colpgene <- seq(2, 96, by =3)\n",
    "args_pgene <- args[, colpgene]\n",
    "\n",
    "\n",
    "# Change column names replacing \"-pGENE\"\n",
    "pgene_colnames <- colnames(args_pgene)\n",
    "pgene_colnames2 <- str_replace(pgene_colnames, \"_pGENE\", \"\")\n",
    "\n",
    "\n",
    "# Replace column names\n",
    "colnames(args_pgene) <- pgene_colnames2\n",
    "head(args_pgene)"
   ]
  },
  {
   "cell_type": "markdown",
   "id": "a7ce8efd-776e-4060-b9c6-9585515fc3a4",
   "metadata": {},
   "source": [
    "### Extract vGENE"
   ]
  },
  {
   "cell_type": "code",
   "execution_count": null,
   "id": "ce1122d1-a330-4fef-897c-c6ea4ad9a0ba",
   "metadata": {},
   "outputs": [],
   "source": [
    "# Take only the vGENE from main dataframe\n",
    "colvgene <- seq(3, 96, by =3)\n",
    "args_vgene <- args[, colvgene]\n",
    "\n",
    "# Change column names replacing \"-vGENE\"\n",
    "vgene_colnames <- colnames(args_vgene)\n",
    "vgene_colnames2 <- str_replace(vgene_colnames, \"_vGENE\", \"\")\n",
    "\n",
    "# Replace column names\n",
    "colnames(args_vgene) <- vgene_colnames2\n",
    "head(args_vgene)\n"
   ]
  },
  {
   "cell_type": "markdown",
   "id": "8eb6545e-3da0-4ae9-8306-1233f0a86c79",
   "metadata": {},
   "source": [
    "## Count the gene number"
   ]
  },
  {
   "cell_type": "code",
   "execution_count": null,
   "id": "478d0e34-e1a1-434e-9322-f58c1c3fc1a9",
   "metadata": {},
   "outputs": [],
   "source": [
    "library(dplyr)\n",
    "library(tidyr)"
   ]
  },
  {
   "cell_type": "code",
   "execution_count": null,
   "id": "7b921c97-a239-4251-b00c-f0923bd55eec",
   "metadata": {
    "tags": []
   },
   "outputs": [],
   "source": [
    "# Count the gene number of ARG genes\n",
    "gene <- args_gene %>%\n",
    "   pivot_longer(everything(), values_drop_na = TRUE, values_to = 'Gene') %>%\n",
    "   count(name, Gene) %>% \n",
    "   pivot_wider(names_from = name, values_from = n, values_fill = 0)\n",
    "head(gene)"
   ]
  },
  {
   "cell_type": "code",
   "execution_count": null,
   "id": "7f03be91-6dfc-4541-a95c-898d539eb7ca",
   "metadata": {
    "tags": []
   },
   "outputs": [],
   "source": [
    "# Count the gene number of pGENE\n",
    "p_gene <- args_pgene %>%\n",
    "   pivot_longer(everything(), values_drop_na = TRUE, values_to = 'Gene') %>%\n",
    "   count(name, Gene) %>% \n",
    "   pivot_wider(names_from = name, values_from = n, values_fill = 0)\n",
    "head(p_gene)"
   ]
  },
  {
   "cell_type": "code",
   "execution_count": null,
   "id": "da3b09f3-fdcc-49c8-b6b9-0136280b8bf7",
   "metadata": {
    "tags": []
   },
   "outputs": [],
   "source": [
    "# Count the gene number of vGENE\n",
    "v_gene <- args_vgene %>%\n",
    "   pivot_longer(everything(), values_drop_na = TRUE, values_to = 'Gene') %>%\n",
    "   count(name, Gene) %>% \n",
    "   pivot_wider(names_from = name, values_from = n, values_fill = 0)\n",
    "\n",
    "head(v_gene)"
   ]
  },
  {
   "cell_type": "markdown",
   "id": "938cd808-84aa-44b3-8fd9-3f884f8eaee3",
   "metadata": {},
   "source": [
    "## Create heatmap"
   ]
  },
  {
   "cell_type": "code",
   "execution_count": null,
   "id": "8b17a058-45a0-4d64-9475-72a2d212a792",
   "metadata": {},
   "outputs": [],
   "source": [
    "options(repr.plot.width=7, repr.plot.height=6, repr.plot.res = 600)"
   ]
  },
  {
   "cell_type": "code",
   "execution_count": null,
   "id": "f46c002d-8aea-4475-aa44-9d62c7af40c2",
   "metadata": {
    "tags": []
   },
   "outputs": [],
   "source": [
    "# For ARG gene\n",
    "\n",
    "# convert the count tibble as dataframe\n",
    "gene2 <- as.data.frame(gene)\n",
    "\n",
    "# Remove the blank cell count\n",
    "gene3 <- gene2[-1,]\n",
    "\n",
    "# Add first column as rownames\n",
    "gene4 <- data.frame(gene3[,-1], row.names = gene3[,1])\n",
    "\n",
    "# Convert the dataframe as matrix\n",
    "gene5 <- as.matrix(gene4)\n",
    "\n",
    "\n",
    "# Set the color\n",
    "library(RColorBrewer)\n",
    "coul <- colorRampPalette(brewer.pal(8, \"YlOrBr\"))(25)\n",
    "\n",
    "# Create the heatmap and save as png image\n",
    "png(file=\"images/gene.png\",\n",
    "       width = 4000,\n",
    "       height = 3250,\n",
    "       res = 600)\n",
    "#plot\n",
    "heatmap(gene5, col = coul)\n",
    "\n",
    "dev.off()"
   ]
  },
  {
   "cell_type": "code",
   "execution_count": null,
   "id": "a574cc58-8397-4790-bbdd-0cff24cb1e4b",
   "metadata": {
    "tags": []
   },
   "outputs": [],
   "source": [
    "# For p_GENE\n",
    "\n",
    "# convert the count tibble as dataframe\n",
    "gene2 <- as.data.frame(p_gene)\n",
    "\n",
    "# Remove the blank cell count\n",
    "gene3 <- gene2[-1,]\n",
    "\n",
    "# Add first column as rownames\n",
    "gene4 <- data.frame(gene3[,-1], row.names = gene3[,1])\n",
    "\n",
    "# Convert the dataframe as matrix\n",
    "gene5 <- as.matrix(gene4)\n",
    "\n",
    "\n",
    "# Set the color\n",
    "library(RColorBrewer)\n",
    "coul <- colorRampPalette(brewer.pal(8, \"Purples\"))(25)\n",
    "\n",
    "\n",
    "# Create the heatmap and save as png image\n",
    "png(file=\"images/p_gene.png\",\n",
    "       width = 4000,\n",
    "       height = 3250,\n",
    "       res = 600)\n",
    "#plot\n",
    "heatmap(gene5, col = coul)\n",
    "\n",
    "dev.off()"
   ]
  },
  {
   "cell_type": "code",
   "execution_count": null,
   "id": "1aeb2a5a-2a91-4e91-81da-7ba7c03c5515",
   "metadata": {
    "tags": []
   },
   "outputs": [],
   "source": [
    "# For v_GENE\n",
    "\n",
    "# convert the count tibble as dataframe\n",
    "gene2 <- as.data.frame(v_gene)\n",
    "\n",
    "# Remove the blank cell count\n",
    "gene3 <- gene2[-1,]\n",
    "\n",
    "# Add first column as rownames\n",
    "gene4 <- data.frame(gene3[,-1], row.names = gene3[,1])\n",
    "\n",
    "# Convert the dataframe as matrix\n",
    "gene5 <- as.matrix(gene4)\n",
    "\n",
    "\n",
    "# Set the color\n",
    "library(RColorBrewer)\n",
    "coul <- colorRampPalette(brewer.pal(8, \"Blues\"))(25)\n",
    "\n",
    "\n",
    "# Create the heatmap and save as png image\n",
    "png(file=\"images/v_gene.png\",\n",
    "       width = 4000,\n",
    "       height = 3250,\n",
    "       res = 600)\n",
    "#plot\n",
    "heatmap(gene5, col = coul)\n",
    "\n",
    "dev.off()"
   ]
  },
  {
   "cell_type": "markdown",
   "id": "3d4b17e1-6eaa-49dc-a490-d16aa13ab7bd",
   "metadata": {},
   "source": [
    "## Abundance of Pathway"
   ]
  },
  {
   "cell_type": "code",
   "execution_count": null,
   "id": "1d939872-e337-4cb7-a5ab-992412f3e201",
   "metadata": {},
   "outputs": [],
   "source": [
    "# load the data\n",
    "pathways <- read.csv(\"pathway_for_R_ARG_project.csv\")\n",
    "head(pathways)"
   ]
  },
  {
   "cell_type": "code",
   "execution_count": null,
   "id": "e25333b4-630b-4d04-8c18-42349bc7c0be",
   "metadata": {
    "tags": []
   },
   "outputs": [],
   "source": [
    "pathways_t <- as.data.frame(t(pathways))\n",
    "colnames(pathways_t) <- pathways_t[1,]\n",
    "pathways_t <- pathways_t[-1,]\n",
    "\n",
    "\n",
    "# Transform the abundance into numeric\n",
    "i <- c(seq(2,22))\n",
    "pathways_t[ , i] <- apply(pathways_t[ , i], 2,            # Specify own function within apply\n",
    "                    function(x) as.numeric(as.character(x)))\n",
    "\n",
    "# Add 1 to every value\n",
    "pathways_t[ , i] <- apply(pathways_t[ , i], 2,            \n",
    "                          function(x) x+1)\n",
    "                           \n",
    "# transform to log\n",
    "pathways_t[ , i] <- apply(pathways_t[ , i], 2,            # Specify own function within apply\n",
    "                     function(x) log(x))\n",
    "                       \n",
    "head(pathways_t)"
   ]
  },
  {
   "cell_type": "code",
   "execution_count": null,
   "id": "4a95f808-1763-4e19-bf06-c07ada5ce2b3",
   "metadata": {},
   "outputs": [],
   "source": [
    "library(tidyr)"
   ]
  },
  {
   "cell_type": "code",
   "execution_count": null,
   "id": "1996076b-47db-47d1-ba78-661d715c1a9e",
   "metadata": {
    "tags": []
   },
   "outputs": [],
   "source": [
    "# Transform into long format\n",
    "long_pathways <- gather(pathways_t, pathways, coverage, \"Methicillin_resistance\":\"Carbapenem_resistance\", factor_key = TRUE)\n",
    "head(long_pathways)"
   ]
  },
  {
   "cell_type": "code",
   "execution_count": null,
   "id": "ed945926-8d39-466a-9991-069e3d9d9a90",
   "metadata": {},
   "outputs": [],
   "source": [
    "library(ggplot2)"
   ]
  },
  {
   "cell_type": "code",
   "execution_count": null,
   "id": "fb49f742-e008-4eb9-a80d-5003d6000764",
   "metadata": {},
   "outputs": [],
   "source": [
    "options(repr.plot.width = 8,\n",
    "        repr.plot.height = 3,\n",
    "        repr.plot.res = 600)\n",
    "\n",
    "# grouped boxplot\n",
    "pathways_plot <- ggplot(long_pathways, aes(x=pathways, y=coverage, fill=Group)) + \n",
    "    geom_boxplot(lwd=.3) +\n",
    "    theme_bw() +\n",
    "    ylab(\"Abundance in log scale\") +\n",
    "    theme(axis.title.x = element_blank(),\n",
    "          axis.text.x = element_text(angle = 50, vjust = 1, hjust = 1, size = 6, face = \"bold\"),\n",
    "          legend.key.size = unit(.5, 'cm'),\n",
    "          legend.key.height = unit(.5, 'cm'), \n",
    "          legend.key.width = unit(.5, 'cm'), \n",
    "          legend.title = element_text(size=6), \n",
    "          legend.text = element_text(size=5))\n",
    "\n",
    "pathways_plot"
   ]
  }
 ],
 "metadata": {
  "kernelspec": {
   "display_name": "R-4",
   "language": "R",
   "name": "ir-4"
  },
  "language_info": {
   "codemirror_mode": "r",
   "file_extension": ".r",
   "mimetype": "text/x-r-source",
   "name": "R",
   "pygments_lexer": "r",
   "version": "4.1.0"
  }
 },
 "nbformat": 4,
 "nbformat_minor": 5
}
